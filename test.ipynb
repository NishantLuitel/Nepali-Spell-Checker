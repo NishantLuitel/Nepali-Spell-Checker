{
 "cells": [
  {
   "cell_type": "code",
   "execution_count": 1,
   "id": "368d5764",
   "metadata": {},
   "outputs": [],
   "source": [
    "from utils import final_candidate_words"
   ]
  },
  {
   "cell_type": "code",
   "execution_count": 2,
   "id": "4da6abf2",
   "metadata": {},
   "outputs": [],
   "source": [
    "from torch import tensor"
   ]
  },
  {
   "cell_type": "code",
   "execution_count": 3,
   "id": "767f6df4",
   "metadata": {},
   "outputs": [
    {
     "data": {
      "text/plain": [
       "['पुस्तकालयबाट', 'पुस्तकलयबाटे']"
      ]
     },
     "execution_count": 3,
     "metadata": {},
     "output_type": "execute_result"
    }
   ],
   "source": [
    "final_candidate_words('पुस्तकलयबाटे',use_trie = True)"
   ]
  },
  {
   "cell_type": "code",
   "execution_count": 4,
   "id": "b702af20",
   "metadata": {},
   "outputs": [
    {
     "data": {
      "text/plain": [
       "['पुस्तकालयबाट', 'पुस्तकलयबाटे']"
      ]
     },
     "execution_count": 4,
     "metadata": {},
     "output_type": "execute_result"
    }
   ],
   "source": [
    "final_candidate_words('पुस्तकलयबाटे')"
   ]
  },
  {
   "cell_type": "code",
   "execution_count": 5,
   "id": "c98c720c",
   "metadata": {},
   "outputs": [
    {
     "data": {
      "text/plain": [
       "['ठुलो', 'ठूलो', 'थुलो', 'ठुला', 'थलो', 'धुलो', 'धूलो']"
      ]
     },
     "execution_count": 5,
     "metadata": {},
     "output_type": "execute_result"
    }
   ],
   "source": [
    "final_candidate_words('थुलो')"
   ]
  },
  {
   "cell_type": "code",
   "execution_count": 3,
   "id": "90a9d855",
   "metadata": {},
   "outputs": [],
   "source": [
    "sample_sentences = ['हरेक सेपालीले नेपामको संविधानक पालना गर्नुपर्छ ।' ,\n",
    "                    'म पुस्तकलयबाटे थुलो किताब पढ्न चाहन्छु ।',\n",
    "                    'तर उस समयमा पनि स्वस्थ राजनैतिक वातावरणको अभावले गर्दा देश विकासतर्फ विशेष प्रगति हुन  सकेन।',\n",
    "                   'नेपालमा आधुनिक रुपमा आर्थक विकाससम्बन्धी कार्यरू प्रारम्भ भएको हालै मात्र हो।',\n",
    "                   'हार धुनुहोस् र स्वास्थ जीवन जिउनुहोस्।',\n",
    "                   'जब प्रवीधिहरू एकीकृत हुन सूरु गर्छन् अर्थतन्त्र तथ सँस्कृति पनि निश्चितरूपमा विस्तारै एकीकृत हुने छ।',\n",
    "                   'उद्देयहरुमा पनि कुनै एक उद्देश्य पूर्ति नहुँदै अर्को नयाँ  उद्देश्यको रुपमा लिइने परम्परा बस्यो।',\n",
    "                   'लगानीकर्ताहरूको धयान तुरुन्त फेरियो , व्यापारीहरूले वताए ।',\n",
    "                    'अति धेरै हिज्जे गलती भएका शब्दहरू । तपाईँले टाइप गर्दा हिज्जे जाँच अक्षम पारयो ।',\n",
    "                    'लामो'\n",
    "                   ]"
   ]
  },
  {
   "cell_type": "markdown",
   "id": "2ce70d0a",
   "metadata": {},
   "source": [
    "# Testing with Knesner ney Language model"
   ]
  },
  {
   "cell_type": "code",
   "execution_count": null,
   "id": "9ca3dfcd",
   "metadata": {},
   "outputs": [],
   "source": [
    "from corrector import extract_choices,return_choices2"
   ]
  },
  {
   "cell_type": "code",
   "execution_count": null,
   "id": "bea39993",
   "metadata": {},
   "outputs": [],
   "source": [
    "import pickle\n",
    "with open('models/saved_model_knlm2','rb') as inputfile:\n",
    "    kn_lm2 = pickle.load(inputfile) "
   ]
  },
  {
   "cell_type": "code",
   "execution_count": 9,
   "id": "76cb2223",
   "metadata": {},
   "outputs": [
    {
     "data": {
      "text/plain": [
       "[['अति', 'ति', 'अनि', 'अलि', 'यति'],\n",
       " ['धेरै'],\n",
       " ['हिज्जे'],\n",
       " ['गलत'],\n",
       " ['भएको', 'भएका'],\n",
       " ['शब्दहरू', 'शब्दहरु'],\n",
       " ['।'],\n",
       " ['तपाईंले', 'तपाईँले'],\n",
       " ['लाइक', 'पाप', 'टाइप', 'पाइप', 'टाइम'],\n",
       " ['गर्दा', 'गर्दै'],\n",
       " ['हिज्जे', 'हिड्ने'],\n",
       " ['जाँच', 'पाँच'],\n",
       " ['अक्षम', 'कक्षमा', 'अक्षय', 'अक्षर', 'सक्षम', 'पक्षमा'],\n",
       " ['पारयो', 'पायो', 'पाइयो', 'पारा', 'परको', 'पारस'],\n",
       " ['।'],\n",
       " []]"
      ]
     },
     "execution_count": 9,
     "metadata": {},
     "output_type": "execute_result"
    }
   ],
   "source": [
    "extract_choices(sample_sentences[8],model=kn_lm2,p_lambda = 0.3,trie = True,likelihood = 'bm')"
   ]
  },
  {
   "cell_type": "code",
   "execution_count": 10,
   "id": "29a2d01f",
   "metadata": {},
   "outputs": [
    {
     "data": {
      "text/plain": [
       "[['म'],\n",
       " ['पुस्तकलयबाटे', 'पुस्तकालयबाट'],\n",
       " ['थुलो', 'ठुलो', 'धूलो', 'ठूलो', 'धुलो', 'थलो', 'ठुला'],\n",
       " ['किताब', 'पिसाब', 'हिसाब'],\n",
       " ['पढ्न'],\n",
       " ['चाहन्छु', 'चाहिन्छ', 'चाहन्छन्', 'चाहन्थे', 'चाहन्छौं', 'चाहन्छ'],\n",
       " ['।', 'ई', 'ओ', 'ः', 'अ'],\n",
       " []]"
      ]
     },
     "execution_count": 10,
     "metadata": {},
     "output_type": "execute_result"
    }
   ],
   "source": [
    "extract_choices(sample_sentences[1],model=kn_lm2,p_lambda = 0.0,trie = True,likelihood = 'default')"
   ]
  },
  {
   "cell_type": "code",
   "execution_count": 11,
   "id": "fda277aa",
   "metadata": {},
   "outputs": [],
   "source": [
    "wc,wp = return_choices2(sample_sentences[2],model=kn_lm2,p_lambda = 0.3,trie = True,likelihood = 'bm')"
   ]
  },
  {
   "cell_type": "code",
   "execution_count": 17,
   "id": "57618c0e",
   "metadata": {},
   "outputs": [
    {
     "data": {
      "text/plain": [
       "[[('तर', 'आस', 'समयमा', 'पनि', 'स्वस्थ'),\n",
       "  ('तर', 'उप', 'समयमा', 'पनि', 'स्वस्थ'),\n",
       "  ('तर', 'उस', 'समयमा', 'पनि', 'स्वस्थ'),\n",
       "  ('तर', 'स', 'समयमा', 'पनि', 'स्वस्थ'),\n",
       "  ('कर', 'उस', 'समयमा', 'पनि', 'स्वस्थ'),\n",
       "  ('तार', 'उस', 'समयमा', 'पनि', 'स्वस्थ'),\n",
       "  ('तर', 'आस', 'समयको', 'पनि', 'स्वस्थ'),\n",
       "  ('तर', 'आस', 'सहरमा', 'पनि', 'स्वस्थ'),\n",
       "  ('पर', 'स', 'समयमा', 'पनि', 'स्वस्थ'),\n",
       "  ('तर', 'आस', 'समयमा', 'पनि', 'अस्वस्थ')],\n",
       " [('स्वस्थ', 'राजनीतिक', 'वातावरणको', 'अभावले', 'गर्दा'),\n",
       "  ('अस्वस्थ', 'राजनीतिक', 'वातावरणको', 'अभावले', 'गर्दा'),\n",
       "  ('स्वस्थ', 'राजनैतिक', 'वातावरणको', 'अभावले', 'गर्दा'),\n",
       "  ('स्वस्थ', 'राजनैतिक', 'वातावरणमा', 'अभावले', 'गर्दा'),\n",
       "  ('अस्वस्थ', 'राजनीति', 'वातावरणको', 'अभावले', 'गर्दा'),\n",
       "  ('स्वस्थ', 'राजनीतिक', 'वातावरणमा', 'अभावले', 'गर्दा'),\n",
       "  ('स्वस्थ', 'राजनीतिक', 'वातावरणको', 'अभावमा', 'गर्दा'),\n",
       "  ('स्वस्थ', 'राजनीतिक', 'वातावरणको', 'अभावले', 'पर्दा'),\n",
       "  ('स्वस्थ', 'राजनीतिक', 'वातावरणको', 'अभावले', 'गर्न'),\n",
       "  ('अस्वस्थ', 'राजनीतिका', 'वातावरणको', 'अभावले', 'गर्दा')],\n",
       " [('गर्दा', 'देश', 'विकासतर्फ', 'विशेष', 'प्रगति'),\n",
       "  ('गर्दा', 'देश', 'विकासतर्फ', 'विशेष', 'प्रति'),\n",
       "  ('पर्दा', 'देश', 'विकासतर्फ', 'विशेष', 'प्रगति'),\n",
       "  ('गर्दै', 'देश', 'विकासतर्फ', 'विशेष', 'प्रगति'),\n",
       "  ('गर्दा', 'देश', 'विकासतर्फ', 'विशेष', 'प्रावि'),\n",
       "  ('गर्दा', 'देश', 'विकासतर्फ', 'विशेष', 'प्रालि'),\n",
       "  ('पर्दा', 'देश', 'विकासतर्फ', 'विशेष', 'प्रति'),\n",
       "  ('गर्दै', 'देश', 'विकासतर्फ', 'विशेष', 'प्रति'),\n",
       "  ('गर्दा', 'देश', 'विकासतर्फ', 'विशेष', 'प्रगतिको'),\n",
       "  ('गर्दा', 'दश', 'विकासतर्फ', 'विशेष', 'प्रगति')],\n",
       " [('प्रगति', 'हुन', 'सकेन', '।'),\n",
       "  ('प्रगति', 'हुन', 'सकेनन्', '।'),\n",
       "  ('प्रगति', 'हुने', 'सकेन', '।'),\n",
       "  ('प्रगति', 'हुन', 'सकिन', '।'),\n",
       "  ('प्रगति', 'हुन', 'सकेर', '।'),\n",
       "  ('प्रगति', 'हुन', 'सकेका', '।'),\n",
       "  ('प्रगति', 'हुनै', 'सकेन', '।'),\n",
       "  ('प्रगति', 'हुन', 'सकेमा', '।'),\n",
       "  ('प्रगति', 'हुन', 'सक्न', '।'),\n",
       "  ('प्रावि', 'हुन्', 'सकेन', '।')]]"
      ]
     },
     "execution_count": 17,
     "metadata": {},
     "output_type": "execute_result"
    }
   ],
   "source": [
    "wc"
   ]
  },
  {
   "cell_type": "code",
   "execution_count": 7,
   "id": "0c31100a",
   "metadata": {},
   "outputs": [
    {
     "data": {
      "text/plain": [
       "[([('तर', 'आस', 'समयमा', 'पनि', 'स्वस्थ'),\n",
       "   ('तर', 'उप', 'समयमा', 'पनि', 'स्वस्थ'),\n",
       "   ('तर', 'उस', 'समयमा', 'पनि', 'स्वस्थ'),\n",
       "   ('तर', 'स', 'समयमा', 'पनि', 'स्वस्थ'),\n",
       "   ('कर', 'उस', 'समयमा', 'पनि', 'स्वस्थ'),\n",
       "   ('तार', 'उस', 'समयमा', 'पनि', 'स्वस्थ'),\n",
       "   ('तर', 'आस', 'समयको', 'पनि', 'स्वस्थ'),\n",
       "   ('तर', 'आस', 'सहरमा', 'पनि', 'स्वस्थ'),\n",
       "   ('पर', 'स', 'समयमा', 'पनि', 'स्वस्थ'),\n",
       "   ('तर', 'आस', 'समयमा', 'पनि', 'अस्वस्थ')],\n",
       "  [-46.05453056303696,\n",
       "   -46.44032601243608,\n",
       "   -48.11849540168839,\n",
       "   -48.93666063888338,\n",
       "   -49.32341562437037,\n",
       "   -49.91554247405139,\n",
       "   -50.00966664269788,\n",
       "   -50.014672315846965,\n",
       "   -50.05962883299812,\n",
       "   -50.08154654631848]),\n",
       " ([('स्वस्थ', 'राजनीतिक', 'वातावरणको', 'अभावले', 'गर्दा'),\n",
       "   ('अस्वस्थ', 'राजनीतिक', 'वातावरणको', 'अभावले', 'गर्दा'),\n",
       "   ('स्वस्थ', 'राजनैतिक', 'वातावरणको', 'अभावले', 'गर्दा'),\n",
       "   ('स्वस्थ', 'राजनैतिक', 'वातावरणमा', 'अभावले', 'गर्दा'),\n",
       "   ('अस्वस्थ', 'राजनीति', 'वातावरणको', 'अभावले', 'गर्दा'),\n",
       "   ('स्वस्थ', 'राजनीतिक', 'वातावरणमा', 'अभावले', 'गर्दा'),\n",
       "   ('स्वस्थ', 'राजनीतिक', 'वातावरणको', 'अभावमा', 'गर्दा'),\n",
       "   ('स्वस्थ', 'राजनीतिक', 'वातावरणको', 'अभावले', 'पर्दा'),\n",
       "   ('स्वस्थ', 'राजनीतिक', 'वातावरणको', 'अभावले', 'गर्न'),\n",
       "   ('अस्वस्थ', 'राजनीतिका', 'वातावरणको', 'अभावले', 'गर्दा')],\n",
       "  [-31.725204000997167,\n",
       "   -35.444468733411476,\n",
       "   -37.441040644096404,\n",
       "   -43.137770824123905,\n",
       "   -43.42443959133735,\n",
       "   -44.44313019292074,\n",
       "   -44.483812985745054,\n",
       "   -44.64325848689029,\n",
       "   -44.74891903281994,\n",
       "   -45.156171299061704]),\n",
       " ([('गर्दा', 'देश', 'विकासतर्फ', 'विशेष', 'प्रगति'),\n",
       "   ('गर्दा', 'देश', 'विकासतर्फ', 'विशेष', 'प्रति'),\n",
       "   ('पर्दा', 'देश', 'विकासतर्फ', 'विशेष', 'प्रगति'),\n",
       "   ('गर्दै', 'देश', 'विकासतर्फ', 'विशेष', 'प्रगति'),\n",
       "   ('गर्दा', 'देश', 'विकासतर्फ', 'विशेष', 'प्रावि'),\n",
       "   ('गर्दा', 'देश', 'विकासतर्फ', 'विशेष', 'प्रालि'),\n",
       "   ('पर्दा', 'देश', 'विकासतर्फ', 'विशेष', 'प्रति'),\n",
       "   ('गर्दै', 'देश', 'विकासतर्फ', 'विशेष', 'प्रति'),\n",
       "   ('गर्दा', 'देश', 'विकासतर्फ', 'विशेष', 'प्रगतिको'),\n",
       "   ('गर्दा', 'दश', 'विकासतर्फ', 'विशेष', 'प्रगति')],\n",
       "  [-39.24765666042136,\n",
       "   -42.13395509292989,\n",
       "   -42.408248539396084,\n",
       "   -44.49890156063423,\n",
       "   -44.994664454613584,\n",
       "   -45.169467178993514,\n",
       "   -45.29454697190461,\n",
       "   -47.38519999314276,\n",
       "   -47.6838943953378,\n",
       "   -48.15261809103687]),\n",
       " ([('प्रगति', 'हुन', 'सकेन', '।'),\n",
       "   ('प्रगति', 'हुन', 'सकेनन्', '।'),\n",
       "   ('प्रगति', 'हुने', 'सकेन', '।'),\n",
       "   ('प्रगति', 'हुन', 'सकिन', '।'),\n",
       "   ('प्रगति', 'हुन', 'सकेर', '।'),\n",
       "   ('प्रगति', 'हुन', 'सकेका', '।'),\n",
       "   ('प्रगति', 'हुनै', 'सकेन', '।'),\n",
       "   ('प्रगति', 'हुन', 'सकेमा', '।'),\n",
       "   ('प्रगति', 'हुन', 'सक्न', '।'),\n",
       "   ('प्रावि', 'हुन्', 'सकेन', '।')],\n",
       "  [-18.236764168780894,\n",
       "   -23.68679108029731,\n",
       "   -24.07317267754587,\n",
       "   -24.31110946168931,\n",
       "   -25.536151862415913,\n",
       "   -25.80169873310247,\n",
       "   -26.512707904024385,\n",
       "   -27.449325658901678,\n",
       "   -28.543898966399198,\n",
       "   -28.731586653404122])]"
      ]
     },
     "execution_count": 7,
     "metadata": {},
     "output_type": "execute_result"
    }
   ],
   "source": [
    "list(zip(wc,wp))"
   ]
  },
  {
   "cell_type": "markdown",
   "id": "baf8f90a",
   "metadata": {},
   "source": [
    "# Testing with transformer model"
   ]
  },
  {
   "cell_type": "code",
   "execution_count": 1,
   "id": "393082b3",
   "metadata": {},
   "outputs": [],
   "source": [
    "from transformer import model\n",
    "import torch"
   ]
  },
  {
   "cell_type": "code",
   "execution_count": 2,
   "id": "1a2b002d",
   "metadata": {},
   "outputs": [],
   "source": [
    "from corrector import extract_choices"
   ]
  },
  {
   "cell_type": "code",
   "execution_count": 3,
   "id": "6049cef4",
   "metadata": {},
   "outputs": [
    {
     "data": {
      "text/plain": [
       "<All keys matched successfully>"
      ]
     },
     "execution_count": 3,
     "metadata": {},
     "output_type": "execute_result"
    }
   ],
   "source": [
    "model.load_state_dict(torch.load('models/transformer_model.pt'))"
   ]
  },
  {
   "cell_type": "code",
   "execution_count": 4,
   "id": "b3c33165",
   "metadata": {},
   "outputs": [],
   "source": [
    "from corrector import correctize_with_window_nn"
   ]
  },
  {
   "cell_type": "code",
   "execution_count": 5,
   "id": "8c85dd5a",
   "metadata": {},
   "outputs": [],
   "source": [
    "from corrector import correctize_with_window_nn_"
   ]
  },
  {
   "cell_type": "code",
   "execution_count": 6,
   "id": "7b431570",
   "metadata": {},
   "outputs": [],
   "source": [
    "from corrector import transformer_probab_final_word"
   ]
  },
  {
   "cell_type": "code",
   "execution_count": 7,
   "id": "d528eed4",
   "metadata": {},
   "outputs": [],
   "source": [
    "from corrector import correct_current_word,extract_choices_word"
   ]
  },
  {
   "cell_type": "code",
   "execution_count": 54,
   "id": "6beef107",
   "metadata": {},
   "outputs": [],
   "source": [
    "sample_sentences = ['हरेक सेपालीले नेपामको संविधानक पालना गर्नुपर्छ ।' ,\n",
    "                    'म पुस्तकलयबाटे थुलो किताब पढ्न चाहन्छ ।',\n",
    "                    'तर उस समयमा पनि स्वस्थ राजनैतिक वातावरनको अभावले गर्दा देश विकासतर्फ विशेष प्रगति हुन  सकेन।',\n",
    "                   'नेपालमा आधुनिक रुपमा आर्थक विकाससम्बन्धी कार्यरू प्रारम्भ भएको हालै मात्र हो।',\n",
    "                   'हार धुनुहोस् र स्वास्थ जीवन जिउनुहोस्।',\n",
    "                   'जब प्रवीधिहरू एकीकृत हुन सूरु गर्छन् अर्थतन्त्र तथ सँस्कृति पनि निश्चितरूपमा विस्तारै एकीकृत हुने छ।',\n",
    "                   'उद्देयहरुमा पनि कुनै एक उद्देश्य पूर्ति नहुँदै अर्को नयाँ  उद्देश्यको रुपमा लिइने परम्परा बस्यो।',\n",
    "                   'लगानीकर्ताहरूको धयान तुरुन्त फेरियो , व्यापारीहरुले वताए ।',\n",
    "                    'अति धेरै हिज्जे गलती भएका शब्दहरू । तपाईँले टाइप गर्दा हिज्जे जाँच अक्षम पारयो ।',\n",
    "                    'लामो',\n",
    "                    'म नेपाली राम्रोसँग बोल्दिन',\n",
    "                    'तपाईंको उमर कति हो?',\n",
    "                    'मलाइ एक्लै छोडनुहोस्']"
   ]
  },
  {
   "cell_type": "code",
   "execution_count": 55,
   "id": "57e9bb32",
   "metadata": {},
   "outputs": [],
   "source": [
    "def select_tokens(i,j):\n",
    "    s = sample_sentences[i].split()[:j]\n",
    "    return ' '.join(s)\n",
    "    "
   ]
  },
  {
   "cell_type": "code",
   "execution_count": 56,
   "id": "d2ff0980",
   "metadata": {},
   "outputs": [
    {
     "name": "stdout",
     "output_type": "stream",
     "text": [
      "['लगानीकर्ताहरूको']\n",
      "[['लगानीकर्ताहरूले', 'लगानीकर्ताहरूको']]\n",
      "['लगानीकर्ताहरूको', 'धयान']\n",
      "[['धयान', 'चयन', 'ढलान', 'धरान', 'ध्यान']]\n",
      "Sentence tensor: tensor([[49637]], device='cuda:0')\n",
      "tensor([120302,   1256,  12776,   3515,    395])\n",
      "tensor([[[ -5.4038,  -6.9246,  -6.6446,  ..., -16.7893, -17.6532, -14.5671]]],\n",
      "       device='cuda:0', grad_fn=<LogSoftmaxBackward0>) torch.Size([1, 1, 342570]) 1\n",
      "tensor([-15.0798,  -8.7590, -13.1836, -11.8794,  -5.8402], device='cuda:0',\n",
      "       grad_fn=<IndexBackward0>)\n",
      "tensor([120302,   1256,  12776,   3515,    395])\n",
      "tensor([291376, 135442, 185037,  ...,     15,    125,      5], device='cuda:0')\n",
      "tensor([4, 1, 3, 2, 0], device='cuda:0')\n",
      "जान्छु न्यूनीकरण दफा चाहन्छु\n",
      "['ध्यान', 'चयन', 'धरान', 'ढलान', 'धयान']\n",
      "Prod: धयान -3.233888198770077\n",
      "Prod: चयन -7.645643976661007\n",
      "Prod: ढलान -13.87074097045683\n",
      "Prod: धरान -4.536347949810668\n",
      "Prod: ध्यान -5.349780437650195\n",
      "[['धयान', 'चयन', 'ढलान', 'धरान', 'ध्यान']] [tensor(-21.3297, grad_fn=<AddBackward0>), tensor(-18.1565, grad_fn=<AddBackward0>), tensor(-29.6911, grad_fn=<AddBackward0>), tensor(-18.7916, grad_fn=<AddBackward0>), tensor(-12.3581, grad_fn=<AddBackward0>)] ['ध्यान', 'चयन', 'धरान', 'धयान', 'ढलान']\n",
      "['लगानीकर्ताहरूको', 'धयान', 'तुरुन्त']\n",
      "[['तुरुन्त', 'दुरुस्त', 'तुरुन्तै']]\n",
      "Sentence tensor: tensor([[ 49637],\n",
      "        [120302]], device='cuda:0')\n",
      "tensor([ 4004, 10096,  4148])\n",
      "tensor([[[ -5.4038,  -6.9246,  -6.6446,  ..., -16.7893, -17.6532, -14.5671]],\n",
      "\n",
      "        [[ -5.4664,  -3.8368,  -4.3348,  ..., -16.3344, -15.9972, -14.9383]]],\n",
      "       device='cuda:0', grad_fn=<LogSoftmaxBackward0>) torch.Size([2, 1, 342570]) 2\n",
      "tensor([-10.8298, -12.1726,  -9.8978], device='cuda:0',\n",
      "       grad_fn=<IndexBackward0>)\n",
      "tensor([ 4004, 10096,  4148])\n",
      "tensor([241436, 162039, 119943,  ...,      5,     17,      1], device='cuda:0')\n",
      "tensor([2, 0, 1], device='cuda:0')\n",
      "जान्छु न्यूनीकरण दफा चाहन्छु\n",
      "['तुरुन्तै', 'तुरुन्त', 'दुरुस्त']\n",
      "Prod: तुरुन्त -2.689209034493467\n",
      "Prod: दुरुस्त -9.348778730000815\n",
      "Prod: तुरुन्तै -7.97031795696085\n",
      "[['तुरुन्त', 'दुरुस्त', 'तुरुन्तै']] [tensor(-15.6849, grad_fn=<AddBackward0>), tensor(-23.9559, grad_fn=<AddBackward0>), tensor(-19.8477, grad_fn=<AddBackward0>)] ['तुरुन्त', 'तुरुन्तै', 'दुरुस्त']\n",
      "['लगानीकर्ताहरूको', 'धयान', 'तुरुन्त', 'फेरियो']\n",
      "[['फेरियो', 'फेरिएको', 'भेटियो', 'हरियो', 'गरियो']]\n",
      "Sentence tensor: tensor([[ 49637],\n",
      "        [120302],\n",
      "        [  4004]], device='cuda:0')\n",
      "tensor([16709,  6767,  8839,  3180,   809])\n",
      "tensor([[[ -5.4038,  -6.9246,  -6.6446,  ..., -16.7893, -17.6532, -14.5671]],\n",
      "\n",
      "        [[ -5.4664,  -3.8368,  -4.3348,  ..., -16.3344, -15.9972, -14.9383]],\n",
      "\n",
      "        [[ -5.9593,  -6.7011,  -6.7553,  ..., -16.2341, -17.0367, -15.2649]]],\n",
      "       device='cuda:0', grad_fn=<LogSoftmaxBackward0>) torch.Size([3, 1, 342570]) 3\n",
      "tensor([-13.0051, -10.5120, -11.6657, -10.9837, -10.0004], device='cuda:0',\n",
      "       grad_fn=<IndexBackward0>)\n",
      "tensor([16709,  6767,  8839,  3180,   809])\n",
      "tensor([ 57646, 172197,  23500,  ...,   2983,    893,   3803], device='cuda:0')\n",
      "tensor([4, 1, 3, 2, 0], device='cuda:0')\n",
      "जान्छु न्यूनीकरण दफा चाहन्छु\n",
      "['गरियो', 'फेरिएको', 'हरियो', 'भेटियो', 'फेरियो']\n",
      "Prod: फेरियो -2.838389255823903\n",
      "Prod: फेरिएको -10.451520205288482\n",
      "Prod: भेटियो -8.891173861147669\n",
      "Prod: हरियो -18.040194174908066\n",
      "Prod: गरियो -18.040194174908066\n",
      "[['फेरियो', 'फेरिएको', 'भेटियो', 'हरियो', 'गरियो']] [tensor(-18.4445, grad_fn=<AddBackward0>), tensor(-23.0659, grad_fn=<AddBackward0>), tensor(-22.8900, grad_fn=<AddBackward0>), tensor(-31.2206, grad_fn=<AddBackward0>), tensor(-30.0407, grad_fn=<AddBackward0>)] ['फेरियो', 'भेटियो', 'फेरिएको', 'गरियो', 'हरियो']\n",
      "['लगानीकर्ताहरूको', 'धयान', 'तुरुन्त', 'फेरियो', 'व्यापारीहरुले']\n",
      "[['व्यापारीहरूले', 'व्यापारीहरुले']]\n",
      "Sentence tensor: tensor([[ 49637],\n",
      "        [120302],\n",
      "        [  4004],\n",
      "        [ 16709]], device='cuda:0')\n",
      "tensor([27368, 19145])\n",
      "tensor([[[ -5.4038,  -6.9246,  -6.6446,  ..., -16.7893, -17.6532, -14.5671]],\n",
      "\n",
      "        [[ -5.4664,  -3.8368,  -4.3348,  ..., -16.3344, -15.9972, -14.9383]],\n",
      "\n",
      "        [[ -5.9593,  -6.7011,  -6.7553,  ..., -16.2341, -17.0367, -15.2649]],\n",
      "\n",
      "        [[ -7.8678,  -0.1846,  -2.9340,  ..., -19.5295, -18.9776, -17.6137]]],\n",
      "       device='cuda:0', grad_fn=<LogSoftmaxBackward0>) torch.Size([4, 1, 342570]) 4\n",
      "tensor([-16.1345, -16.1506], device='cuda:0', grad_fn=<IndexBackward0>)\n",
      "tensor([27368, 19145])\n",
      "tensor([52957, 69848, 78706,  ...,     3,     2,     1], device='cuda:0')\n",
      "tensor([0, 1], device='cuda:0')\n",
      "जान्छु न्यूनीकरण दफा चाहन्छु\n",
      "['व्यापारीहरूले', 'व्यापारीहरुले']\n",
      "Prod: व्यापारीहरूले -2.2984903752993255\n",
      "Prod: व्यापारीहरुले -2.0998158800432254\n",
      "[['व्यापारीहरूले', 'व्यापारीहरुले']] [tensor(-21.6599, grad_fn=<AddBackward0>), tensor(-21.4805, grad_fn=<AddBackward0>)] ['व्यापारीहरुले', 'व्यापारीहरूले']\n",
      "['लगानीकर्ताहरूको', 'धयान', 'तुरुन्त', 'फेरियो', 'व्यापारीहरुले', 'वताए']\n",
      "[['वताए', 'बताए', 'वटा', 'कता', 'गराए']]\n",
      "Sentence tensor: tensor([[ 49637],\n",
      "        [120302],\n",
      "        [  4004],\n",
      "        [ 16709],\n",
      "        [ 19145]], device='cuda:0')\n",
      "tensor([7710,   61,  149, 3649, 2567])\n",
      "tensor([[[ -5.4038,  -6.9246,  -6.6446,  ..., -16.7893, -17.6532, -14.5671]],\n",
      "\n",
      "        [[ -5.4664,  -3.8368,  -4.3348,  ..., -16.3344, -15.9972, -14.9383]],\n",
      "\n",
      "        [[ -5.9593,  -6.7011,  -6.7553,  ..., -16.2341, -17.0367, -15.2649]],\n",
      "\n",
      "        [[ -7.8678,  -0.1846,  -2.9340,  ..., -19.5295, -18.9776, -17.6137]],\n",
      "\n",
      "        [[ -6.3726,  -2.9164,  -4.6195,  ..., -19.0151, -17.5491, -17.8047]]],\n",
      "       device='cuda:0', grad_fn=<LogSoftmaxBackward0>) torch.Size([5, 1, 342570]) 5\n",
      "tensor([ -9.5535,  -5.5857, -12.3864, -10.3029, -11.9957], device='cuda:0',\n",
      "       grad_fn=<IndexBackward0>)\n",
      "tensor([7710,   61,  149, 3649, 2567])\n",
      "tensor([338609,  14809, 315870,  ...,     34,      1,     12], device='cuda:0')\n",
      "tensor([1, 0, 3, 4, 2], device='cuda:0')\n",
      "जान्छु न्यूनीकरण दफा चाहन्छु\n",
      "['बताए', 'वताए', 'कता', 'गराए', 'वटा']\n",
      "Prod: वताए -3.233888198770077\n",
      "Prod: बताए -3.3580844007025505\n",
      "Prod: वटा -12.669475172257249\n",
      "Prod: कता -10.259840374014532\n",
      "Prod: गराए -11.54292358117993\n",
      "[['वताए', 'बताए', 'वटा', 'कता', 'गराए']] [tensor(-14.6981, grad_fn=<AddBackward0>), tensor(-10.0610, grad_fn=<AddBackward0>), tensor(-27.5331, grad_fn=<AddBackward0>), tensor(-22.6233, grad_fn=<AddBackward0>), tensor(-25.9378, grad_fn=<AddBackward0>)] ['बताए', 'वताए', 'कता', 'गराए', 'वटा']\n",
      "['लगानीकर्ताहरूको', 'धयान', 'तुरुन्त', 'फेरियो', 'व्यापारीहरुले', 'वताए', '।']\n",
      "[['।', 'ः', 'अ', 'आ', 'इ']]\n",
      "Sentence tensor: tensor([[ 49637],\n",
      "        [120302],\n",
      "        [  4004],\n",
      "        [ 16709],\n",
      "        [ 19145],\n",
      "        [  7710]], device='cuda:0')\n",
      "tensor([   1, 3044, 5528, 5110, 8290])\n",
      "tensor([[[ -5.4038,  -6.9246,  -6.6446,  ..., -16.7893, -17.6532, -14.5671]],\n",
      "\n",
      "        [[ -5.4664,  -3.8368,  -4.3348,  ..., -16.3344, -15.9972, -14.9383]],\n",
      "\n",
      "        [[ -5.9593,  -6.7011,  -6.7553,  ..., -16.2341, -17.0367, -15.2649]],\n",
      "\n",
      "        [[ -7.8678,  -0.1846,  -2.9340,  ..., -19.5295, -18.9776, -17.6137]],\n",
      "\n",
      "        [[ -6.3726,  -2.9164,  -4.6195,  ..., -19.0151, -17.5491, -17.8047]],\n",
      "\n",
      "        [[ -9.5414,  -0.0624,  -4.0869,  ..., -21.0953, -19.8326, -18.3159]]],\n",
      "       device='cuda:0', grad_fn=<LogSoftmaxBackward0>) torch.Size([6, 1, 342570]) 6\n",
      "tensor([ -0.0624, -13.3827, -14.7798, -12.8351, -14.3554], device='cuda:0',\n",
      "       grad_fn=<IndexBackward0>)\n",
      "tensor([   1, 3044, 5528, 5110, 8290])\n",
      "tensor([332305,   6400, 288842,  ...,     12,      2,      1], device='cuda:0')\n",
      "tensor([0, 3, 1, 4, 2], device='cuda:0')\n",
      "जान्छु न्यूनीकरण दफा चाहन्छु\n",
      "['।', 'आ', 'ः', 'इ', 'अ']\n",
      "Prod: । -4.605170185988091\n",
      "Prod: ः -12.206072645530172\n",
      "Prod: अ -12.206072645530172\n",
      "Prod: आ -12.206072645530172\n",
      "Prod: इ -12.206072645530172\n",
      "[['।', 'ः', 'अ', 'आ', 'इ']] [tensor(-4.6800, grad_fn=<AddBackward0>), tensor(-28.2653, grad_fn=<AddBackward0>), tensor(-29.9419, grad_fn=<AddBackward0>), tensor(-27.6082, grad_fn=<AddBackward0>), tensor(-29.4325, grad_fn=<AddBackward0>)] ['।', 'आ', 'ः', 'इ', 'अ']\n"
     ]
    },
    {
     "data": {
      "text/plain": [
       "[['लगानीकर्ताहरूले', 'लगानीकर्ताहरूको'],\n",
       " ['ध्यान', 'चयन', 'धरान', 'धयान', 'ढलान'],\n",
       " ['तुरुन्त', 'तुरुन्तै', 'दुरुस्त'],\n",
       " ['फेरियो', 'भेटियो', 'फेरिएको', 'गरियो', 'हरियो'],\n",
       " ['व्यापारीहरुले', 'व्यापारीहरूले'],\n",
       " ['बताए', 'वताए', 'कता', 'गराए', 'वटा'],\n",
       " ['।', 'आ', 'ः', 'इ', 'अ']]"
      ]
     },
     "execution_count": 56,
     "metadata": {},
     "output_type": "execute_result"
    }
   ],
   "source": [
    "extract_choices_word(sample_sentences[7],model = model,p_lambda = 1.2,l_lambda = 1,trie = True,likelihood = 'bm')"
   ]
  },
  {
   "cell_type": "code",
   "execution_count": 47,
   "id": "c549f13e",
   "metadata": {},
   "outputs": [
    {
     "name": "stdout",
     "output_type": "stream",
     "text": [
      "['जब', 'प्रविधिहरू', 'एकीकृत', 'हुन', 'सूरु', 'गर्छन्', 'अर्थतन्त्र', 'तथा', 'सँस्कृति', 'पनि', 'निश्चितरूपमा']\n",
      "[['निश्चितरुपमा', 'निश्चितरूपमा']]\n",
      "Sentence tensor: tensor([[  680],\n",
      "        [44119],\n",
      "        [ 1350],\n",
      "        [   37],\n",
      "        [56618],\n",
      "        [  377],\n",
      "        [ 2651],\n",
      "        [   14],\n",
      "        [21666],\n",
      "        [    5]], device='cuda:0')\n",
      "tensor([ 88584, 122294])\n",
      "tensor([[[ -5.6213,  -6.1727,  -4.2060,  ..., -16.5473, -16.6862, -17.2982]],\n",
      "\n",
      "        [[ -3.8301,  -4.6486,  -3.1276,  ..., -17.2521, -15.2524, -19.2046]],\n",
      "\n",
      "        [[ -4.1067,  -6.2689,  -3.2926,  ..., -15.9814, -15.4236, -17.2361]],\n",
      "\n",
      "        ...,\n",
      "\n",
      "        [[ -4.3750, -10.2782,  -8.2561,  ..., -15.6630, -18.0608, -16.0671]],\n",
      "\n",
      "        [[ -5.2898,  -6.7618,  -4.0764,  ..., -17.2819, -15.3262, -16.6465]],\n",
      "\n",
      "        [[ -5.4032,  -3.9699,  -5.5404,  ..., -14.8377, -16.6672, -15.7660]]],\n",
      "       device='cuda:0', grad_fn=<LogSoftmaxBackward0>) torch.Size([10, 1, 342570]) 10\n",
      "tensor([-13.3704, -13.8763], device='cuda:0', grad_fn=<IndexBackward0>)\n",
      "tensor([ 88584, 122294])\n",
      "tensor([  6172, 129468, 123298,  ...,   1602,    134,    168], device='cuda:0')\n",
      "tensor([0, 1], device='cuda:0')\n",
      "जान्छु न्यूनीकरण दफा चाहन्छु\n",
      "['निश्चितरुपमा', 'निश्चितरूपमा']\n",
      "Prod: निश्चितरुपमा -2.2097452998770017\n",
      "Prod: निश्चितरूपमा -2.174938610048678\n",
      "[['निश्चितरुपमा', 'निश्चितरूपमा']] [tensor(-18.2543, grad_fn=<AddBackward0>), tensor(-18.8265, grad_fn=<AddBackward0>)] ['निश्चितरुपमा', 'निश्चितरूपमा']\n"
     ]
    },
    {
     "data": {
      "text/plain": [
       "['निश्चितरुपमा', 'निश्चितरूपमा']"
      ]
     },
     "execution_count": 47,
     "metadata": {},
     "output_type": "execute_result"
    }
   ],
   "source": [
    "correct_current_word('जब प्रविधिहरू एकीकृत हुन सूरु गर्छन् अर्थतन्त्र तथा सँस्कृति पनि निश्चितरूपमा',model=model,p_lambda = 1.2,l_lambda = 1,trie = True,likelihood = 'bm')"
   ]
  },
  {
   "cell_type": "code",
   "execution_count": 11,
   "id": "2202044a",
   "metadata": {},
   "outputs": [
    {
     "data": {
      "text/plain": [
       "39"
      ]
     },
     "execution_count": 11,
     "metadata": {},
     "output_type": "execute_result"
    }
   ],
   "source": [
    "len(sample_sentences[1])"
   ]
  },
  {
   "cell_type": "code",
   "execution_count": 12,
   "id": "742f5a21",
   "metadata": {},
   "outputs": [
    {
     "ename": "RuntimeError",
     "evalue": "shape '[39, -1]' is invalid for input of size 33",
     "output_type": "error",
     "traceback": [
      "\u001b[1;31m---------------------------------------------------------------------------\u001b[0m",
      "\u001b[1;31mRuntimeError\u001b[0m                              Traceback (most recent call last)",
      "Cell \u001b[1;32mIn[12], line 1\u001b[0m\n\u001b[1;32m----> 1\u001b[0m \u001b[43mtransformer_probab_final_word\u001b[49m\u001b[43m(\u001b[49m\u001b[43msample_sentences\u001b[49m\u001b[43m[\u001b[49m\u001b[38;5;241;43m1\u001b[39;49m\u001b[43m]\u001b[49m\u001b[43m)\u001b[49m\n",
      "File \u001b[1;32mF:\\SpellChecker\\transformer.py:424\u001b[0m, in \u001b[0;36mtransformer_probab_final_word\u001b[1;34m(sentence_list, candidates, device)\u001b[0m\n\u001b[0;32m    422\u001b[0m \u001b[38;5;28;01mdef\u001b[39;00m \u001b[38;5;21mtransformer_probab_final_word\u001b[39m(sentence_list, candidates\u001b[38;5;241m=\u001b[39m[], device \u001b[38;5;241m=\u001b[39m device):\n\u001b[1;32m--> 424\u001b[0m     sentence_tensor \u001b[38;5;241m=\u001b[39m \u001b[43mpreprocess_list\u001b[49m\u001b[43m(\u001b[49m\u001b[43msentence_list\u001b[49m\u001b[43m,\u001b[49m\u001b[43mdevice\u001b[49m\u001b[43m \u001b[49m\u001b[38;5;241;43m=\u001b[39;49m\u001b[43m \u001b[49m\u001b[43mdevice\u001b[49m\u001b[43m)\u001b[49m[:\u001b[38;5;241m-\u001b[39m\u001b[38;5;241m1\u001b[39m]\u001b[38;5;241m.\u001b[39mto(device)\n\u001b[0;32m    425\u001b[0m     \u001b[38;5;28mprint\u001b[39m(\u001b[38;5;124m\"\u001b[39m\u001b[38;5;124mSentence tensor:\u001b[39m\u001b[38;5;124m\"\u001b[39m,sentence_tensor)\n\u001b[0;32m    427\u001b[0m     candidate_sti \u001b[38;5;241m=\u001b[39m preprocess_list([\u001b[38;5;124m'\u001b[39m\u001b[38;5;124m \u001b[39m\u001b[38;5;124m'\u001b[39m\u001b[38;5;241m.\u001b[39mjoin(candidates[\u001b[38;5;241m0\u001b[39m])])\u001b[38;5;241m.\u001b[39msqueeze(\u001b[38;5;241m1\u001b[39m)\n",
      "File \u001b[1;32mF:\\SpellChecker\\transformer.py:408\u001b[0m, in \u001b[0;36mpreprocess_list\u001b[1;34m(sentences, device)\u001b[0m\n\u001b[0;32m    406\u001b[0m     length \u001b[38;5;241m=\u001b[39m \u001b[38;5;28mlen\u001b[39m(sentences)\n\u001b[0;32m    407\u001b[0m \u001b[38;5;66;03m#     st_i = torch.stack([data_process(sent) for sent in sentences]).to(device) \u001b[39;00m\n\u001b[1;32m--> 408\u001b[0m     st_i \u001b[38;5;241m=\u001b[39m \u001b[43mdata_process\u001b[49m\u001b[43m(\u001b[49m\u001b[43msentences\u001b[49m\u001b[43m)\u001b[49m\u001b[38;5;241;43m.\u001b[39;49m\u001b[43mreshape\u001b[49m\u001b[43m(\u001b[49m\u001b[43mlength\u001b[49m\u001b[43m,\u001b[49m\u001b[38;5;241;43m-\u001b[39;49m\u001b[38;5;241;43m1\u001b[39;49m\u001b[43m)\u001b[49m\u001b[38;5;241m.\u001b[39mT\n\u001b[0;32m    409\u001b[0m \u001b[38;5;66;03m#     st_i = st_i.squeeze(0)   \u001b[39;00m\n\u001b[0;32m    410\u001b[0m     \u001b[38;5;28;01mreturn\u001b[39;00m st_i\n",
      "\u001b[1;31mRuntimeError\u001b[0m: shape '[39, -1]' is invalid for input of size 33"
     ]
    }
   ],
   "source": [
    "transformer_probab_final_word(sample_sentences[1])"
   ]
  },
  {
   "cell_type": "code",
   "execution_count": null,
   "id": "69f1ee07",
   "metadata": {},
   "outputs": [],
   "source": [
    "correctize_with_window_nn(sample_sentences[2],model=model,p_lambda = 0.8,trie = True,likelihood = 'bm')"
   ]
  },
  {
   "cell_type": "code",
   "execution_count": null,
   "id": "08e080c9",
   "metadata": {},
   "outputs": [],
   "source": [
    "correctize_with_window_nn_(sample_sentences[2],model=model,p_lambda = 0.8,trie = True,likelihood = 'bm')"
   ]
  },
  {
   "cell_type": "code",
   "execution_count": null,
   "id": "b9447501",
   "metadata": {},
   "outputs": [],
   "source": [
    "wc,wp = return_choices2(sample_sentences[4],model=model,p_lambda = 1.5,trie = True,likelihood = 'bm',model_type = 'transformer')"
   ]
  },
  {
   "cell_type": "code",
   "execution_count": null,
   "id": "3e7f9a80",
   "metadata": {},
   "outputs": [],
   "source": [
    "extract_choices(sample_sentences[-1],model=model,p_lambda = 1.5,trie = True,likelihood = 'bm',model_type = 'transformer')"
   ]
  },
  {
   "cell_type": "code",
   "execution_count": null,
   "id": "530afca0",
   "metadata": {},
   "outputs": [],
   "source": [
    "wc"
   ]
  },
  {
   "cell_type": "code",
   "execution_count": null,
   "id": "6a41ed5c",
   "metadata": {},
   "outputs": [],
   "source": [
    "wc,wp = return_choices2(sample_sentences[1],model=model,p_lambda = 1.5,trie = True,likelihood = 'bm',model_type = 'transformer')"
   ]
  },
  {
   "cell_type": "code",
   "execution_count": null,
   "id": "28ae8592",
   "metadata": {},
   "outputs": [],
   "source": [
    "wc"
   ]
  },
  {
   "cell_type": "code",
   "execution_count": null,
   "id": "65f92757",
   "metadata": {},
   "outputs": [],
   "source": [
    "list(zip(wc,wp))"
   ]
  },
  {
   "cell_type": "code",
   "execution_count": null,
   "id": "1eef0006",
   "metadata": {},
   "outputs": [],
   "source": [
    "wc"
   ]
  },
  {
   "cell_type": "code",
   "execution_count": null,
   "id": "0410dad8",
   "metadata": {},
   "outputs": [],
   "source": [
    "# extract_choices(a,model=model,p_lambda = 1.5,trie = True,likelihood = 'bm',model_type = 'transformer')"
   ]
  },
  {
   "cell_type": "code",
   "execution_count": null,
   "id": "660ff89e",
   "metadata": {},
   "outputs": [],
   "source": [
    "# Substitution based "
   ]
  },
  {
   "cell_type": "code",
   "execution_count": 22,
   "id": "999a340f",
   "metadata": {},
   "outputs": [],
   "source": [
    "a = 'तिमीलै कता जाना मन छ ?'\n",
    "b = 'आज मा स्कुल जादिन'\n",
    "c = 'तिमि यता आऊ त !'"
   ]
  },
  {
   "cell_type": "code",
   "execution_count": 23,
   "id": "1fe086a4",
   "metadata": {},
   "outputs": [],
   "source": [
    "sample_sentences = ['हरेक सेपालीले नेपामको संविधानक पालना गर्नुपर्छ ।' ,\n",
    "                    'म पुस्तकलयबाटे थुलो किताब पढ्न चाहन्छ ।',\n",
    "                    'तर उस समयमा पनि स्वस्थ राजनैतिक वातावरणको अभावले गर्दा देश विकासतर्फ विशेष प्रगति हुन  सकेन।',\n",
    "                   'नेपालमा आधुनिक रुपमा आर्थक विकाससम्बन्धी कार्यरू प्रारम्भ भएको हालै मात्र हो।',\n",
    "                   'हार धुनुहोस् र स्वास्थ जीवन जिउनुहोस्।',\n",
    "                   'जब प्रवीधिहरू एकीकृत हुन सूरु गर्छन् अर्थतन्त्र तथ सँस्कृति पनि निश्चितरूपमा विस्तारै एकीकृत हुने छ।',\n",
    "                   'उद्देयहरुमा पनि कुनै एक उद्देश्य पूर्ति नहुँदै अर्को नयाँ  उद्देश्यको रुपमा लिइने परम्परा बस्यो।',\n",
    "                   'लगानीकर्ताहरूको धयान तुरुन्त फेरियो , व्यापारीहरूले वताए ।',\n",
    "                    'अति धेरै हिज्जे गलती भएका शब्दहरू । तपाईँले टाइप गर्दा हिज्जे जाँच अक्षम पारयो ।',\n",
    "                    'लामो',\n",
    "                    'म नेपाली राम्रोसँग बोल्दिन',\n",
    "                    'तपाईंको उमर कति हो?',\n",
    "                    'मलाइ एक्लै छोडनुहोस्',\n",
    "                    c,\n",
    "                    b,\n",
    "                    a\n",
    "                    \n",
    "                   ]"
   ]
  },
  {
   "cell_type": "code",
   "execution_count": null,
   "id": "b3d35172",
   "metadata": {},
   "outputs": [],
   "source": []
  },
  {
   "cell_type": "code",
   "execution_count": 57,
   "id": "e8e77409",
   "metadata": {},
   "outputs": [
    {
     "name": "stdout",
     "output_type": "stream",
     "text": [
      "Length of candidates: 300\n",
      "In candidate_probabilities...\n",
      "5\n",
      "Done...\n",
      "Length of candidates: 50\n",
      "In candidate_probabilities...\n",
      "1\n",
      "Done...\n"
     ]
    },
    {
     "data": {
      "text/plain": [
       "[['लगानीकर्ताहरूको'],\n",
       " ['ध्यान', 'धयान'],\n",
       " ['तुरुन्त', 'तुरुन्तै'],\n",
       " ['फेरियो', 'फेरिएको', 'भेटियो'],\n",
       " ['व्यापारीहरुले', 'व्यापारीहरूले'],\n",
       " ['बताए', 'वताए', 'गराए', 'कता'],\n",
       " ['।', 'आ', 'ः'],\n",
       " [],\n",
       " []]"
      ]
     },
     "execution_count": 57,
     "metadata": {},
     "output_type": "execute_result"
    }
   ],
   "source": [
    "extract_choices(sample_sentences[7],model=model,p_lambda = 0.8,trie = True,likelihood = 'bm',model_type = 'transformer')"
   ]
  },
  {
   "cell_type": "code",
   "execution_count": 18,
   "id": "5dc6ec63",
   "metadata": {},
   "outputs": [
    {
     "data": {
      "text/plain": [
       "['म पुस्तकालयबाट ठुलो किताब पढ्न']"
      ]
     },
     "execution_count": 18,
     "metadata": {},
     "output_type": "execute_result"
    }
   ],
   "source": [
    "[' '.join(('म', 'पुस्तकालयबाट', 'ठुलो', 'किताब', 'पढ्न'))]"
   ]
  },
  {
   "cell_type": "code",
   "execution_count": 8,
   "id": "324afa4d",
   "metadata": {},
   "outputs": [
    {
     "data": {
      "text/plain": [
       "tensor([-142.8868, -143.8868])"
      ]
     },
     "execution_count": 8,
     "metadata": {},
     "output_type": "execute_result"
    }
   ],
   "source": [
    "torch.flip(torch.tensor([torch.tensor(-143.8868),torch.tensor(-142.8868)]),dims = (0,))"
   ]
  },
  {
   "cell_type": "code",
   "execution_count": null,
   "id": "39352bf8",
   "metadata": {},
   "outputs": [],
   "source": [
    "#Limitation of transformer model : Less candidate sentences are genereated due to Computational issues"
   ]
  }
 ],
 "metadata": {
  "kernelspec": {
   "display_name": "Python 3 (ipykernel)",
   "language": "python",
   "name": "python3"
  },
  "language_info": {
   "codemirror_mode": {
    "name": "ipython",
    "version": 3
   },
   "file_extension": ".py",
   "mimetype": "text/x-python",
   "name": "python",
   "nbconvert_exporter": "python",
   "pygments_lexer": "ipython3",
   "version": "3.9.5"
  }
 },
 "nbformat": 4,
 "nbformat_minor": 5
}
