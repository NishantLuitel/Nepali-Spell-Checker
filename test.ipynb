{
 "cells": [
  {
   "cell_type": "code",
   "execution_count": 1,
   "id": "354f780e",
   "metadata": {},
   "outputs": [],
   "source": [
    "from utils import final_candidate_words"
   ]
  },
  {
   "cell_type": "code",
   "execution_count": 2,
   "id": "63e81ef4",
   "metadata": {},
   "outputs": [
    {
     "name": "stdout",
     "output_type": "stream",
     "text": [
      "Entered depth,  1\n",
      "Entered depth,  2\n",
      "Entered depth,  3\n"
     ]
    },
    {
     "data": {
      "text/plain": [
       "['पुस्तकालयबाट', 'पुस्तकलयबाटे']"
      ]
     },
     "execution_count": 2,
     "metadata": {},
     "output_type": "execute_result"
    }
   ],
   "source": [
    "final_candidate_words('पुस्तकलयबाटे',use_trie = True)"
   ]
  },
  {
   "cell_type": "code",
   "execution_count": 3,
   "id": "12b9f852",
   "metadata": {},
   "outputs": [
    {
     "name": "stdout",
     "output_type": "stream",
     "text": [
      "Entered depth,  1\n",
      "Entered depth,  2\n",
      "Entered depth,  3\n"
     ]
    },
    {
     "data": {
      "text/plain": [
       "['पुस्तकालयबाट', 'पुस्तकलयबाटे']"
      ]
     },
     "execution_count": 3,
     "metadata": {},
     "output_type": "execute_result"
    }
   ],
   "source": [
    "final_candidate_words('पुस्तकलयबाटे')"
   ]
  },
  {
   "cell_type": "code",
   "execution_count": 4,
   "id": "f4d736a2",
   "metadata": {},
   "outputs": [
    {
     "data": {
      "text/plain": [
       "['ठुलो', 'ठूलो', 'थुलो', 'ठुला', 'थलो', 'धुलो', 'धूलो']"
      ]
     },
     "execution_count": 4,
     "metadata": {},
     "output_type": "execute_result"
    }
   ],
   "source": [
    "final_candidate_words('थुलो')"
   ]
  },
  {
   "cell_type": "code",
   "execution_count": null,
   "id": "6c6f684a",
   "metadata": {},
   "outputs": [],
   "source": []
  }
 ],
 "metadata": {
  "kernelspec": {
   "display_name": "Python 3 (ipykernel)",
   "language": "python",
   "name": "python3"
  },
  "language_info": {
   "codemirror_mode": {
    "name": "ipython",
    "version": 3
   },
   "file_extension": ".py",
   "mimetype": "text/x-python",
   "name": "python",
   "nbconvert_exporter": "python",
   "pygments_lexer": "ipython3",
   "version": "3.9.5"
  }
 },
 "nbformat": 4,
 "nbformat_minor": 5
}
