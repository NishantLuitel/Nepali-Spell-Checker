{
 "cells": [
  {
   "cell_type": "code",
   "execution_count": 1,
   "id": "aaa6c1d4",
   "metadata": {},
   "outputs": [],
   "source": [
    "from utils import final_candidate_words"
   ]
  },
  {
   "cell_type": "code",
   "execution_count": 2,
   "id": "54fafa8b",
   "metadata": {},
   "outputs": [
    {
     "name": "stdout",
     "output_type": "stream",
     "text": [
      "Entered depth,  1\n",
      "Entered depth,  2\n",
      "Entered depth,  3\n"
     ]
    },
    {
     "data": {
      "text/plain": [
       "['पुस्तकालयबाट', 'पुस्तकलयबाटे']"
      ]
     },
     "execution_count": 2,
     "metadata": {},
     "output_type": "execute_result"
    }
   ],
   "source": [
    "final_candidate_words('पुस्तकलयबाटे',use_trie = True)"
   ]
  },
  {
   "cell_type": "code",
   "execution_count": 3,
   "id": "aa2754fd",
   "metadata": {},
   "outputs": [
    {
     "name": "stdout",
     "output_type": "stream",
     "text": [
      "Entered depth,  1\n",
      "Entered depth,  2\n",
      "Entered depth,  3\n"
     ]
    },
    {
     "data": {
      "text/plain": [
       "['पुस्तकालयबाट', 'पुस्तकलयबाटे']"
      ]
     },
     "execution_count": 3,
     "metadata": {},
     "output_type": "execute_result"
    }
   ],
   "source": [
    "final_candidate_words('पुस्तकलयबाटे')"
   ]
  },
  {
   "cell_type": "code",
   "execution_count": 4,
   "id": "bef6e627",
   "metadata": {},
   "outputs": [
    {
     "data": {
      "text/plain": [
       "['ठुलो', 'ठूलो', 'थुलो', 'ठुला', 'थलो', 'धुलो', 'धूलो']"
      ]
     },
     "execution_count": 4,
     "metadata": {},
     "output_type": "execute_result"
    }
   ],
   "source": [
    "final_candidate_words('थुलो')"
   ]
  },
  {
   "cell_type": "code",
   "execution_count": null,
   "id": "103ef14d",
   "metadata": {},
   "outputs": [],
   "source": []
  }
 ],
 "metadata": {
  "kernelspec": {
   "display_name": "Python 3 (ipykernel)",
   "language": "python",
   "name": "python3"
  },
  "language_info": {
   "codemirror_mode": {
    "name": "ipython",
    "version": 3
   },
   "file_extension": ".py",
   "mimetype": "text/x-python",
   "name": "python",
   "nbconvert_exporter": "python",
   "pygments_lexer": "ipython3",
   "version": "3.9.5"
  }
 },
 "nbformat": 4,
 "nbformat_minor": 5
}
