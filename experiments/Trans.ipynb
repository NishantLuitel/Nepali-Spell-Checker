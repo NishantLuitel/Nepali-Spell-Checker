{
 "cells": [
  {
   "cell_type": "markdown",
   "id": "96ea8655",
   "metadata": {},
   "source": [
    "# Use TranS"
   ]
  },
  {
   "cell_type": "code",
   "execution_count": 1,
   "id": "def64a01",
   "metadata": {},
   "outputs": [],
   "source": [
    "import torch"
   ]
  },
  {
   "cell_type": "code",
   "execution_count": 2,
   "id": "6f7b5214",
   "metadata": {},
   "outputs": [],
   "source": [
    "# add to $y$tem path the parent directory\n",
    "import os\n",
    "import sys\n",
    "notebook_dir = os.path.abspath(os.path.dirname(''))\n",
    "parent_dir = os.path.abspath(os.path.join(notebook_dir, os.pardir))\n",
    "sys.path.append(parent_dir)"
   ]
  },
  {
   "cell_type": "code",
   "execution_count": 3,
   "id": "7735551b",
   "metadata": {},
   "outputs": [
    {
     "name": "stderr",
     "output_type": "stream",
     "text": [
      "F:\\SpellChecker\\venv\\lib\\site-packages\\torch\\nn\\modules\\transformer.py:282: UserWarning: enable_nested_tensor is True, but self.use_nested_tensor is False because encoder_layer.self_attn.batch_first was not True(use batch_first for better inference performance)\n",
      "  warnings.warn(f\"enable_nested_tensor is True, but self.use_nested_tensor is False because {why_not_sparsity_fast_path}\")\n"
     ]
    }
   ],
   "source": [
    "from transformer import model\n",
    "import torch"
   ]
  },
  {
   "cell_type": "code",
   "execution_count": 4,
   "id": "4e22fdbd",
   "metadata": {},
   "outputs": [],
   "source": [
    "from transformer import transformer_probab,transformer_probab_list,transformer_probab_final_word"
   ]
  },
  {
   "cell_type": "code",
   "execution_count": 5,
   "id": "43503ae2",
   "metadata": {},
   "outputs": [],
   "source": [
    "device = 'cuda' if torch.cuda.is_available() else 'cpu'"
   ]
  },
  {
   "cell_type": "code",
   "execution_count": 6,
   "id": "d9abf231",
   "metadata": {},
   "outputs": [],
   "source": [
    "sample_sentences = ['हरेक [MASK] नेपामको संविधानक पालना गर्नुपर्छ ।' ,\n",
    "                    'म पुस्तकालयबाट थुलो किताब पढ्न चाहन्छ ।',\n",
    "                    'तर उस समयमा पनि स्वस्थ राजनैतिक वातावरनको अभावले गर्दा देश विकासतर्फ विशेष प्रगति हुन  सकेन।',\n",
    "                   'नेपालमा आधुनिक रुपमा आर्थक विकाससम्बन्धी कार्यरू प्रारम्भ भएको हालै मात्र हो।',\n",
    "                   'हार धुनुहोस् र स्वास्थ जीवन जिउनुहोस्।',\n",
    "                   'जब प्रवीधिहरू एकीकृत हुन सूरु गर्छन् अर्थतन्त्र तथ सँस्कृति पनि निश्चितरूपमा विस्तारै एकीकृत हुने छ।',\n",
    "                   'उद्देयहरुमा पनि कुनै एक उद्देश्य पूर्ति नहुँदै अर्को नयाँ  उद्देश्यको रुपमा लिइने परम्परा बस्यो।',\n",
    "                   'लगानीकर्ताहरूको धयान तुरुन्त फेरियो , व्यापारीहरुले वताए ।',\n",
    "                    'अति धेरै हिज्जे गलती भएका शब्दहरू । तपाईँले टाइप गर्दा हिज्जे जाँच अक्षम पारयो ।',\n",
    "                    'लामो',\n",
    "                    'म नेपाली राम्रोसँग बोल्दिन',\n",
    "                    'तपाईंको उमर कति हो?',\n",
    "                    'मलाइ एक्लै छोडनुहोस्',\n",
    "                   'रुसी राष्ट्रपती पुटिनको प्रेम जावन त्य्ती सफल छैन ।']"
   ]
  },
  {
   "cell_type": "code",
   "execution_count": 7,
   "id": "83703bc8",
   "metadata": {},
   "outputs": [],
   "source": [
    "#help(tokenizer)"
   ]
  },
  {
   "cell_type": "markdown",
   "id": "74da5e43",
   "metadata": {},
   "source": [
    "# Functions to correct"
   ]
  },
  {
   "cell_type": "code",
   "execution_count": 8,
   "id": "ef2b1a45",
   "metadata": {},
   "outputs": [],
   "source": [
    "import torch\n",
    "import pickle\n",
    "import BrillMoore\n",
    "import regex as re\n",
    "from utils import final_candidate_words, return_lexicon_dict\n",
    "import math\n",
    "import itertools"
   ]
  },
  {
   "cell_type": "code",
   "execution_count": 9,
   "id": "f13f07ba",
   "metadata": {},
   "outputs": [],
   "source": [
    "def words(text): \n",
    "    text = re.sub(r'[\\u0964]', r'\\u0020\\u0964\\u0020', text)\n",
    "    return re.findall(r'[\\u0900-\\u097F]+', text.lower())\n",
    "\n",
    "final_lexicon_dict = return_lexicon_dict()"
   ]
  },
  {
   "cell_type": "code",
   "execution_count": 10,
   "id": "86062b8c",
   "metadata": {},
   "outputs": [],
   "source": [
    "with open(os.path.join(notebook_dir, '..','models','bma_27dec.pickle'),'rb') as f:\n",
    "    bma = pickle.load(f)"
   ]
  },
  {
   "cell_type": "code",
   "execution_count": 11,
   "id": "a6da580f",
   "metadata": {},
   "outputs": [
    {
     "data": {
      "text/plain": [
       "125727"
      ]
     },
     "execution_count": 11,
     "metadata": {},
     "output_type": "execute_result"
    }
   ],
   "source": [
    "len(final_lexicon_dict)"
   ]
  },
  {
   "cell_type": "code",
   "execution_count": 12,
   "id": "77e0f540",
   "metadata": {},
   "outputs": [],
   "source": [
    "def likelihood_bm(sentence,candidate_sentence):\n",
    "    '''\n",
    "    Returns P(Possible Typo Sentence/Candidate Correct Sentence)\n",
    "    \n",
    "    Uses Naive approach to compute probability for sentence from individual words\n",
    "    \n",
    "    '''    \n",
    "    \n",
    "    prod = 1\n",
    "    for word,candidate_word in zip(sentence.split(),candidate_sentence):          \n",
    "        prod*= bma.likelihood(word,candidate_word)\n",
    "    return prod\n",
    "\n",
    "\n",
    "alpha = 0.65\n",
    "def constant_distributive_likelihood(sentence,candidate_sentence,candidate_count):\n",
    "    prod = 1    \n",
    "    i = 0    \n",
    "    for word,candidate_word in zip(sentence.split(),candidate_sentence):        \n",
    "        if word==candidate_word:\n",
    "            prod*= alpha\n",
    "        else:\n",
    "            N = candidate_count[i]\n",
    "            prod*= (1-alpha)/N\n",
    "        i+=1\n",
    "    return prod\n",
    "\n",
    "\n"
   ]
  },
  {
   "cell_type": "code",
   "execution_count": 13,
   "id": "76db903d",
   "metadata": {},
   "outputs": [],
   "source": [
    "def correctize_entire_nn(sentence, model,p_lambda = 1,prior='transformer',trie = False,likelihood = 'default'):\n",
    "    \n",
    "    tokens = words(sentence)\n",
    "\n",
    "    candidates = []    \n",
    "    \n",
    "    #Forcing to limit the number of candidate sentences\n",
    "    for _ in tokens:\n",
    "        candidates.append(final_candidate_words(_,use_trie = trie,force = True))\n",
    "    cs = list(itertools.product(*candidates))    \n",
    "    candidate_sentences = [' '.join(sent) for sent in cs]\n",
    "\n",
    "    if prior == 'transformer':\n",
    "               \n",
    "        candidate_probabilities = transformer_probab_list(candidate_sentences)\n",
    "\n",
    "        if likelihood=='default':\n",
    "            candidate_count = [len(_) for _ in candidates]  \n",
    "            sentences_probab_post=[(row*p_lambda) +\n",
    "                                   math.log(constant_distributive_likelihood(sentence,candidate_sentence,candidate_count)) \n",
    "                                   for row,candidate_sentence in zip(candidate_probabilities,cs)]\n",
    "        elif likelihood=='bm':\n",
    "            sentences_probab_post=[(row*p_lambda) + \n",
    "                                    math.log(likelihood_bm(sentence,candidate_sentence)) \n",
    "                                    for row,candidate_sentence in zip(candidate_probabilities,cs)]           \n",
    "\n",
    "        elif likelihood=='defaultWithNoLM':\n",
    "            candidate_count = [len(_) for _ in candidates]  \n",
    "            modifier_probab = [sum([-1.5 if w not in final_lexicon_dict else 1.0 for w in c]) for c in cs]\n",
    "            sentences_probab_post=[mp+ math.log(constant_distributive_likelihood(sentence,candidate_sentence,candidate_count)) \n",
    "                                   for candidate_sentence,mp in zip(cs,modifier_probab)]\n",
    "        elif likelihood=='bmWithNoLM':\n",
    "            modifier_probab = [sum([-1.5 if w not in final_lexicon_dict else 1.0 for w in c]) for c in cs]\n",
    "            sentences_probab_post=[mp + math.log(likelihood_bm(sentence,candidate_sentence)) \n",
    "                                    for candidate_sentence,mp in zip(cs,modifier_probab)]\n",
    "        sorted_index = torch.argsort(torch.tensor(sentences_probab_post))\n",
    "        sentences_probab_post_sorted = sorted(sentences_probab_post,reverse = True)\n",
    "        \n",
    "        return [candidate_sentences[int(k)].split() for k in torch.flip(sorted_index,dims=(0,))],sentences_probab_post_sorted"
   ]
  },
  {
   "cell_type": "code",
   "execution_count": 14,
   "id": "7a4d5b11",
   "metadata": {},
   "outputs": [],
   "source": [
    "def correctize_with_window_nn(sentence,model,window = 5,p_lambda = 1,prior = 'transformer',trie = False,likelihood = 'default'):\n",
    "    '''\n",
    "    \n",
    "    '''   \n",
    "    tokens = words(sentence)\n",
    "    if len(tokens) <= window:\n",
    "        return [correctize_entire_nn(sentence,model,p_lambda=p_lambda,prior = prior,trie = trie,likelihood = likelihood)]\n",
    "    else:\n",
    "        windows = [tokens[n:window+n] for n in range(0,len(tokens),window-1) if window+n <len(tokens)-1]    \n",
    "        remaining = (window-1)*len(windows)\n",
    "        windows.append(tokens[remaining:])\n",
    "        corrects = []\n",
    "        for _ in windows:\n",
    "            d = correctize_entire_nn(' '.join(_),model,p_lambda=p_lambda,prior = prior,trie = trie,likelihood = likelihood)\n",
    "            corrects.append(d)\n",
    "        return corrects\n"
   ]
  },
  {
   "cell_type": "code",
   "execution_count": 15,
   "id": "7a195b61",
   "metadata": {},
   "outputs": [],
   "source": [
    "def return_choices2(sample_sentences,model,p_lambda = 1,trie = False,model_type ='knlm' ,likelihood = 'default'):\n",
    "    \n",
    "    if model_type =='knlm':\n",
    "        d = correctize_with_window_knlm(sample_sentences,model,p_lambda =p_lambda,trie = trie,likelihood = likelihood)\n",
    "        window_candidates = []\n",
    "        window_probab = []\n",
    "        for window in d:\n",
    "            maxim = min(len(window[0]),10)\n",
    "            top_candidates = window[0][:maxim]\n",
    "            window_candidates.append(top_candidates)\n",
    "            window_probab.append(window[1][:maxim])\n",
    "        return window_candidates,window_probab\n",
    "    \n",
    "    if model_type == 'transformer':\n",
    "        d = correctize_with_window_nn(sample_sentences,model,p_lambda =p_lambda,trie = trie,likelihood = likelihood)\n",
    "        window_candidates = []\n",
    "        window_probab = []\n",
    "        for window in d:\n",
    "            maxim = min(len(window[0]),10)\n",
    "            top_candidates = window[0][:maxim]\n",
    "            window_candidates.append(top_candidates)\n",
    "            window_probab.append(window[1][:maxim])\n",
    "        return window_candidates,window_probab\n",
    "        \n",
    "def extract_choices(sample_sentences,model,p_lambda = 1,trie = False,likelihood = 'default',model_type = 'knlm'):\n",
    "      \n",
    "    wc,wp = return_choices2(sample_sentences,model,p_lambda = p_lambda,trie = trie ,model_type = model_type,likelihood = likelihood)\n",
    "    choices_list=[[] for i in range(len(sample_sentences.split())+1)]\n",
    "    const = 0\n",
    "    for _ in wc:\n",
    "        for sens in _:\n",
    "            for i,w in enumerate(sens):\n",
    "                index = i + const\n",
    "                if w not in choices_list[index]:\n",
    "                    choices_list[index].append(w)\n",
    "        const += len(wc[0][0])-1\n",
    "    if len(choices_list[len(choices_list)-1]) == 0:\n",
    "        return choices_list[:len(choices_list)-1]\n",
    "    return choices_list"
   ]
  },
  {
   "cell_type": "code",
   "execution_count": 30,
   "id": "3711de2a",
   "metadata": {},
   "outputs": [
    {
     "name": "stdout",
     "output_type": "stream",
     "text": [
      "20\n",
      "2\n"
     ]
    },
    {
     "data": {
      "text/plain": [
       "[['म', 'मा'],\n",
       " ['पुस्तकालयबाट'],\n",
       " ['थुलो', 'थलो', 'ठूलो', 'ठुला', 'ठुलो'],\n",
       " ['किताब'],\n",
       " ['पढ्न', 'पढ्ने', 'बढ्न', 'चढ्न'],\n",
       " ['चाहन्छ', 'चाहन्छन्', 'चाहन्छु', 'चाहिन्छ'],\n",
       " ['।']]"
      ]
     },
     "execution_count": 30,
     "metadata": {},
     "output_type": "execute_result"
    }
   ],
   "source": [
    "extract_choices(sample_sentences[1],model=model,p_lambda = 0.8,trie = True,likelihood = 'bm',model_type = 'transformer')"
   ]
  },
  {
   "cell_type": "code",
   "execution_count": 22,
   "id": "69513252",
   "metadata": {},
   "outputs": [
    {
     "name": "stdout",
     "output_type": "stream",
     "text": [
      "Length of candidates: 1250\n",
      "In candidate_probabilities...\n",
      "20\n",
      "Done...\n",
      "Length of candidates: 125\n",
      "In candidate_probabilities...\n",
      "2\n",
      "Done...\n"
     ]
    },
    {
     "data": {
      "text/plain": [
       "[['म', 'मा'],\n",
       " ['पुस्तकालयबाट'],\n",
       " ['थुलो', 'थलो', 'ठूलो', 'ठुला', 'ठुलो'],\n",
       " ['किताब'],\n",
       " ['पढ्न', 'पढ्ने', 'बढ्न', 'चढ्न'],\n",
       " ['चाहन्छ', 'चाहन्छन्', 'चाहन्छु', 'चाहिन्छ'],\n",
       " ['।']]"
      ]
     },
     "execution_count": 22,
     "metadata": {},
     "output_type": "execute_result"
    }
   ],
   "source": [
    "extract_choices(sample_sentences[1],model=model,p_lambda = 0.8,trie = True,likelihood = 'bm',model_type = 'transformer')"
   ]
  },
  {
   "cell_type": "code",
   "execution_count": 23,
   "id": "b4c61ea3",
   "metadata": {
    "scrolled": false
   },
   "outputs": [
    {
     "name": "stdout",
     "output_type": "stream",
     "text": [
      "Length of candidates: 3125\n",
      "In candidate_probabilities...\n",
      "49\n",
      "Done...\n",
      "Length of candidates: 1250\n",
      "In candidate_probabilities...\n",
      "20\n",
      "Done...\n",
      "Length of candidates: 625\n",
      "In candidate_probabilities...\n",
      "10\n",
      "Done...\n",
      "Length of candidates: 625\n",
      "In candidate_probabilities...\n",
      "10\n",
      "Done...\n"
     ]
    },
    {
     "data": {
      "text/plain": [
       "[['तर', 'तार', 'कर'],\n",
       " ['उस', 'उसो', 'उप'],\n",
       " ['समयमा', 'समयका', 'समयमै'],\n",
       " ['पनि', 'नि'],\n",
       " ['स्वस्थ', 'अस्वस्थ'],\n",
       " ['राजनैतिक', 'राजनीतिक', 'राजनीतिका'],\n",
       " ['वातावरनको', 'वातावरणको'],\n",
       " ['अभावले', 'अभावमा'],\n",
       " ['गर्दा', 'गर्दै'],\n",
       " ['देश', 'दश'],\n",
       " ['विकासतर्फ'],\n",
       " ['विशेष', 'बिशेष', 'विशेषत'],\n",
       " ['प्रगति', 'प्रति', 'प्रालि'],\n",
       " ['हुन', 'छुन', 'कुन', 'धुन', 'जुन'],\n",
       " ['सकेन', 'सकिन', 'सकेनन्'],\n",
       " ['।']]"
      ]
     },
     "execution_count": 23,
     "metadata": {},
     "output_type": "execute_result"
    }
   ],
   "source": [
    "extract_choices(sample_sentences[2],model=model,p_lambda =0.135 ,trie = True,likelihood = 'bm',model_type = 'transformer')"
   ]
  },
  {
   "cell_type": "code",
   "execution_count": 28,
   "id": "a0ece0c7",
   "metadata": {},
   "outputs": [
    {
     "data": {
      "text/plain": [
       "'तर उस समयमा पनि स्वस्थ राजनैतिक वातावरनको अभावले गर्दा देश विकासतर्फ विशेष प्रगति हुन  सकेन।'"
      ]
     },
     "execution_count": 28,
     "metadata": {},
     "output_type": "execute_result"
    }
   ],
   "source": [
    "sample_sentences[2]"
   ]
  },
  {
   "cell_type": "code",
   "execution_count": 30,
   "id": "f6486e48",
   "metadata": {},
   "outputs": [
    {
     "name": "stdout",
     "output_type": "stream",
     "text": [
      "Length of candidates: 3125\n",
      "In candidate_probabilities...\n",
      "49\n",
      "Done...\n",
      "Length of candidates: 1250\n",
      "In candidate_probabilities...\n",
      "20\n",
      "Done...\n",
      "Length of candidates: 625\n",
      "In candidate_probabilities...\n",
      "10\n",
      "Done...\n",
      "Length of candidates: 625\n",
      "In candidate_probabilities...\n",
      "10\n",
      "Done...\n"
     ]
    },
    {
     "data": {
      "text/plain": [
       "[['तर', 'तार', 'कर'],\n",
       " ['उस', 'उसो', 'उप', 'आस'],\n",
       " ['समयमा', 'समयमै'],\n",
       " ['पनि', 'उनि'],\n",
       " ['स्वस्थ', 'अस्वस्थ'],\n",
       " ['राजनैतिक', 'राजनीतिक', 'राजनीतिको', 'राजनीति', 'राजनीतिका'],\n",
       " ['वातावरणको'],\n",
       " ['अभावले', 'अभावमा'],\n",
       " ['गर्दा', 'गर्दै', 'गर्ला'],\n",
       " ['देश', 'दश'],\n",
       " ['विकासतर्फ'],\n",
       " ['विशेष', 'बिशेष', 'विदेश'],\n",
       " ['प्रगति', 'प्रति', 'प्रगतिको', 'प्रगाढ'],\n",
       " ['हुन', 'छुन'],\n",
       " ['सकेन', 'सकेनन्', 'सकिन', 'सकिएन'],\n",
       " ['।']]"
      ]
     },
     "execution_count": 30,
     "metadata": {},
     "output_type": "execute_result"
    }
   ],
   "source": [
    "extract_choices(sample_sentences[2],model=model,p_lambda =0.8 ,trie = True,likelihood = 'bm',model_type = 'transformer')"
   ]
  },
  {
   "cell_type": "markdown",
   "id": "91859102",
   "metadata": {},
   "source": [
    "# Evaluation"
   ]
  },
  {
   "cell_type": "code",
   "execution_count": 15,
   "id": "77eb431b",
   "metadata": {},
   "outputs": [],
   "source": [
    "# import csv\n",
    "\n",
    "# def read_csv_file(file_path):\n",
    "#     data = []\n",
    "#     with open(file_path, 'r',encoding='utf-8') as csv_file:\n",
    "#         csv_reader = csv.reader(csv_file)\n",
    "#         for row in csv_reader:\n",
    "#             data.append(row)\n",
    "#     return data\n",
    "\n",
    "# # Example usage:\n",
    "# file_path = 'data/raw_sentences_np_65k.csv'\n",
    "# csv_data = read_csv_file(file_path)\n",
    "\n",
    "# for row in csv_data:\n",
    "#     print(row)\n"
   ]
  },
  {
   "cell_type": "code",
   "execution_count": 11,
   "id": "50141ac5",
   "metadata": {},
   "outputs": [
    {
     "data": {
      "text/plain": [
       "list"
      ]
     },
     "execution_count": 11,
     "metadata": {},
     "output_type": "execute_result"
    }
   ],
   "source": [
    "type(csv_data)"
   ]
  },
  {
   "cell_type": "code",
   "execution_count": 16,
   "id": "5732e77e",
   "metadata": {},
   "outputs": [],
   "source": [
    "from eval import gather_dataset,WER,word_accuracy,char_accuracy\n",
    "\n",
    "dataset_file = os.path.join(notebook_dir, '..','data','eval_data2.pic')"
   ]
  },
  {
   "cell_type": "code",
   "execution_count": 17,
   "id": "dacbf279",
   "metadata": {},
   "outputs": [],
   "source": [
    "dataset = gather_dataset(dataset_file)"
   ]
  },
  {
   "cell_type": "code",
   "execution_count": 18,
   "id": "d3f50b1c",
   "metadata": {},
   "outputs": [],
   "source": [
    "correct_tokens = [words(t[0]) for t in dataset]\n",
    "error_tokens = [words(t[1]) for t in dataset]\n",
    "error_sentences = [t[1] for t in dataset] "
   ]
  },
  {
   "cell_type": "markdown",
   "id": "20949eed",
   "metadata": {},
   "source": [
    "### Bm"
   ]
  },
  {
   "cell_type": "code",
   "execution_count": 17,
   "id": "2606cf4b",
   "metadata": {},
   "outputs": [
    {
     "name": "stdout",
     "output_type": "stream",
     "text": [
      "0\n",
      "2\n",
      "4\n",
      "6\n",
      "8\n",
      "0.0  :  (0.0, 0, 42) WER1:  0.2727272727272727 WER2:  0.2727272727272727\n",
      "0\n",
      "2\n",
      "4\n",
      "6\n",
      "8\n",
      "0.2  :  (0.5714285714285714, 24, 42) WER1:  0.2727272727272727 WER2:  0.12337662337662338\n",
      "0\n",
      "2\n",
      "4\n",
      "6\n",
      "8\n",
      "0.4  :  (0.6428571428571429, 27, 42) WER1:  0.2727272727272727 WER2:  0.11038961038961038\n",
      "0\n",
      "2\n",
      "4\n",
      "6\n",
      "8\n",
      "0.6000000000000001  :  (0.7142857142857143, 30, 42) WER1:  0.2727272727272727 WER2:  0.09740259740259741\n",
      "0\n",
      "2\n",
      "4\n",
      "6\n",
      "8\n",
      "0.8  :  (0.7142857142857143, 30, 42) WER1:  0.2727272727272727 WER2:  0.09740259740259741\n",
      "0\n",
      "2\n",
      "4\n",
      "6\n",
      "8\n",
      "1.0  :  (0.7142857142857143, 30, 42) WER1:  0.2727272727272727 WER2:  0.11688311688311688\n",
      "0\n",
      "2\n",
      "4\n",
      "6\n",
      "8\n",
      "1.2000000000000002  :  (0.7142857142857143, 30, 42) WER1:  0.2727272727272727 WER2:  0.12987012987012986\n",
      "0\n",
      "2\n",
      "4\n",
      "6\n",
      "8\n",
      "1.4000000000000001  :  (0.6904761904761905, 29, 42) WER1:  0.2727272727272727 WER2:  0.14285714285714285\n"
     ]
    }
   ],
   "source": [
    "Gap = 0.2\n",
    "a = 10\n",
    "def find_p_lambda(error_sentences):\n",
    "    \n",
    "    for j in range(8):\n",
    "        predicted_tokens = []\n",
    "        for i,s in enumerate(error_sentences[:a]):\n",
    "            c = extract_choices(s,model=model,p_lambda =Gap*j,trie = True,likelihood = 'bm',model_type = 'transformer')\n",
    "        #     print(c)\n",
    "            c = [t[0] for t in c]\n",
    "            predicted_tokens.append(c)\n",
    "            if i%2 == 0:\n",
    "                print(i)\n",
    "#         word_accuracy(correct_tokens[:a],predicted_tokens[:a],error_tokens[:a])\n",
    "        print(Gap*j,' : ',word_accuracy(correct_tokens[:a],predicted_tokens[:a],error_tokens[:a]),'WER1: ',WER(correct_tokens[:a],error_tokens[:a] ),'WER2: ',WER(correct_tokens[:a],predicted_tokens[:a] ))\n",
    "find_p_lambda(error_sentences)"
   ]
  },
  {
   "cell_type": "code",
   "execution_count": 18,
   "id": "0493ebc4",
   "metadata": {
    "scrolled": true
   },
   "outputs": [
    {
     "name": "stdout",
     "output_type": "stream",
     "text": [
      "0 0.07692307692307693 (1.0, 4, 4) (1.0, 4, 4)\n",
      "2 0.1282051282051282 (0.6923076923076923, 9, 13) (0.7142857142857143, 10, 14)\n",
      "4 0.11428571428571428 (0.7083333333333334, 17, 24) (0.7037037037037037, 19, 27)\n",
      "6 0.12371134020618557 (0.6428571428571429, 18, 28) (0.6875, 22, 32)\n",
      "8 0.11278195488721804 (0.6756756756756757, 25, 37) (0.7209302325581395, 31, 43)\n",
      "10 0.1 (0.7045454545454546, 31, 44) (0.7115384615384616, 37, 52)\n",
      "12 0.109375 (0.68, 34, 50) (0.6666666666666666, 40, 60)\n",
      "14 0.1036036036036036 (0.7213114754098361, 44, 61) (0.6944444444444444, 50, 72)\n",
      "16 0.11507936507936507 (0.6714285714285714, 47, 70) (0.6626506024096386, 55, 83)\n",
      "18 0.11397058823529412 (0.6666666666666666, 50, 75) (0.6444444444444445, 58, 90)\n",
      "20 0.11486486486486487 (0.6705882352941176, 57, 85) (0.6534653465346535, 66, 101)\n",
      "22 0.1276595744680851 (0.6382978723404256, 60, 94) (0.625, 70, 112)\n",
      "24 0.1318051575931232 (0.6336633663366337, 64, 101) (0.6166666666666667, 74, 120)\n",
      "26 0.1276595744680851 (0.6481481481481481, 70, 108) (0.6299212598425197, 80, 127)\n",
      "28 0.12531328320802004 (0.6454545454545455, 71, 110) (0.627906976744186, 81, 129)\n",
      "30 0.125 (0.6396396396396397, 71, 111) (0.6230769230769231, 81, 130)\n",
      "32 0.12808988764044943 (0.6293103448275862, 73, 116) (0.6058394160583942, 83, 137)\n",
      "34 0.12684989429175475 (0.6260162601626016, 77, 123) (0.6164383561643836, 90, 146)\n",
      "36 0.12024048096192384 (0.6349206349206349, 80, 126) (0.6241610738255033, 93, 149)\n",
      "38 0.11753371868978806 (0.6328125, 81, 128) (0.618421052631579, 94, 152)\n",
      "40 0.11602209944751381 (0.6417910447761194, 86, 134) (0.6265822784810127, 99, 158)\n",
      "42 0.11284722222222222 (0.644927536231884, 89, 138) (0.6296296296296297, 102, 162)\n",
      "44 0.11241610738255034 (0.6503496503496503, 93, 143) (0.6331360946745562, 107, 169)\n",
      "46 0.10754414125200643 (0.6710526315789473, 102, 152) (0.6555555555555556, 118, 180)\n",
      "48 0.10703363914373089 (0.6645569620253164, 105, 158) (0.6505376344086021, 121, 186)\n",
      "50 0.10380116959064327 (0.6746987951807228, 112, 166) (0.6515151515151515, 129, 198)\n",
      "52 0.10620689655172413 (0.6779661016949152, 120, 177) (0.6555023923444976, 137, 209)\n",
      "54 0.10923276983094929 (0.6701030927835051, 130, 194) (0.6651982378854625, 151, 227)\n",
      "56 0.11083743842364532 (0.6634615384615384, 138, 208) (0.6504065040650406, 160, 246)\n",
      "58 0.1179245283018868 (0.6590909090909091, 145, 220) (0.6461538461538462, 168, 260)\n",
      "60 0.1165158371040724 (0.6681222707423581, 153, 229) (0.6531365313653137, 177, 271)\n",
      "62 0.11643090315560392 (0.6666666666666666, 156, 234) (0.6498194945848376, 180, 277)\n",
      "64 0.1156677181913775 (0.6707818930041153, 163, 243) (0.6515679442508711, 187, 287)\n",
      "66 0.11534500514933059 (0.6733067729083665, 169, 251) (0.652027027027027, 193, 296)\n",
      "68 0.1157684630738523 (0.6717557251908397, 176, 262) (0.6558441558441559, 202, 308)\n",
      "70 0.11657032755298652 (0.674074074074074, 182, 270) (0.6572327044025157, 209, 318)\n",
      "72 0.11338289962825279 (0.6832740213523132, 192, 281) (0.6696969696969697, 221, 330)\n",
      "74 0.11291779584462511 (0.684931506849315, 200, 292) (0.6695906432748538, 229, 342)\n",
      "76 0.11033274956217162 (0.6889632107023411, 206, 299) (0.673352435530086, 235, 349)\n",
      "78 0.10988074957410562 (0.6905537459283387, 212, 307) (0.680672268907563, 243, 357)\n",
      "80 0.1113881961762261 (0.6869009584664537, 215, 313) (0.6776859504132231, 246, 363)\n",
      "82 0.11317704122877931 (0.6871165644171779, 224, 326) (0.6789473684210526, 258, 380)\n",
      "84 0.11154752553024352 (0.688622754491018, 230, 334) (0.6812339331619537, 265, 389)\n",
      "86 0.10966257668711657 (0.6904761904761905, 232, 336) (0.6836734693877551, 268, 392)\n",
      "88 0.10953800298062594 (0.6898550724637681, 238, 345) (0.6839506172839506, 277, 405)\n",
      "90 0.10989010989010989 (0.6875, 242, 352) (0.6868932038834952, 283, 412)\n",
      "92 0.11023622047244094 (0.6897506925207756, 249, 361) (0.6895734597156398, 291, 422)\n",
      "94 0.11312849162011174 (0.6836461126005362, 255, 373) (0.6780045351473923, 299, 441)\n",
      "96 0.11700680272108843 (0.6821705426356589, 264, 387) (0.6761487964989059, 309, 457)\n",
      "98 0.11838624338624339 (0.6767676767676768, 268, 396) (0.673773987206823, 316, 469)\n",
      "100 0.12005191434133679 (0.6724565756823822, 271, 403) (0.6701680672268907, 319, 476)\n",
      "102 0.11906269791006967 (0.6707616707616708, 273, 407) (0.6735966735966736, 324, 481)\n",
      "104 0.1186335403726708 (0.6730769230769231, 280, 416) (0.6741344195519349, 331, 491)\n",
      "106 0.1220110361741263 (0.6627634660421545, 283, 427) (0.6633663366336634, 335, 505)\n",
      "108 0.12326283987915408 (0.6597701149425287, 287, 435) (0.6595330739299611, 339, 514)\n",
      "110 0.12567004169148302 (0.6554054054054054, 291, 444) (0.6577437858508605, 344, 523)\n",
      "112 0.1266044340723454 (0.6550218340611353, 300, 458) (0.6567717996289425, 354, 539)\n",
      "114 0.12600229095074456 (0.6566523605150214, 306, 466) (0.659963436928702, 361, 547)\n",
      "116 0.12549240292628025 (0.6575052854122622, 311, 473) (0.6624548736462094, 367, 554)\n",
      "118 0.12534664448141986 (0.6568421052631579, 312, 475) (0.6618705035971223, 368, 556)\n",
      "120 0.12696690179055886 (0.6570841889117043, 320, 487) (0.6631578947368421, 378, 570)\n",
      "122 0.1267980820458178 (0.6592741935483871, 327, 496) (0.6637931034482759, 385, 580)\n",
      "124 0.12696747114375656 (0.6560636182902585, 330, 503) (0.6609880749574105, 388, 587)\n",
      "126 0.1268041237113402 (0.65625, 336, 512) (0.6605351170568562, 395, 598)\n",
      "128 0.12556962025316457 (0.6589595375722543, 342, 519) (0.6628099173553719, 401, 605)\n",
      "130 0.12618928392588882 (0.6584440227703985, 347, 527) (0.6655791190864601, 408, 613)\n",
      "132 0.12555610479485912 (0.6604477611940298, 354, 536) (0.6677367576243981, 416, 623)\n",
      "134 0.12336085478387566 (0.6635859519408502, 359, 541) (0.670906200317965, 422, 629)\n",
      "136 0.12309160305343511 (0.6630434782608695, 366, 552) (0.6713395638629284, 431, 642)\n",
      "138 0.12199717381064532 (0.6636690647482014, 369, 556) (0.6712962962962963, 435, 648)\n",
      "140 0.12215513237343242 (0.6625222024866785, 373, 563) (0.6692073170731707, 439, 656)\n",
      "142 0.1223744292237443 (0.6631944444444444, 382, 576) (0.6686567164179105, 448, 670)\n",
      "144 0.12202781516375057 (0.66553480475382, 392, 589) (0.6715328467153284, 460, 685)\n",
      "146 0.12081128747795414 (0.6677908937605397, 396, 593) (0.6739130434782609, 465, 690)\n",
      "148 0.1222896790980052 (0.6661129568106312, 401, 602) (0.6723891273247496, 470, 699)\n",
      "150 0.12173167595370767 (0.6666666666666666, 406, 609) (0.6728045325779037, 475, 706)\n",
      "152 0.12146773513285533 (0.6672051696284329, 413, 619) (0.6750348675034867, 484, 717)\n",
      "154 0.12141372141372142 (0.6677316293929713, 418, 626) (0.6758620689655173, 490, 725)\n",
      "156 0.12173202614379085 (0.6666666666666666, 424, 636) (0.6729986431478969, 496, 737)\n",
      "158 0.12137096774193548 (0.6677067082683308, 428, 641) (0.6752021563342318, 501, 742)\n",
      "160 0.12033359809372518 (0.6702619414483821, 435, 649) (0.6773333333333333, 508, 750)\n",
      "162 0.12079749804534792 (0.669683257918552, 444, 663) (0.6753585397653195, 518, 767)\n",
      "164 0.11941448382126348 (0.6716417910447762, 450, 670) (0.6774193548387096, 525, 775)\n",
      "166 0.11972633979475485 (0.671071953010279, 457, 681) (0.6751269035532995, 532, 788)\n",
      "168 0.12120075046904315 (0.6705202312138728, 464, 692) (0.6749688667496887, 542, 803)\n",
      "170 0.12111111111111111 (0.670958512160229, 469, 699) (0.6757090012330457, 548, 811)\n",
      "172 0.1225759238931577 (0.6666666666666666, 474, 711) (0.6670687575392038, 553, 829)\n",
      "174 0.1238300935925126 (0.6616022099447514, 479, 724) (0.6603550295857988, 558, 845)\n",
      "176 0.12322443181818182 (0.6625850340136055, 487, 735) (0.660069848661234, 567, 859)\n",
      "178 0.1235045742434905 (0.6626180836707153, 491, 741) (0.6624277456647398, 573, 865)\n",
      "180 0.12377963737796374 (0.6626506024096386, 495, 747) (0.661697247706422, 577, 872)\n",
      "182 0.12400964519462625 (0.6640211640211641, 502, 756) (0.6621315192743764, 584, 882)\n",
      "184 0.12482993197278912 (0.6636125654450262, 507, 764) (0.6610549943883277, 589, 891)\n",
      "186 0.124409979770735 (0.6645077720207254, 513, 772) (0.6625971143174251, 597, 901)\n",
      "188 0.12404134711570523 (0.6653846153846154, 519, 780) (0.6626506024096386, 605, 913)\n",
      "190 0.12367724867724868 (0.6662420382165605, 523, 785) (0.6641304347826087, 611, 920)\n",
      "192 0.1238126433016705 (0.6658227848101266, 526, 790) (0.6630669546436285, 614, 926)\n",
      "194 0.12277291869128604 (0.6683417085427136, 532, 796) (0.6652360515021459, 620, 932)\n",
      "196 0.1236386931454196 (0.6687344913151365, 539, 806) (0.6656084656084656, 629, 945)\n"
     ]
    },
    {
     "name": "stdout",
     "output_type": "stream",
     "text": [
      "198 0.12337867763366023 (0.6699266503667481, 548, 818) (0.6666666666666666, 640, 960)\n",
      "200 0.1222707423580786 (0.6715151515151515, 554, 825) (0.6683884297520661, 647, 968)\n",
      "202 0.12172573189522343 (0.6730538922155689, 562, 835) (0.669050051072523, 655, 979)\n",
      "204 0.12206286237412267 (0.6729857819905213, 568, 844) (0.6693629929221436, 662, 989)\n",
      "206 0.12258454106280194 (0.671746776084408, 573, 853) (0.6686686686686687, 668, 999)\n",
      "208 0.1217910447761194 (0.674364896073903, 584, 866) (0.671583087512291, 683, 1017)\n",
      "210 0.12138216184288246 (0.6750285062713797, 592, 877) (0.6741245136186771, 693, 1028)\n",
      "212 0.12083089526038619 (0.6768361581920904, 599, 885) (0.6763005780346821, 702, 1038)\n",
      "214 0.12044006948465547 (0.6778523489932886, 606, 894) (0.6761904761904762, 710, 1050)\n",
      "216 0.12195121951219512 (0.6766004415011038, 613, 906) (0.6719775070290535, 717, 1067)\n",
      "218 0.12109152927799886 (0.6797814207650273, 622, 915) (0.6747211895910781, 726, 1076)\n",
      "220 0.12082045518404046 (0.6778741865509761, 625, 922) (0.6731123388581952, 731, 1086)\n",
      "222 0.1213132999443517 (0.6763440860215054, 629, 930) (0.6721461187214612, 736, 1095)\n",
      "224 0.12117873863949326 (0.6759358288770053, 632, 935) (0.6727272727272727, 740, 1100)\n",
      "226 0.1217983651226158 (0.6783068783068783, 641, 945) (0.6747747747747748, 749, 1110)\n",
      "228 0.12169454937938479 (0.6775210084033614, 645, 952) (0.6723214285714286, 753, 1120)\n",
      "230 0.12225789192081327 (0.675, 648, 960) (0.6684350132625995, 756, 1131)\n",
      "232 0.12164674634794156 (0.6763185108583247, 654, 967) (0.6701754385964912, 764, 1140)\n",
      "234 0.12137967351237493 (0.6775844421699079, 662, 977) (0.6707211120764552, 772, 1151)\n",
      "236 0.12200208550573514 (0.6771573604060914, 667, 985) (0.6712683347713546, 778, 1159)\n",
      "238 0.12341853860056803 (0.6746746746746747, 674, 999) (0.6675170068027211, 785, 1176)\n",
      "240 0.12352941176470589 (0.675568743818002, 683, 1011) (0.6683459277917716, 796, 1191)\n",
      "242 0.12322515212981744 (0.676153091265947, 689, 1019) (0.6691666666666667, 803, 1200)\n",
      "244 0.12336683417085427 (0.6773566569484937, 697, 1029) (0.6705202312138728, 812, 1211)\n",
      "246 0.12282012954658694 (0.6791546589817483, 707, 1041) (0.6742857142857143, 826, 1225)\n",
      "248 0.1228719467061436 (0.6781279847182426, 710, 1047) (0.6726094003241491, 830, 1234)\n",
      "250 0.12233912405187179 (0.6793168880455408, 716, 1054) (0.6736502820306205, 836, 1241)\n",
      "252 0.12269641125121242 (0.6772983114446529, 722, 1066) (0.6714285714285714, 846, 1260)\n",
      "254 0.12184571016582552 (0.6811460258780037, 737, 1082) (0.6760343481654957, 866, 1281)\n",
      "256 0.1214574898785425 (0.6810661764705882, 741, 1088) (0.6762422360248447, 871, 1288)\n",
      "258 0.1213982050070855 (0.6809872029250457, 745, 1094) (0.6777434312210201, 877, 1294)\n",
      "260 0.12128307188012175 (0.6811989100817438, 750, 1101) (0.6779400461183704, 882, 1301)\n",
      "262 0.12111368909512761 (0.6813285457809695, 759, 1114) (0.6788432267884322, 892, 1314)\n",
      "264 0.12063419117647059 (0.6835555555555556, 769, 1125) (0.6807228915662651, 904, 1328)\n",
      "266 0.12002727892702887 (0.6851363236587511, 779, 1137) (0.6815809097688292, 914, 1341)\n",
      "268 0.12048736462093863 (0.6843940714908456, 785, 1147) (0.6804733727810651, 920, 1352)\n",
      "270 0.1201524321900919 (0.6848484848484848, 791, 1155) (0.6818515797207936, 928, 1361)\n",
      "272 0.1203559510567297 (0.6852966466036113, 797, 1163) (0.6817518248175183, 934, 1370)\n",
      "274 0.12011481563258998 (0.6863247863247863, 803, 1170) (0.683599419448476, 942, 1378)\n",
      "276 0.11991247264770241 (0.6870229007633588, 810, 1179) (0.6844380403458213, 950, 1388)\n",
      "278 0.11946133796698523 (0.688026981450253, 816, 1186) (0.6853046594982078, 956, 1395)\n",
      "280 0.11925814103946517 (0.6887583892617449, 821, 1192) (0.6859386152748037, 961, 1401)\n",
      "282 0.12001714530647235 (0.6883333333333334, 826, 1200) (0.6863023420865862, 967, 1409)\n",
      "284 0.11998301125504353 (0.6882255389718076, 830, 1206) (0.6864406779661016, 972, 1416)\n",
      "286 0.11993243243243243 (0.6878612716763006, 833, 1211) (0.6865776528460998, 977, 1423)\n",
      "288 0.12143456375838926 (0.6863711001642037, 836, 1218) (0.6864525139664804, 983, 1432)\n",
      "290 0.12124373956594324 (0.6865793780687398, 839, 1222) (0.6856745479833102, 986, 1438)\n",
      "292 0.12059676750932449 (0.6872964169381107, 844, 1228) (0.6865051903114187, 992, 1445)\n",
      "294 0.12018140589569161 (0.6877534468775345, 848, 1233) (0.6866391184573003, 997, 1452)\n",
      "296 0.11987704918032786 (0.6871463217461601, 850, 1237) (0.6868131868131868, 1000, 1456)\n",
      "298 0.11970684039087948 (0.6872990353697749, 855, 1244) (0.6864754098360656, 1005, 1464)\n",
      "300 0.12047705680210229 (0.6874500399680256, 860, 1251) (0.6858887381275441, 1011, 1474)\n",
      "302 0.1200960768614892 (0.6896278701504355, 871, 1263) (0.6877523553162853, 1022, 1486)\n",
      "304 0.11976166832174777 (0.6895193065405831, 875, 1269) (0.6878767582049564, 1027, 1493)\n",
      "306 0.1201106282101936 (0.6891151135473766, 880, 1277) (0.6872920825016633, 1033, 1503)\n",
      "308 0.11969339622641509 (0.6897895557287607, 885, 1283) (0.6878727634194831, 1038, 1509)\n",
      "310 0.11986703167774736 (0.6897356143079316, 887, 1286) (0.6873760740251157, 1040, 1513)\n",
      "312 0.11970462495141858 (0.6886134779240899, 889, 1291) (0.6881578947368421, 1046, 1520)\n",
      "314 0.11915797605252994 (0.6888030888030888, 892, 1295) (0.6885245901639344, 1050, 1525)\n",
      "316 0.11859527921704087 (0.6909509202453987, 901, 1304) (0.6909564085881588, 1062, 1537)\n",
      "318 0.11798287345385347 (0.6923076923076923, 909, 1313) (0.6921086675291074, 1070, 1546)\n",
      "320 0.11819213313161876 (0.6926570779712339, 915, 1321) (0.692604501607717, 1077, 1555)\n",
      "322 0.11882860897315563 (0.6916729182295573, 922, 1333) (0.6906429026098027, 1085, 1571)\n",
      "0.25042111173498033 0.11903425042111174 (0.6913303437967115, 925, 1338) (0.6903553299492385, 1088, 1576)\n"
     ]
    }
   ],
   "source": [
    "predicted_tokens = []\n",
    "a = 324\n",
    "for i,s in enumerate(error_sentences):\n",
    "    c = extract_choices(s,model=model,p_lambda =0.7 ,trie = True,likelihood = 'bm',model_type = 'transformer')\n",
    "#     print(c)\n",
    "    c = [t[0] for t in c]\n",
    "    predicted_tokens.append(c)\n",
    "    if i%2 == 0:\n",
    "        print(i,WER(correct_tokens[:i+1],predicted_tokens[:i+1] ),word_accuracy(correct_tokens[:i+1],predicted_tokens[:i+1],error_tokens[:i+1]),char_accuracy(correct_tokens[:i+1],predicted_tokens[:i+1],error_tokens[:i+1]))\n",
    "    if i==323:\n",
    "        print(WER(correct_tokens[:a],error_tokens[:a] ),WER(correct_tokens[:a],predicted_tokens[:a] ),word_accuracy(correct_tokens[:a],predicted_tokens[:a],error_tokens[:a]),char_accuracy(correct_tokens[:a],predicted_tokens[:a],error_tokens[:a]))\n",
    "        break  "
   ]
  },
  {
   "cell_type": "code",
   "execution_count": 19,
   "id": "e7cfcfd7",
   "metadata": {},
   "outputs": [
    {
     "data": {
      "text/plain": [
       "(0.25042111173498033, 0.11903425042111174)"
      ]
     },
     "execution_count": 19,
     "metadata": {},
     "output_type": "execute_result"
    }
   ],
   "source": [
    "a = len(predicted_tokens)\n",
    "WER(correct_tokens[:a],error_tokens[:a] ),WER(correct_tokens[:a],predicted_tokens[:a] )"
   ]
  },
  {
   "cell_type": "code",
   "execution_count": 20,
   "id": "9d0ea3d8",
   "metadata": {},
   "outputs": [
    {
     "data": {
      "text/plain": [
       "(0.6913303437967115, 925, 1338)"
      ]
     },
     "execution_count": 20,
     "metadata": {},
     "output_type": "execute_result"
    }
   ],
   "source": [
    "word_accuracy(correct_tokens[:a],predicted_tokens[:a],error_tokens[:a])"
   ]
  },
  {
   "cell_type": "code",
   "execution_count": null,
   "id": "a7eae5d8",
   "metadata": {},
   "outputs": [],
   "source": [
    "char_accuracy(correct_tokens[:a],predicted_tokens[:a],error_tokens[:a])"
   ]
  },
  {
   "cell_type": "markdown",
   "id": "4e533047",
   "metadata": {},
   "source": [
    "#### (0.6903553299492385, 1088, 1576)"
   ]
  },
  {
   "cell_type": "markdown",
   "id": "cc3e6641",
   "metadata": {},
   "source": [
    "### constant distributive likelihood"
   ]
  },
  {
   "cell_type": "code",
   "execution_count": 22,
   "id": "5a90e8cd",
   "metadata": {},
   "outputs": [
    {
     "name": "stdout",
     "output_type": "stream",
     "text": [
      "0\n",
      "2\n",
      "4\n",
      "6\n",
      "8\n",
      "0.0  :  (0.0, 0, 42) WER1:  0.2727272727272727 WER2:  0.2727272727272727\n",
      "0\n",
      "2\n",
      "4\n",
      "6\n",
      "8\n",
      "0.2  :  (0.5714285714285714, 24, 42) WER1:  0.2727272727272727 WER2:  0.11688311688311688\n",
      "0\n",
      "2\n",
      "4\n",
      "6\n",
      "8\n",
      "0.4  :  (0.6666666666666666, 28, 42) WER1:  0.2727272727272727 WER2:  0.1038961038961039\n",
      "0\n",
      "2\n",
      "4\n",
      "6\n",
      "8\n",
      "0.6000000000000001  :  (0.6904761904761905, 29, 42) WER1:  0.2727272727272727 WER2:  0.11038961038961038\n",
      "0\n",
      "2\n",
      "4\n",
      "6\n",
      "8\n",
      "0.8  :  (0.6904761904761905, 29, 42) WER1:  0.2727272727272727 WER2:  0.14285714285714285\n",
      "0\n",
      "2\n",
      "4\n",
      "6\n",
      "8\n",
      "1.0  :  (0.6904761904761905, 29, 42) WER1:  0.2727272727272727 WER2:  0.15584415584415584\n",
      "0\n",
      "2\n",
      "4\n",
      "6\n",
      "8\n",
      "1.2000000000000002  :  (0.6904761904761905, 29, 42) WER1:  0.2727272727272727 WER2:  0.16233766233766234\n",
      "0\n",
      "2\n",
      "4\n",
      "6\n",
      "8\n",
      "1.4000000000000001  :  (0.6666666666666666, 28, 42) WER1:  0.2727272727272727 WER2:  0.19480519480519481\n"
     ]
    }
   ],
   "source": [
    "Gap = 0.2\n",
    "a = 10\n",
    "def find_p_lambda(error_sentences):\n",
    "    \n",
    "    for j in range(8):\n",
    "        predicted_tokens = []\n",
    "        for i,s in enumerate(error_sentences[:a]):\n",
    "            c = extract_choices(s,model=model,p_lambda =Gap*j,trie = True,likelihood = 'default',model_type = 'transformer')\n",
    "        #     print(c)\n",
    "            c = [t[0] for t in c]\n",
    "            predicted_tokens.append(c)\n",
    "            if i%2 == 0:\n",
    "                print(i)\n",
    "#         word_accuracy(correct_tokens[:a],predicted_tokens[:a],error_tokens[:a])\n",
    "        print(Gap*j,' : ',word_accuracy(correct_tokens[:a],predicted_tokens[:a],error_tokens[:a]),'WER1: ',WER(correct_tokens[:a],error_tokens[:a] ),'WER2: ',WER(correct_tokens[:a],predicted_tokens[:a] ))\n",
    "find_p_lambda(error_sentences)"
   ]
  },
  {
   "cell_type": "code",
   "execution_count": 23,
   "id": "0a09daf7",
   "metadata": {},
   "outputs": [
    {
     "name": "stdout",
     "output_type": "stream",
     "text": [
      "0 0.07692307692307693 (1.0, 4, 4) (1.0, 4, 4)\n",
      "2 0.20512820512820512 (0.6923076923076923, 9, 13) (0.7857142857142857, 11, 14)\n",
      "4 0.17142857142857143 (0.7083333333333334, 17, 24) (0.7407407407407407, 20, 27)\n",
      "6 0.17525773195876287 (0.6428571428571429, 18, 28) (0.71875, 23, 32)\n",
      "8 0.15789473684210525 (0.6486486486486487, 24, 37) (0.7441860465116279, 32, 43)\n",
      "10 0.13529411764705881 (0.6818181818181818, 30, 44) (0.7307692307692307, 38, 52)\n",
      "12 0.15104166666666666 (0.66, 33, 50) (0.6833333333333333, 41, 60)\n",
      "14 0.13513513513513514 (0.7049180327868853, 43, 61) (0.7083333333333334, 51, 72)\n",
      "16 0.1388888888888889 (0.6714285714285714, 47, 70) (0.6746987951807228, 56, 83)\n",
      "18 0.13602941176470587 (0.6666666666666666, 50, 75) (0.6555555555555556, 59, 90)\n",
      "20 0.13513513513513514 (0.6705882352941176, 57, 85) (0.6633663366336634, 67, 101)\n",
      "22 0.14285714285714285 (0.648936170212766, 61, 94) (0.6517857142857143, 73, 112)\n",
      "24 0.14326647564469913 (0.6534653465346535, 66, 101) (0.65, 78, 120)\n",
      "26 0.13829787234042554 (0.6666666666666666, 72, 108) (0.6614173228346457, 84, 127)\n",
      "28 0.13784461152882205 (0.6636363636363637, 73, 110) (0.6589147286821705, 85, 129)\n",
      "30 0.14182692307692307 (0.6576576576576577, 73, 111) (0.6538461538461539, 85, 130)\n",
      "32 0.15056179775280898 (0.6551724137931034, 76, 116) (0.656934306569343, 90, 137)\n",
      "34 0.14799154334038056 (0.6504065040650406, 80, 123) (0.6643835616438356, 97, 146)\n",
      "36 0.14428857715430862 (0.6507936507936508, 82, 126) (0.6644295302013423, 99, 149)\n",
      "38 0.14258188824662812 (0.6484375, 83, 128) (0.6644736842105263, 101, 152)\n",
      "40 0.13996316758747698 (0.6567164179104478, 88, 134) (0.6772151898734177, 107, 158)\n",
      "42 0.1371527777777778 (0.6521739130434783, 90, 138) (0.6728395061728395, 109, 162)\n",
      "44 0.13590604026845637 (0.6573426573426573, 94, 143) (0.6745562130177515, 114, 169)\n",
      "46 0.13001605136436598 (0.6776315789473685, 103, 152) (0.6944444444444444, 125, 180)\n",
      "48 0.12844036697247707 (0.6708860759493671, 106, 158) (0.6881720430107527, 128, 186)\n",
      "50 0.12426900584795321 (0.6807228915662651, 113, 166) (0.6868686868686869, 136, 198)\n",
      "52 0.12137931034482759 (0.6949152542372882, 123, 177) (0.6985645933014354, 146, 209)\n",
      "54 0.1222366710013004 (0.7010309278350515, 136, 194) (0.7180616740088106, 163, 227)\n",
      "56 0.12315270935960591 (0.6923076923076923, 144, 208) (0.7032520325203252, 173, 246)\n",
      "58 0.13089622641509435 (0.6863636363636364, 151, 220) (0.6961538461538461, 181, 260)\n",
      "60 0.12895927601809956 (0.6943231441048034, 159, 229) (0.7011070110701108, 190, 271)\n",
      "62 0.12622415669205658 (0.6923076923076923, 162, 234) (0.6967509025270758, 193, 277)\n",
      "64 0.12618296529968454 (0.691358024691358, 168, 243) (0.6968641114982579, 200, 287)\n",
      "66 0.12564366632337795 (0.6932270916334662, 174, 251) (0.6959459459459459, 206, 296)\n",
      "68 0.12674650698602793 (0.6908396946564885, 181, 262) (0.698051948051948, 215, 308)\n",
      "70 0.128131021194605 (0.6888888888888889, 186, 270) (0.6981132075471698, 222, 318)\n",
      "72 0.12546468401486988 (0.693950177935943, 195, 281) (0.706060606060606, 233, 330)\n",
      "74 0.12646793134598014 (0.6952054794520548, 203, 292) (0.7105263157894737, 243, 342)\n",
      "76 0.1234676007005254 (0.6989966555183946, 209, 299) (0.7134670487106017, 249, 349)\n",
      "78 0.12436115843270869 (0.7003257328990228, 215, 307) (0.7198879551820728, 257, 357)\n",
      "80 0.12635078969243557 (0.6996805111821086, 219, 313) (0.71900826446281, 261, 363)\n",
      "82 0.1301535974130962 (0.6932515337423313, 226, 326) (0.718421052631579, 273, 380)\n",
      "84 0.12961508248232523 (0.6946107784431138, 232, 334) (0.7197943444730077, 280, 389)\n",
      "86 0.1280674846625767 (0.6964285714285714, 234, 336) (0.7219387755102041, 283, 392)\n",
      "88 0.12742175856929955 (0.6956521739130435, 240, 345) (0.7209876543209877, 292, 405)\n",
      "90 0.12747252747252746 (0.6931818181818182, 244, 352) (0.7281553398058253, 300, 412)\n",
      "92 0.12741589119541877 (0.6925207756232687, 250, 361) (0.7298578199052133, 308, 422)\n",
      "94 0.13128491620111732 (0.6863270777479893, 256, 373) (0.7256235827664399, 320, 441)\n",
      "96 0.13401360544217686 (0.6795865633074936, 263, 387) (0.7199124726477024, 329, 457)\n",
      "98 0.1388888888888889 (0.6742424242424242, 267, 396) (0.720682302771855, 338, 469)\n",
      "100 0.14211550940947437 (0.6699751861042184, 270, 403) (0.7226890756302521, 344, 476)\n",
      "102 0.14122862571247624 (0.6707616707616708, 273, 407) (0.7276507276507277, 350, 481)\n",
      "104 0.14161490683229813 (0.6730769230769231, 280, 416) (0.7270875763747454, 357, 491)\n",
      "106 0.14653586756591047 (0.6604215456674473, 282, 427) (0.7148514851485148, 361, 505)\n",
      "108 0.14803625377643503 (0.6574712643678161, 286, 435) (0.7159533073929961, 368, 514)\n",
      "110 0.1506849315068493 (0.6531531531531531, 290, 444) (0.7151051625239006, 374, 523)\n",
      "112 0.15052508751458576 (0.6572052401746725, 301, 458) (0.7161410018552876, 386, 539)\n",
      "114 0.15005727376861397 (0.6587982832618026, 307, 466) (0.7184643510054844, 393, 547)\n",
      "116 0.148564997186269 (0.6617336152219874, 313, 473) (0.723826714801444, 401, 554)\n",
      "118 0.14919578480310594 (0.6610526315789473, 314, 475) (0.7230215827338129, 402, 556)\n",
      "120 0.15084102007596312 (0.6570841889117043, 320, 487) (0.724561403508772, 413, 570)\n",
      "122 0.1507725093233884 (0.6592741935483871, 327, 496) (0.7241379310344828, 420, 580)\n",
      "124 0.15110178384050368 (0.6560636182902585, 330, 503) (0.7223168654173765, 424, 587)\n",
      "126 0.15051546391752577 (0.65625, 336, 512) (0.7224080267558528, 432, 598)\n",
      "128 0.14835443037974683 (0.6589595375722543, 342, 519) (0.7256198347107438, 439, 605)\n",
      "130 0.14872308462694042 (0.6584440227703985, 347, 527) (0.7308319738988581, 448, 613)\n",
      "132 0.14730598121601582 (0.6623134328358209, 355, 536) (0.7335473515248796, 457, 623)\n",
      "134 0.14473045167557066 (0.6654343807763401, 360, 541) (0.7360890302066773, 463, 629)\n",
      "136 0.14456106870229007 (0.6630434782608695, 366, 552) (0.7336448598130841, 471, 642)\n",
      "138 0.1436646255299105 (0.6636690647482014, 369, 556) (0.7330246913580247, 475, 648)\n",
      "140 0.14305620065025546 (0.6642984014209592, 374, 563) (0.7317073170731707, 480, 656)\n",
      "142 0.14292237442922373 (0.6649305555555556, 383, 576) (0.7298507462686568, 489, 670)\n",
      "144 0.14221624046657694 (0.66723259762309, 393, 589) (0.7328467153284671, 502, 685)\n",
      "146 0.1402116402116402 (0.6694772344013491, 397, 593) (0.7347826086956522, 507, 690)\n",
      "148 0.14050303555941024 (0.6677740863787376, 402, 602) (0.7353361945636624, 514, 699)\n",
      "150 0.14059151307329618 (0.6683087027914614, 407, 609) (0.7351274787535411, 519, 706)\n",
      "152 0.14129059468578659 (0.6672051696284329, 413, 619) (0.7364016736401674, 528, 717)\n",
      "154 0.1417879417879418 (0.6677316293929713, 418, 626) (0.736551724137931, 534, 725)\n",
      "156 0.1417483660130719 (0.6666666666666666, 424, 636) (0.7327001356852103, 540, 737)\n",
      "158 0.14153225806451614 (0.6677067082683308, 428, 641) (0.7345013477088949, 545, 742)\n",
      "160 0.14138204924543288 (0.6702619414483821, 435, 649) (0.736, 552, 750)\n",
      "162 0.1422986708365911 (0.6681749622926093, 443, 663) (0.7340286831812256, 563, 767)\n",
      "164 0.1406009244992296 (0.6701492537313433, 449, 670) (0.7354838709677419, 570, 775)\n",
      "166 0.14139110604332952 (0.6696035242290749, 456, 681) (0.733502538071066, 578, 788)\n",
      "168 0.14183864915572234 (0.6690751445086706, 463, 692) (0.7310087173100872, 587, 803)\n",
      "170 0.14185185185185184 (0.6680972818311874, 467, 699) (0.7299630086313194, 592, 811)\n",
      "172 0.14489571899012074 (0.6610407876230661, 470, 711) (0.7201447527141134, 597, 829)\n",
      "174 0.14506839452843773 (0.6574585635359116, 476, 724) (0.7183431952662722, 607, 845)\n",
      "176 0.14488636363636365 (0.6571428571428571, 483, 735) (0.7171129220023282, 616, 859)\n",
      "178 0.14567206192821958 (0.6558704453441295, 486, 741) (0.7213872832369942, 624, 865)\n",
      "180 0.14609483960948397 (0.6559571619812584, 490, 747) (0.7213302752293578, 629, 872)\n",
      "182 0.1470892180502928 (0.656084656084656, 496, 756) (0.7256235827664399, 640, 882)\n",
      "184 0.14795918367346939 (0.6544502617801047, 500, 764) (0.7239057239057239, 645, 891)\n",
      "186 0.1473364801078894 (0.6567357512953368, 507, 772) (0.7269700332963374, 655, 901)\n",
      "188 0.1470490163387796 (0.6576923076923077, 513, 780) (0.7261774370208105, 663, 913)\n",
      "190 0.14682539682539683 (0.6585987261146496, 517, 785) (0.7271739130434782, 669, 920)\n",
      "192 0.14772355060596135 (0.6569620253164556, 519, 790) (0.7267818574514039, 673, 926)\n",
      "194 0.1464204729510852 (0.6595477386934674, 525, 796) (0.7285407725321889, 679, 932)\n",
      "196 0.14702114029468288 (0.6600496277915633, 532, 806) (0.7301587301587301, 690, 945)\n"
     ]
    },
    {
     "name": "stdout",
     "output_type": "stream",
     "text": [
      "198 0.14710534640936412 (0.6589242053789731, 539, 818) (0.7302083333333333, 701, 960)\n",
      "200 0.14660012476606363 (0.6593939393939394, 544, 825) (0.731404958677686, 708, 968)\n",
      "202 0.1460708782742681 (0.6610778443113773, 552, 835) (0.7334014300306435, 718, 979)\n",
      "204 0.1464754348489472 (0.659952606635071, 557, 844) (0.7350859453993933, 727, 989)\n",
      "206 0.14583333333333334 (0.6600234466588512, 563, 853) (0.7347347347347347, 734, 999)\n",
      "208 0.14507462686567163 (0.663972286374134, 575, 866) (0.7384464110127827, 751, 1017)\n",
      "210 0.14412285883047843 (0.6659064994298746, 584, 877) (0.7402723735408561, 761, 1028)\n",
      "212 0.14335868929198362 (0.6677966101694915, 591, 885) (0.7418111753371869, 770, 1038)\n",
      "214 0.14302258251302838 (0.668903803131991, 598, 894) (0.7409523809523809, 778, 1050)\n",
      "216 0.1443328550932568 (0.6688741721854304, 606, 906) (0.7366447985004686, 786, 1067)\n",
      "218 0.14326321773735076 (0.6721311475409836, 615, 915) (0.7388475836431226, 795, 1076)\n",
      "220 0.14329867940432706 (0.6702819956616052, 618, 922) (0.7366482504604052, 800, 1086)\n",
      "222 0.14385086254869225 (0.6688172043010753, 622, 930) (0.736986301369863, 807, 1095)\n",
      "224 0.1437620490223079 (0.667379679144385, 624, 935) (0.7363636363636363, 810, 1100)\n",
      "226 0.1438692098092643 (0.6677248677248677, 631, 945) (0.7360360360360361, 817, 1110)\n",
      "228 0.14328116567728008 (0.667016806722689, 635, 952) (0.7330357142857142, 821, 1120)\n",
      "230 0.14392723381487427 (0.6645833333333333, 638, 960) (0.7294429708222812, 825, 1131)\n",
      "232 0.14342629482071714 (0.6649431230610134, 643, 967) (0.7324561403508771, 835, 1140)\n",
      "234 0.14375987361769352 (0.6673490276356192, 652, 977) (0.733275412684622, 844, 1151)\n",
      "236 0.14442127215849843 (0.665989847715736, 656, 985) (0.7333908541846419, 850, 1159)\n",
      "238 0.14510715207849212 (0.6636636636636637, 663, 999) (0.7304421768707483, 859, 1176)\n",
      "240 0.14501278772378517 (0.6646884272997032, 672, 1011) (0.7321578505457599, 872, 1191)\n",
      "242 0.1452839756592292 (0.6643768400392541, 677, 1019) (0.7333333333333333, 880, 1200)\n",
      "244 0.14547738693467338 (0.6656948493683188, 685, 1029) (0.7349298100743188, 890, 1211)\n",
      "246 0.14524165421026408 (0.6666666666666666, 694, 1041) (0.7387755102040816, 905, 1225)\n",
      "248 0.14557118184061188 (0.6657115568290354, 697, 1047) (0.7366288492706645, 909, 1234)\n",
      "250 0.14509420112551993 (0.6660341555977229, 702, 1054) (0.7373086220789685, 915, 1241)\n",
      "252 0.14524733268671192 (0.6641651031894934, 708, 1066) (0.734920634920635, 926, 1260)\n",
      "254 0.14395577986061042 (0.6691312384473198, 724, 1082) (0.7392661982825918, 947, 1281)\n",
      "256 0.14360562038580615 (0.6691176470588235, 728, 1088) (0.7399068322981367, 953, 1288)\n",
      "258 0.14359943316013227 (0.6681901279707495, 731, 1094) (0.740340030911901, 958, 1294)\n",
      "260 0.14282369468508546 (0.6693914623069936, 737, 1101) (0.7417371252882398, 965, 1301)\n",
      "262 0.14338747099767982 (0.6678635547576302, 744, 1114) (0.741248097412481, 974, 1314)\n",
      "264 0.14223345588235295 (0.6711111111111111, 755, 1125) (0.7439759036144579, 988, 1328)\n",
      "266 0.14275971811775404 (0.671943711521548, 764, 1137) (0.744220730797912, 998, 1341)\n",
      "268 0.14372743682310468 (0.6704446381865736, 769, 1147) (0.7418639053254438, 1003, 1352)\n",
      "270 0.1434655906747366 (0.6701298701298701, 774, 1155) (0.7435709037472447, 1012, 1361)\n",
      "272 0.14349276974416017 (0.6706792777300086, 780, 1163) (0.743065693430657, 1018, 1370)\n",
      "274 0.1437403400309119 (0.6709401709401709, 785, 1170) (0.7452830188679245, 1027, 1378)\n",
      "276 0.1435448577680525 (0.6709075487701441, 791, 1179) (0.7449567723342939, 1034, 1388)\n",
      "278 0.14378801042571676 (0.6703204047217538, 795, 1186) (0.7455197132616488, 1040, 1395)\n",
      "280 0.143627345266336 (0.6711409395973155, 800, 1192) (0.7458957887223412, 1045, 1401)\n",
      "282 0.14466352336048008 (0.6708333333333333, 805, 1200) (0.7459190915542938, 1051, 1409)\n",
      "284 0.14482905075387556 (0.6699834162520729, 808, 1206) (0.7464689265536724, 1057, 1416)\n",
      "286 0.14505912162162163 (0.6688687035507844, 810, 1211) (0.7456078706957133, 1061, 1423)\n",
      "288 0.14597315436241612 (0.6691297208538588, 815, 1218) (0.7479050279329609, 1071, 1432)\n",
      "290 0.14607679465776294 (0.6685761047463176, 817, 1222) (0.7461752433936022, 1073, 1438)\n",
      "292 0.145462080397845 (0.6685667752442996, 821, 1228) (0.7480968858131488, 1081, 1445)\n",
      "294 0.14491857349000206 (0.6690997566909975, 825, 1233) (0.7479338842975206, 1086, 1452)\n",
      "296 0.1444672131147541 (0.6685529506871464, 827, 1237) (0.7479395604395604, 1089, 1456)\n",
      "298 0.14434039087947884 (0.6680064308681672, 831, 1244) (0.7465846994535519, 1093, 1464)\n",
      "300 0.14453203961997171 (0.6674660271782574, 835, 1251) (0.7449118046132972, 1098, 1474)\n",
      "302 0.14471577261809448 (0.6682501979414094, 844, 1263) (0.7476446837146703, 1111, 1486)\n",
      "304 0.1445878848063555 (0.6674546887312844, 847, 1269) (0.7474882786336235, 1116, 1493)\n",
      "306 0.14480442512840774 (0.6671887235708692, 852, 1277) (0.7471723220226214, 1123, 1503)\n",
      "308 0.14465408805031446 (0.666406858924396, 855, 1283) (0.7461895294897283, 1126, 1509)\n",
      "310 0.14470082127493156 (0.666407465007776, 857, 1286) (0.7455386649041639, 1128, 1513)\n",
      "312 0.14438398756315585 (0.6653756777691712, 859, 1291) (0.7453947368421052, 1133, 1520)\n",
      "314 0.14387794515256855 (0.6648648648648648, 861, 1295) (0.7442622950819672, 1135, 1525)\n",
      "316 0.14296680099788908 (0.6671779141104295, 870, 1304) (0.7462589459986988, 1147, 1537)\n",
      "318 0.14253092293054234 (0.6671744097486672, 876, 1313) (0.7464424320827943, 1154, 1546)\n",
      "320 0.14315431164901665 (0.6669190007570023, 881, 1321) (0.7472668810289389, 1162, 1555)\n",
      "322 0.14398348038295475 (0.6661665416354089, 888, 1333) (0.7447485677912158, 1170, 1571)\n",
      "0.25042111173498033 0.14467527606213737 (0.6651718983557549, 890, 1338) (0.7436548223350253, 1172, 1576)\n"
     ]
    }
   ],
   "source": [
    "predicted_tokens = []\n",
    "a = 324\n",
    "for i,s in enumerate(error_sentences):\n",
    "    c = extract_choices(s,model=model,p_lambda =0.8 ,trie = True,likelihood = 'default',model_type = 'transformer')\n",
    "#     print(c)\n",
    "    c = [t[0] for t in c]\n",
    "    predicted_tokens.append(c)\n",
    "    if i%2 == 0:\n",
    "        print(i,WER(correct_tokens[:i+1],predicted_tokens[:i+1] ),word_accuracy(correct_tokens[:i+1],predicted_tokens[:i+1],error_tokens[:i+1]),char_accuracy(correct_tokens[:i+1],predicted_tokens[:i+1],error_tokens[:i+1]))\n",
    "    if i==323:\n",
    "        print(WER(correct_tokens[:a],error_tokens[:a] ),WER(correct_tokens[:a],predicted_tokens[:a] ),word_accuracy(correct_tokens[:a],predicted_tokens[:a],error_tokens[:a]),char_accuracy(correct_tokens[:a],predicted_tokens[:a],error_tokens[:a]))\n",
    "        break  "
   ]
  },
  {
   "cell_type": "code",
   "execution_count": null,
   "id": "f7170c93",
   "metadata": {},
   "outputs": [],
   "source": [
    "a = len(predicted_tokens)\n",
    "WER(correct_tokens[:a],error_tokens[:a] ),WER(correct_tokens[:a],predicted_tokens[:a] )"
   ]
  },
  {
   "cell_type": "code",
   "execution_count": null,
   "id": "e52dfe6c",
   "metadata": {},
   "outputs": [],
   "source": []
  },
  {
   "cell_type": "code",
   "execution_count": 40,
   "id": "d0325007",
   "metadata": {},
   "outputs": [
    {
     "name": "stdout",
     "output_type": "stream",
     "text": [
      "0 0.15384615384615385 (0.75, 3, 4) (0.75, 3, 4)\n",
      "2 0.28205128205128205 (0.46153846153846156, 6, 13) (0.42857142857142855, 6, 14)\n",
      "4 0.2857142857142857 (0.3333333333333333, 8, 24) (0.2962962962962963, 8, 27)\n",
      "6 0.23711340206185566 (0.32142857142857145, 9, 28) (0.34375, 11, 32)\n",
      "8 0.21052631578947367 (0.40540540540540543, 15, 37) (0.4418604651162791, 19, 43)\n",
      "10 0.18235294117647058 (0.45454545454545453, 20, 44) (0.46153846153846156, 24, 52)\n",
      "12 0.18229166666666666 (0.44, 22, 50) (0.43333333333333335, 26, 60)\n",
      "14 0.1981981981981982 (0.39344262295081966, 24, 61) (0.3888888888888889, 28, 72)\n",
      "16 0.20238095238095238 (0.38571428571428573, 27, 70) (0.39759036144578314, 33, 83)\n",
      "18 0.20588235294117646 (0.36, 27, 75) (0.36666666666666664, 33, 90)\n",
      "20 0.21283783783783783 (0.35294117647058826, 30, 85) (0.3564356435643564, 36, 101)\n",
      "22 0.21580547112462006 (0.3404255319148936, 32, 94) (0.3392857142857143, 38, 112)\n",
      "24 0.2148997134670487 (0.3465346534653465, 35, 101) (0.3416666666666667, 41, 120)\n",
      "26 0.21010638297872342 (0.35185185185185186, 38, 108) (0.3464566929133858, 44, 127)\n",
      "28 0.20300751879699247 (0.35454545454545455, 39, 110) (0.3488372093023256, 45, 129)\n",
      "30 0.19951923076923078 (0.35135135135135137, 39, 111) (0.34615384615384615, 45, 130)\n",
      "32 0.19775280898876405 (0.33620689655172414, 39, 116) (0.3284671532846715, 45, 137)\n",
      "34 0.19661733615221988 (0.3333333333333333, 41, 123) (0.3219178082191781, 47, 146)\n",
      "36 0.1903807615230461 (0.3333333333333333, 42, 126) (0.3288590604026846, 49, 149)\n",
      "38 0.18882466281310212 (0.328125, 42, 128) (0.3223684210526316, 49, 152)\n",
      "40 0.1860036832412523 (0.3358208955223881, 45, 134) (0.33544303797468356, 53, 158)\n",
      "42 0.18229166666666666 (0.34057971014492755, 47, 138) (0.3395061728395062, 55, 162)\n",
      "44 0.18288590604026847 (0.3356643356643357, 48, 143) (0.33136094674556216, 56, 169)\n",
      "46 0.18138041733547353 (0.34868421052631576, 53, 152) (0.3388888888888889, 61, 180)\n",
      "48 0.18042813455657492 (0.35443037974683544, 56, 158) (0.34408602150537637, 64, 186)\n",
      "50 0.17690058479532164 (0.3674698795180723, 61, 166) (0.3484848484848485, 69, 198)\n",
      "52 0.1793103448275862 (0.3672316384180791, 65, 177) (0.35406698564593303, 74, 209)\n",
      "54 0.18205461638491546 (0.37628865979381443, 73, 194) (0.36123348017621143, 82, 227)\n",
      "56 0.18226600985221675 (0.3798076923076923, 79, 208) (0.35772357723577236, 88, 246)\n",
      "58 0.18514150943396226 (0.37272727272727274, 82, 220) (0.35, 91, 260)\n",
      "60 0.18552036199095023 (0.37554585152838427, 86, 229) (0.3505535055350554, 95, 271)\n",
      "62 0.18498367791077258 (0.37606837606837606, 88, 234) (0.35018050541516244, 97, 277)\n",
      "64 0.1808622502628812 (0.39094650205761317, 95, 243) (0.3623693379790941, 104, 287)\n",
      "66 0.1822863027806385 (0.3904382470119522, 98, 251) (0.36486486486486486, 108, 296)\n",
      "68 0.18662674650698602 (0.37786259541984735, 99, 262) (0.35714285714285715, 110, 308)\n",
      "70 0.18689788053949905 (0.37407407407407406, 101, 270) (0.3522012578616352, 112, 318)\n",
      "72 0.18680297397769516 (0.3736654804270463, 105, 281) (0.35454545454545455, 117, 330)\n",
      "74 0.18699186991869918 (0.3767123287671233, 110, 292) (0.35964912280701755, 123, 342)\n",
      "76 0.18388791593695272 (0.38127090301003347, 114, 299) (0.3638968481375358, 127, 349)\n",
      "78 0.18568994889267462 (0.3745928338762215, 115, 307) (0.3585434173669468, 128, 357)\n",
      "80 0.18453865336658354 (0.3738019169329074, 117, 313) (0.3608815426997245, 131, 363)\n",
      "82 0.18674211802748586 (0.37423312883435583, 122, 326) (0.35789473684210527, 136, 380)\n",
      "84 0.18538884524744698 (0.3772455089820359, 126, 334) (0.35989717223650386, 140, 389)\n",
      "86 0.18174846625766872 (0.37797619047619047, 127, 336) (0.3596938775510204, 141, 392)\n",
      "88 0.1810730253353204 (0.37971014492753624, 131, 345) (0.3654320987654321, 148, 405)\n",
      "90 0.18315018315018314 (0.375, 132, 352) (0.3616504854368932, 149, 412)\n",
      "92 0.18468146027201146 (0.3684210526315789, 133, 361) (0.3578199052132701, 151, 422)\n",
      "94 0.18854748603351956 (0.36193029490616624, 135, 373) (0.3469387755102041, 153, 441)\n",
      "96 0.19047619047619047 (0.36175710594315247, 140, 387) (0.34573304157549234, 158, 457)\n",
      "98 0.19047619047619047 (0.3560606060606061, 141, 396) (0.3390191897654584, 159, 469)\n",
      "100 0.1901362751460091 (0.3548387096774194, 143, 403) (0.3382352941176471, 161, 476)\n",
      "102 0.18746041798606713 (0.3538083538083538, 144, 407) (0.3367983367983368, 162, 481)\n",
      "104 0.18757763975155278 (0.3581730769230769, 149, 416) (0.34012219959266804, 167, 491)\n",
      "106 0.19190680564071122 (0.34894613583138173, 149, 427) (0.3306930693069307, 167, 505)\n",
      "108 0.19154078549848944 (0.35172413793103446, 153, 435) (0.3326848249027237, 171, 514)\n",
      "110 0.1917808219178082 (0.3536036036036036, 157, 444) (0.33460803059273425, 175, 523)\n",
      "112 0.19078179696616102 (0.3624454148471616, 166, 458) (0.34137291280148424, 184, 539)\n",
      "114 0.19072164948453607 (0.3648068669527897, 170, 466) (0.3436928702010969, 188, 547)\n",
      "116 0.19133370849746764 (0.36152219873150104, 171, 473) (0.3447653429602888, 191, 554)\n",
      "118 0.1896838602329451 (0.36210526315789476, 172, 475) (0.34532374100719426, 192, 556)\n",
      "120 0.18882257189365165 (0.3675564681724846, 179, 487) (0.3508771929824561, 200, 570)\n",
      "122 0.1875332978156633 (0.37298387096774194, 185, 496) (0.3586206896551724, 208, 580)\n",
      "124 0.18782791185729275 (0.3697813121272366, 186, 503) (0.35604770017035775, 209, 587)\n",
      "126 0.18917525773195876 (0.365234375, 187, 512) (0.3511705685618729, 210, 598)\n",
      "128 0.1868354430379747 (0.3699421965317919, 192, 519) (0.35537190082644626, 215, 605)\n",
      "130 0.18778167250876315 (0.3681214421252372, 194, 527) (0.3539967373572594, 217, 613)\n",
      "132 0.18882847256549679 (0.3675373134328358, 197, 536) (0.35313001605136435, 220, 623)\n",
      "134 0.18698397280233123 (0.36968576709796674, 200, 541) (0.356120826709062, 224, 629)\n",
      "136 0.18702290076335878 (0.3695652173913043, 204, 552) (0.35514018691588783, 228, 642)\n",
      "138 0.18605746585021196 (0.368705035971223, 205, 556) (0.3533950617283951, 229, 648)\n",
      "140 0.18671620993961913 (0.36589698046181174, 206, 563) (0.35060975609756095, 230, 656)\n",
      "142 0.18858447488584476 (0.3628472222222222, 209, 576) (0.34776119402985073, 233, 670)\n",
      "144 0.18842530282637954 (0.366723259762309, 216, 589) (0.35036496350364965, 240, 685)\n",
      "146 0.18606701940035272 (0.36930860033726814, 219, 593) (0.3521739130434783, 243, 690)\n",
      "148 0.18516912402428448 (0.3704318936877076, 223, 602) (0.35336194563662376, 247, 699)\n",
      "150 0.18559794256322332 (0.3694581280788177, 225, 609) (0.3526912181303116, 249, 706)\n",
      "152 0.18599746942218473 (0.3667205169628433, 227, 619) (0.3542538354253835, 254, 717)\n",
      "154 0.18544698544698546 (0.365814696485623, 229, 626) (0.35310344827586204, 256, 725)\n",
      "156 0.1854575163398693 (0.3663522012578616, 233, 636) (0.35278154681139756, 260, 737)\n",
      "158 0.18508064516129033 (0.36349453978159124, 233, 641) (0.3504043126684636, 260, 742)\n",
      "160 0.18546465448768865 (0.362095531587057, 235, 649) (0.3506666666666667, 263, 750)\n",
      "162 0.18686473807662235 (0.36048265460030166, 239, 663) (0.34810951760104303, 267, 767)\n",
      "164 0.1856702619414484 (0.3611940298507463, 242, 670) (0.34838709677419355, 270, 775)\n",
      "166 0.18738122386925124 (0.35829662261380324, 244, 681) (0.3477157360406091, 274, 788)\n",
      "168 0.18874296435272045 (0.3583815028901734, 248, 692) (0.34620174346201743, 278, 803)\n",
      "170 0.18851851851851853 (0.35765379113018597, 250, 699) (0.34525277435265106, 280, 811)\n",
      "172 0.190267105744603 (0.3558368495077356, 253, 711) (0.3413751507840772, 283, 829)\n",
      "174 0.19078473722102232 (0.35359116022099446, 256, 724) (0.33964497041420116, 287, 845)\n",
      "176 0.19140625 (0.3551020408163265, 261, 735) (0.33993015133876603, 292, 859)\n",
      "178 0.19106263194933146 (0.3549257759784076, 263, 741) (0.3421965317919075, 296, 865)\n",
      "180 0.19072524407252442 (0.35609103078982596, 266, 747) (0.34288990825688076, 299, 872)\n",
      "182 0.19083706510506374 (0.3558201058201058, 269, 756) (0.3424036281179138, 302, 882)\n",
      "184 0.19115646258503402 (0.35602094240837695, 272, 764) (0.34231200897867564, 305, 891)\n",
      "186 0.19217801753202968 (0.3549222797927461, 274, 772) (0.341842397336293, 308, 901)\n",
      "188 0.1920640213404468 (0.3576923076923077, 279, 780) (0.343921139101862, 314, 913)\n",
      "190 0.19212962962962962 (0.3579617834394904, 281, 785) (0.34347826086956523, 316, 920)\n",
      "192 0.19161480510972814 (0.3569620253164557, 282, 790) (0.3434125269978402, 318, 926)\n",
      "194 0.192095885973437 (0.35678391959798994, 284, 796) (0.34334763948497854, 320, 932)\n"
     ]
    },
    {
     "name": "stdout",
     "output_type": "stream",
     "text": [
      "196 0.19218449711723254 (0.3560794044665012, 287, 806) (0.34285714285714286, 324, 945)\n",
      "198 0.1920278392913635 (0.3581907090464548, 293, 818) (0.34479166666666666, 331, 960)\n",
      "200 0.19058016219588272 (0.35878787878787877, 296, 825) (0.3450413223140496, 334, 968)\n",
      "202 0.18952234206471494 (0.36167664670658684, 302, 835) (0.3472931562819203, 340, 979)\n",
      "204 0.19011290814769607 (0.36018957345971564, 304, 844) (0.34580384226491406, 342, 989)\n",
      "206 0.19021739130434784 (0.35873388042203985, 306, 853) (0.34534534534534533, 345, 999)\n",
      "208 0.191044776119403 (0.3568129330254042, 309, 866) (0.3421828908554572, 348, 1017)\n",
      "210 0.19078558771411694 (0.35917901938426455, 315, 877) (0.3443579766536965, 354, 1028)\n",
      "212 0.19016968987712113 (0.3615819209039548, 320, 885) (0.348747591522158, 362, 1038)\n",
      "214 0.18934568616097278 (0.3635346756152125, 325, 894) (0.3495238095238095, 367, 1050)\n",
      "216 0.18938307030129126 (0.36534216335540837, 331, 906) (0.34957825679475163, 373, 1067)\n",
      "218 0.18959636156907334 (0.3650273224043716, 334, 915) (0.34944237918215615, 376, 1076)\n",
      "220 0.18966001685866818 (0.3633405639913232, 335, 922) (0.34806629834254144, 378, 1086)\n",
      "222 0.1897607122982749 (0.36236559139784946, 337, 930) (0.3470319634703196, 380, 1095)\n",
      "224 0.1889286697879372 (0.36149732620320857, 338, 935) (0.3481818181818182, 383, 1100)\n",
      "226 0.1901907356948229 (0.36084656084656086, 341, 945) (0.34774774774774775, 386, 1110)\n",
      "228 0.18969239071775498 (0.36134453781512604, 344, 952) (0.34732142857142856, 389, 1120)\n",
      "230 0.18994114499732478 (0.359375, 345, 960) (0.3448275862068966, 390, 1131)\n",
      "232 0.18964143426294822 (0.3609100310237849, 349, 967) (0.34649122807017546, 395, 1140)\n",
      "234 0.1895734597156398 (0.36131013306038895, 353, 977) (0.3475238922675934, 400, 1151)\n",
      "236 0.1903023983315954 (0.3604060913705584, 355, 985) (0.34771354616048317, 403, 1159)\n",
      "238 0.19209914794732766 (0.35735735735735735, 357, 999) (0.34438775510204084, 405, 1176)\n",
      "240 0.19207161125319694 (0.3600395647873393, 364, 1011) (0.3459277917716205, 412, 1191)\n",
      "242 0.19143002028397565 (0.36113837095191365, 368, 1019) (0.3475, 417, 1200)\n",
      "244 0.19095477386934673 (0.36345966958211856, 374, 1029) (0.3501238645747316, 424, 1211)\n",
      "246 0.1905829596412556 (0.3659942363112392, 381, 1041) (0.3526530612244898, 432, 1225)\n",
      "248 0.18998272884283246 (0.3658070678127985, 383, 1047) (0.35170178282009723, 434, 1234)\n",
      "250 0.18938096403229754 (0.36622390891840606, 386, 1054) (0.35213537469782435, 437, 1241)\n",
      "252 0.18962172647914646 (0.36585365853658536, 390, 1066) (0.35, 441, 1260)\n",
      "254 0.19033886085075702 (0.3659889094269871, 396, 1082) (0.34972677595628415, 448, 1281)\n",
      "256 0.18956894498690163 (0.36672794117647056, 399, 1088) (0.3501552795031056, 451, 1288)\n",
      "258 0.1889466225791214 (0.36745886654478976, 402, 1094) (0.3508500772797527, 454, 1294)\n",
      "260 0.1880121751346289 (0.36966394187102636, 407, 1101) (0.3528055342044581, 459, 1301)\n",
      "262 0.18770301624129931 (0.37163375224416517, 414, 1114) (0.3546423135464231, 466, 1314)\n",
      "264 0.1879595588235294 (0.37244444444444447, 419, 1125) (0.3546686746987952, 471, 1328)\n",
      "266 0.18776994771538985 (0.37467018469656993, 426, 1137) (0.3564504101416853, 478, 1341)\n",
      "268 0.18817689530685922 (0.3748910200523104, 430, 1147) (0.35650887573964496, 482, 1352)\n",
      "270 0.18852275274602107 (0.37402597402597404, 432, 1155) (0.35635562086700956, 485, 1361)\n",
      "272 0.18865406006674082 (0.37403267411865865, 435, 1163) (0.3562043795620438, 488, 1370)\n",
      "274 0.18834179730624862 (0.3752136752136752, 439, 1170) (0.35776487663280115, 493, 1378)\n",
      "276 0.18796498905908096 (0.37659033078880405, 444, 1179) (0.3595100864553314, 499, 1388)\n",
      "278 0.18766290182450043 (0.3785834738617201, 449, 1186) (0.36129032258064514, 504, 1395)\n",
      "280 0.18826827690317016 (0.3775167785234899, 450, 1192) (0.36045681655960027, 505, 1401)\n",
      "282 0.18859837119588513 (0.37666666666666665, 452, 1200) (0.36053938963804116, 508, 1409)\n",
      "284 0.18836270970482055 (0.3756218905472637, 453, 1206) (0.3594632768361582, 509, 1416)\n",
      "286 0.1883445945945946 (0.374896779521057, 454, 1211) (0.3583977512297962, 510, 1423)\n",
      "288 0.18938758389261745 (0.3735632183908046, 455, 1218) (0.3575418994413408, 512, 1432)\n",
      "290 0.18885642737896494 (0.3739770867430442, 457, 1222) (0.3574408901251738, 514, 1438)\n",
      "292 0.18814753418980523 (0.3745928338762215, 460, 1228) (0.35847750865051903, 518, 1445)\n",
      "294 0.18800247371675943 (0.37388483373884834, 461, 1233) (0.3581267217630854, 520, 1452)\n",
      "296 0.18770491803278688 (0.3734842360549717, 462, 1237) (0.3592032967032967, 523, 1456)\n",
      "298 0.1875 (0.3737942122186495, 465, 1244) (0.3592896174863388, 526, 1464)\n",
      "300 0.1873862947240752 (0.37569944044764186, 470, 1251) (0.36024423337856176, 531, 1474)\n",
      "302 0.1867493995196157 (0.3784639746634996, 478, 1263) (0.3627187079407806, 539, 1486)\n",
      "304 0.18649453823237339 (0.37746256895193064, 479, 1269) (0.36168787675820496, 540, 1493)\n",
      "306 0.18708020545239035 (0.37588097102584184, 480, 1277) (0.3606121091151031, 542, 1503)\n",
      "308 0.18730345911949686 (0.37490257209664846, 481, 1283) (0.35984095427435386, 543, 1509)\n",
      "310 0.18693781775518187 (0.374805598755832, 482, 1286) (0.3602115003304693, 545, 1513)\n",
      "312 0.18655266226195102 (0.37490317583268784, 484, 1291) (0.3611842105263158, 549, 1520)\n",
      "314 0.1857860177674778 (0.37606177606177604, 487, 1295) (0.3626229508196721, 553, 1525)\n",
      "316 0.18576089042410285 (0.37653374233128833, 491, 1304) (0.3630448926480156, 558, 1537)\n",
      "318 0.18553758325404376 (0.37623762376237624, 494, 1313) (0.3628719275549806, 561, 1546)\n",
      "320 0.18608169440242056 (0.37471612414837246, 495, 1321) (0.3614147909967846, 562, 1555)\n",
      "322 0.18734747512671296 (0.37284321080270066, 497, 1333) (0.3590070019096117, 564, 1571)\n",
      "0.25042111173498033 0.18772225341568408 (0.37144992526158443, 497, 1338) (0.35786802030456855, 564, 1576)\n"
     ]
    }
   ],
   "source": [
    "predicted_tokens = []\n",
    "a = 324\n",
    "for i,s in enumerate(error_sentences):\n",
    "    c = extract_choices(s,model=model,p_lambda =0 ,trie = True,likelihood = 'bmWithNoLM',model_type = 'transformer')\n",
    "#     print(c)\n",
    "    c = [t[0] for t in c]\n",
    "    predicted_tokens.append(c)\n",
    "    if i%2 == 0:\n",
    "        print(i,WER(correct_tokens[:i+1],predicted_tokens[:i+1] ),word_accuracy(correct_tokens[:i+1],predicted_tokens[:i+1],error_tokens[:i+1]),char_accuracy(correct_tokens[:i+1],predicted_tokens[:i+1],error_tokens[:i+1]))\n",
    "    if i==323:\n",
    "        print(WER(correct_tokens[:a],error_tokens[:a] ),WER(correct_tokens[:a],predicted_tokens[:a] ),word_accuracy(correct_tokens[:a],predicted_tokens[:a],error_tokens[:a]),char_accuracy(correct_tokens[:a],predicted_tokens[:a],error_tokens[:a]))\n",
    "        break  "
   ]
  },
  {
   "cell_type": "code",
   "execution_count": 52,
   "id": "98f71408",
   "metadata": {
    "scrolled": true
   },
   "outputs": [
    {
     "name": "stdout",
     "output_type": "stream",
     "text": [
      "0 0.3076923076923077 (0.75, 3, 4) (0.75, 3, 4)\n",
      "2 0.48717948717948717 (0.38461538461538464, 5, 13) (0.5714285714285714, 8, 14)\n",
      "4 0.42857142857142855 (0.2916666666666667, 7, 24) (0.4074074074074074, 11, 27)\n",
      "6 0.3917525773195876 (0.25, 7, 28) (0.46875, 15, 32)\n",
      "8 0.38345864661654133 (0.2702702702702703, 10, 37) (0.5348837209302325, 23, 43)\n",
      "10 0.35294117647058826 (0.29545454545454547, 13, 44) (0.5384615384615384, 28, 52)\n",
      "12 0.3489583333333333 (0.3, 15, 50) (0.5, 30, 60)\n",
      "14 0.35135135135135137 (0.3114754098360656, 19, 61) (0.4861111111111111, 35, 72)\n",
      "16 0.35714285714285715 (0.3, 21, 70) (0.4939759036144578, 41, 83)\n",
      "18 0.35661764705882354 (0.28, 21, 75) (0.4888888888888889, 44, 90)\n",
      "20 0.36824324324324326 (0.25882352941176473, 22, 85) (0.48514851485148514, 49, 101)\n",
      "22 0.3708206686930091 (0.26595744680851063, 25, 94) (0.4732142857142857, 53, 112)\n",
      "24 0.3753581661891118 (0.24752475247524752, 25, 101) (0.4666666666666667, 56, 120)\n",
      "26 0.3617021276595745 (0.26851851851851855, 29, 108) (0.4881889763779528, 62, 127)\n",
      "28 0.3583959899749373 (0.2636363636363636, 29, 110) (0.4883720930232558, 63, 129)\n",
      "30 0.3557692307692308 (0.26126126126126126, 29, 111) (0.49230769230769234, 64, 130)\n",
      "32 0.3595505617977528 (0.25, 29, 116) (0.46715328467153283, 64, 137)\n",
      "34 0.3594080338266385 (0.24390243902439024, 30, 123) (0.4794520547945205, 70, 146)\n",
      "36 0.35070140280561124 (0.24603174603174602, 31, 126) (0.48322147651006714, 72, 149)\n",
      "38 0.35067437379576105 (0.2421875, 31, 128) (0.48026315789473684, 73, 152)\n",
      "40 0.35174953959484345 (0.23134328358208955, 31, 134) (0.5126582278481012, 81, 158)\n",
      "42 0.3489583333333333 (0.2246376811594203, 31, 138) (0.5061728395061729, 82, 162)\n",
      "44 0.34563758389261745 (0.23076923076923078, 33, 143) (0.5029585798816568, 85, 169)\n",
      "46 0.34831460674157305 (0.23026315789473684, 35, 152) (0.5111111111111111, 92, 180)\n",
      "48 0.3440366972477064 (0.24050632911392406, 38, 158) (0.510752688172043, 95, 186)\n",
      "50 0.34210526315789475 (0.25903614457831325, 43, 166) (0.5252525252525253, 104, 198)\n",
      "52 0.3406896551724138 (0.2542372881355932, 45, 177) (0.5263157894736842, 110, 209)\n",
      "54 0.3433029908972692 (0.25773195876288657, 50, 194) (0.5330396475770925, 121, 227)\n",
      "56 0.34236453201970446 (0.2692307692307692, 56, 208) (0.524390243902439, 129, 246)\n",
      "58 0.3431603773584906 (0.2727272727272727, 60, 220) (0.5230769230769231, 136, 260)\n",
      "60 0.3393665158371041 (0.2794759825327511, 64, 229) (0.5239852398523985, 142, 271)\n",
      "62 0.338411316648531 (0.27350427350427353, 64, 234) (0.5126353790613718, 142, 277)\n",
      "64 0.334384858044164 (0.2880658436213992, 70, 243) (0.5261324041811847, 151, 287)\n",
      "66 0.3336766220391349 (0.29880478087649404, 75, 251) (0.527027027027027, 156, 296)\n",
      "68 0.3313373253493014 (0.3053435114503817, 80, 262) (0.5292207792207793, 163, 308)\n",
      "70 0.32947976878612717 (0.3037037037037037, 82, 270) (0.5283018867924528, 168, 318)\n",
      "72 0.32806691449814124 (0.302491103202847, 85, 281) (0.5363636363636364, 177, 330)\n",
      "74 0.32700993676603435 (0.3047945205479452, 89, 292) (0.5321637426900585, 182, 342)\n",
      "76 0.3231173380035026 (0.3110367892976589, 93, 299) (0.5358166189111748, 187, 349)\n",
      "78 0.3228279386712095 (0.30944625407166126, 95, 307) (0.5434173669467787, 194, 357)\n",
      "80 0.32086450540315875 (0.30990415335463256, 97, 313) (0.5426997245179064, 197, 363)\n",
      "82 0.322554567502021 (0.3159509202453988, 103, 326) (0.5447368421052632, 207, 380)\n",
      "84 0.32285938727415553 (0.3083832335329341, 103, 334) (0.5449871465295629, 212, 389)\n",
      "86 0.3174846625766871 (0.3125, 105, 336) (0.548469387755102, 215, 392)\n",
      "88 0.3144560357675112 (0.3188405797101449, 110, 345) (0.5481481481481482, 222, 405)\n",
      "90 0.31575091575091574 (0.3153409090909091, 111, 352) (0.5461165048543689, 225, 412)\n",
      "92 0.31639226914817464 (0.31024930747922436, 112, 361) (0.5402843601895735, 228, 422)\n",
      "94 0.3170391061452514 (0.3109919571045576, 116, 373) (0.5306122448979592, 234, 441)\n",
      "96 0.319047619047619 (0.31007751937984496, 120, 387) (0.5317286652078774, 243, 457)\n",
      "98 0.31613756613756616 (0.3106060606060606, 123, 396) (0.535181236673774, 251, 469)\n",
      "100 0.3166774821544452 (0.31017369727047145, 125, 403) (0.5378151260504201, 256, 476)\n",
      "102 0.3128562381253958 (0.3095823095823096, 126, 407) (0.5384615384615384, 259, 481)\n",
      "104 0.315527950310559 (0.31009615384615385, 129, 416) (0.5376782077393075, 264, 491)\n",
      "106 0.31882280809319435 (0.3044496487119438, 130, 427) (0.5306930693069307, 268, 505)\n",
      "108 0.32084592145015106 (0.2988505747126437, 130, 435) (0.5272373540856031, 271, 514)\n",
      "110 0.3222156045265039 (0.2972972972972973, 132, 444) (0.5296367112810707, 277, 523)\n",
      "112 0.3226371061843641 (0.29912663755458513, 137, 458) (0.5306122448979592, 286, 539)\n",
      "114 0.32245131729667814 (0.30257510729613735, 141, 466) (0.5338208409506399, 292, 547)\n",
      "116 0.32189082723691614 (0.3044397463002114, 144, 473) (0.5324909747292419, 295, 554)\n",
      "118 0.32057681641708263 (0.3031578947368421, 144, 475) (0.5323741007194245, 296, 556)\n",
      "120 0.32067281606077047 (0.30184804928131415, 147, 487) (0.531578947368421, 303, 570)\n",
      "122 0.32019179541822057 (0.3024193548387097, 150, 496) (0.5327586206896552, 309, 580)\n",
      "124 0.3210912906610703 (0.30019880715705766, 151, 503) (0.5298126064735945, 311, 587)\n",
      "126 0.32061855670103095 (0.298828125, 153, 512) (0.5284280936454849, 316, 598)\n",
      "128 0.3169620253164557 (0.3044315992292871, 158, 519) (0.5322314049586777, 322, 605)\n",
      "130 0.3184777165748623 (0.301707779886148, 159, 527) (0.5285481239804242, 324, 613)\n",
      "132 0.31883341571922885 (0.3041044776119403, 163, 536) (0.5313001605136437, 331, 623)\n",
      "134 0.3181155900922778 (0.3049907578558225, 165, 541) (0.5325914149443561, 335, 629)\n",
      "136 0.3187022900763359 (0.302536231884058, 167, 552) (0.5264797507788161, 338, 642)\n",
      "138 0.31794630240226096 (0.3039568345323741, 169, 556) (0.5246913580246914, 340, 648)\n",
      "140 0.3181607059916396 (0.30550621669627, 172, 563) (0.524390243902439, 344, 656)\n",
      "142 0.3182648401826484 (0.3072916666666667, 177, 576) (0.5238805970149254, 351, 670)\n",
      "144 0.31987438313144906 (0.3073005093378608, 181, 589) (0.5255474452554745, 360, 685)\n",
      "146 0.318342151675485 (0.3086003372681282, 183, 593) (0.5289855072463768, 365, 690)\n",
      "148 0.3183000867302689 (0.3073089700996678, 185, 602) (0.5350500715307582, 374, 699)\n",
      "150 0.3193313330475782 (0.3054187192118227, 186, 609) (0.5325779036827195, 376, 706)\n",
      "152 0.31969633066216785 (0.3053311793214863, 189, 619) (0.5369595536959554, 385, 717)\n",
      "154 0.31891891891891894 (0.3035143769968051, 190, 626) (0.5337931034482759, 387, 725)\n",
      "156 0.318218954248366 (0.30660377358490565, 195, 636) (0.5318860244233379, 392, 737)\n",
      "158 0.32016129032258067 (0.3042121684867395, 195, 641) (0.5309973045822103, 394, 742)\n",
      "160 0.3204924543288324 (0.3035439137134052, 197, 649) (0.532, 399, 750)\n",
      "162 0.3205629397967162 (0.30618401206636503, 203, 663) (0.5371577574967406, 412, 767)\n",
      "164 0.3189522342064715 (0.3044776119402985, 204, 670) (0.535483870967742, 415, 775)\n",
      "166 0.3200304066894717 (0.3054331864904552, 208, 681) (0.5342639593908629, 421, 788)\n",
      "168 0.32045028142589116 (0.3092485549132948, 214, 692) (0.5354919053549191, 430, 803)\n",
      "170 0.3188888888888889 (0.3104434907010014, 217, 699) (0.5376078914919852, 436, 811)\n",
      "172 0.3216245883644347 (0.3066104078762307, 218, 711) (0.5319662243667069, 441, 829)\n",
      "174 0.3210943124550036 (0.30386740331491713, 220, 724) (0.5301775147928994, 448, 845)\n",
      "176 0.32279829545454547 (0.3034013605442177, 223, 735) (0.5285215366705471, 454, 859)\n",
      "178 0.3226600985221675 (0.30229419703103916, 224, 741) (0.530635838150289, 459, 865)\n",
      "180 0.32322175732217573 (0.30120481927710846, 225, 747) (0.5309633027522935, 463, 872)\n",
      "182 0.3231140199793317 (0.30158730158730157, 228, 756) (0.5340136054421769, 471, 882)\n",
      "184 0.3231292517006803 (0.3010471204188482, 230, 764) (0.5342312008978676, 476, 891)\n",
      "186 0.32400539447066756 (0.30310880829015546, 234, 772) (0.5394006659267481, 486, 901)\n",
      "188 0.32444148049349786 (0.30641025641025643, 239, 780) (0.5410733844468785, 494, 913)\n",
      "190 0.32341269841269843 (0.3095541401273885, 243, 785) (0.5445652173913044, 501, 920)\n",
      "192 0.3232885686210285 (0.30886075949367087, 244, 790) (0.5431965442764579, 503, 926)\n",
      "194 0.3236151603498542 (0.30778894472361806, 245, 796) (0.5429184549356223, 506, 932)\n",
      "196 0.32319026265214607 (0.31017369727047145, 250, 806) (0.546031746031746, 516, 945)\n",
      "198 0.322999050933249 (0.3105134474327628, 254, 818) (0.546875, 525, 960)\n"
     ]
    },
    {
     "name": "stdout",
     "output_type": "stream",
     "text": [
      "200 0.32096069868995636 (0.3103030303030303, 256, 825) (0.5444214876033058, 527, 968)\n"
     ]
    },
    {
     "ename": "KeyboardInterrupt",
     "evalue": "",
     "output_type": "error",
     "traceback": [
      "\u001b[1;31m---------------------------------------------------------------------------\u001b[0m",
      "\u001b[1;31mKeyboardInterrupt\u001b[0m                         Traceback (most recent call last)",
      "Cell \u001b[1;32mIn[52], line 4\u001b[0m\n\u001b[0;32m      2\u001b[0m a \u001b[38;5;241m=\u001b[39m \u001b[38;5;241m324\u001b[39m\n\u001b[0;32m      3\u001b[0m \u001b[38;5;28;01mfor\u001b[39;00m i,s \u001b[38;5;129;01min\u001b[39;00m \u001b[38;5;28menumerate\u001b[39m(error_sentences):\n\u001b[1;32m----> 4\u001b[0m     c \u001b[38;5;241m=\u001b[39m \u001b[43mextract_choices\u001b[49m\u001b[43m(\u001b[49m\u001b[43ms\u001b[49m\u001b[43m,\u001b[49m\u001b[43mmodel\u001b[49m\u001b[38;5;241;43m=\u001b[39;49m\u001b[43mmodel\u001b[49m\u001b[43m,\u001b[49m\u001b[43mp_lambda\u001b[49m\u001b[43m \u001b[49m\u001b[38;5;241;43m=\u001b[39;49m\u001b[38;5;241;43m0\u001b[39;49m\u001b[43m \u001b[49m\u001b[43m,\u001b[49m\u001b[43mtrie\u001b[49m\u001b[43m \u001b[49m\u001b[38;5;241;43m=\u001b[39;49m\u001b[43m \u001b[49m\u001b[38;5;28;43;01mTrue\u001b[39;49;00m\u001b[43m,\u001b[49m\u001b[43mlikelihood\u001b[49m\u001b[43m \u001b[49m\u001b[38;5;241;43m=\u001b[39;49m\u001b[43m \u001b[49m\u001b[38;5;124;43m'\u001b[39;49m\u001b[38;5;124;43mdefaultWithNoLM\u001b[39;49m\u001b[38;5;124;43m'\u001b[39;49m\u001b[43m,\u001b[49m\u001b[43mmodel_type\u001b[49m\u001b[43m \u001b[49m\u001b[38;5;241;43m=\u001b[39;49m\u001b[43m \u001b[49m\u001b[38;5;124;43m'\u001b[39;49m\u001b[38;5;124;43mtransformer\u001b[39;49m\u001b[38;5;124;43m'\u001b[39;49m\u001b[43m)\u001b[49m\n\u001b[0;32m      5\u001b[0m \u001b[38;5;66;03m#     print(c)\u001b[39;00m\n\u001b[0;32m      6\u001b[0m     c \u001b[38;5;241m=\u001b[39m [t[\u001b[38;5;241m0\u001b[39m] \u001b[38;5;28;01mfor\u001b[39;00m t \u001b[38;5;129;01min\u001b[39;00m c]\n",
      "Cell \u001b[1;32mIn[51], line 28\u001b[0m, in \u001b[0;36mextract_choices\u001b[1;34m(sample_sentences, model, p_lambda, trie, likelihood, model_type)\u001b[0m\n\u001b[0;32m     25\u001b[0m \u001b[38;5;28;01mdef\u001b[39;00m \u001b[38;5;21mextract_choices\u001b[39m(sample_sentences,model,p_lambda \u001b[38;5;241m=\u001b[39m \u001b[38;5;241m1\u001b[39m,trie \u001b[38;5;241m=\u001b[39m \u001b[38;5;28;01mFalse\u001b[39;00m,likelihood \u001b[38;5;241m=\u001b[39m \u001b[38;5;124m'\u001b[39m\u001b[38;5;124mdefault\u001b[39m\u001b[38;5;124m'\u001b[39m,model_type \u001b[38;5;241m=\u001b[39m \u001b[38;5;124m'\u001b[39m\u001b[38;5;124mknlm\u001b[39m\u001b[38;5;124m'\u001b[39m):\n\u001b[1;32m---> 28\u001b[0m     wc,wp \u001b[38;5;241m=\u001b[39m \u001b[43mreturn_choices2\u001b[49m\u001b[43m(\u001b[49m\u001b[43msample_sentences\u001b[49m\u001b[43m,\u001b[49m\u001b[43mmodel\u001b[49m\u001b[43m,\u001b[49m\u001b[43mp_lambda\u001b[49m\u001b[43m \u001b[49m\u001b[38;5;241;43m=\u001b[39;49m\u001b[43m \u001b[49m\u001b[43mp_lambda\u001b[49m\u001b[43m,\u001b[49m\u001b[43mtrie\u001b[49m\u001b[43m \u001b[49m\u001b[38;5;241;43m=\u001b[39;49m\u001b[43m \u001b[49m\u001b[43mtrie\u001b[49m\u001b[43m \u001b[49m\u001b[43m,\u001b[49m\u001b[43mmodel_type\u001b[49m\u001b[43m \u001b[49m\u001b[38;5;241;43m=\u001b[39;49m\u001b[43m \u001b[49m\u001b[43mmodel_type\u001b[49m\u001b[43m,\u001b[49m\u001b[43mlikelihood\u001b[49m\u001b[43m \u001b[49m\u001b[38;5;241;43m=\u001b[39;49m\u001b[43m \u001b[49m\u001b[43mlikelihood\u001b[49m\u001b[43m)\u001b[49m\n\u001b[0;32m     29\u001b[0m \u001b[38;5;66;03m#     choices_list=[set() for i in range(len(sample_sentences.split())+1)]\u001b[39;00m\n\u001b[0;32m     30\u001b[0m     choices_list\u001b[38;5;241m=\u001b[39m[[] \u001b[38;5;28;01mfor\u001b[39;00m i \u001b[38;5;129;01min\u001b[39;00m \u001b[38;5;28mrange\u001b[39m(\u001b[38;5;28mlen\u001b[39m(sample_sentences\u001b[38;5;241m.\u001b[39msplit())\u001b[38;5;241m+\u001b[39m\u001b[38;5;241m1\u001b[39m)]\n",
      "Cell \u001b[1;32mIn[51], line 15\u001b[0m, in \u001b[0;36mreturn_choices2\u001b[1;34m(sample_sentences, model, p_lambda, trie, model_type, likelihood)\u001b[0m\n\u001b[0;32m     12\u001b[0m     \u001b[38;5;28;01mreturn\u001b[39;00m window_candidates,window_probab\n\u001b[0;32m     14\u001b[0m \u001b[38;5;28;01mif\u001b[39;00m model_type \u001b[38;5;241m==\u001b[39m \u001b[38;5;124m'\u001b[39m\u001b[38;5;124mtransformer\u001b[39m\u001b[38;5;124m'\u001b[39m:\n\u001b[1;32m---> 15\u001b[0m     d \u001b[38;5;241m=\u001b[39m \u001b[43mcorrectize_with_window_nn\u001b[49m\u001b[43m(\u001b[49m\u001b[43msample_sentences\u001b[49m\u001b[43m,\u001b[49m\u001b[43mmodel\u001b[49m\u001b[43m,\u001b[49m\u001b[43mp_lambda\u001b[49m\u001b[43m \u001b[49m\u001b[38;5;241;43m=\u001b[39;49m\u001b[43mp_lambda\u001b[49m\u001b[43m,\u001b[49m\u001b[43mtrie\u001b[49m\u001b[43m \u001b[49m\u001b[38;5;241;43m=\u001b[39;49m\u001b[43m \u001b[49m\u001b[43mtrie\u001b[49m\u001b[43m,\u001b[49m\u001b[43mlikelihood\u001b[49m\u001b[43m \u001b[49m\u001b[38;5;241;43m=\u001b[39;49m\u001b[43m \u001b[49m\u001b[43mlikelihood\u001b[49m\u001b[43m)\u001b[49m\n\u001b[0;32m     16\u001b[0m     window_candidates \u001b[38;5;241m=\u001b[39m []\n\u001b[0;32m     17\u001b[0m     window_probab \u001b[38;5;241m=\u001b[39m []\n",
      "Cell \u001b[1;32mIn[50], line 16\u001b[0m, in \u001b[0;36mcorrectize_with_window_nn\u001b[1;34m(sentence, model, window, p_lambda, prior, trie, likelihood)\u001b[0m\n\u001b[0;32m     14\u001b[0m         corrects \u001b[38;5;241m=\u001b[39m []\n\u001b[0;32m     15\u001b[0m         \u001b[38;5;28;01mfor\u001b[39;00m _ \u001b[38;5;129;01min\u001b[39;00m windows:\n\u001b[1;32m---> 16\u001b[0m             d \u001b[38;5;241m=\u001b[39m \u001b[43mcorrectize_entire_nn\u001b[49m\u001b[43m(\u001b[49m\u001b[38;5;124;43m'\u001b[39;49m\u001b[38;5;124;43m \u001b[39;49m\u001b[38;5;124;43m'\u001b[39;49m\u001b[38;5;241;43m.\u001b[39;49m\u001b[43mjoin\u001b[49m\u001b[43m(\u001b[49m\u001b[43m_\u001b[49m\u001b[43m)\u001b[49m\u001b[43m,\u001b[49m\u001b[43mmodel\u001b[49m\u001b[43m,\u001b[49m\u001b[43mp_lambda\u001b[49m\u001b[38;5;241;43m=\u001b[39;49m\u001b[43mp_lambda\u001b[49m\u001b[43m,\u001b[49m\u001b[43mprior\u001b[49m\u001b[43m \u001b[49m\u001b[38;5;241;43m=\u001b[39;49m\u001b[43m \u001b[49m\u001b[43mprior\u001b[49m\u001b[43m,\u001b[49m\u001b[43mtrie\u001b[49m\u001b[43m \u001b[49m\u001b[38;5;241;43m=\u001b[39;49m\u001b[43m \u001b[49m\u001b[43mtrie\u001b[49m\u001b[43m,\u001b[49m\u001b[43mlikelihood\u001b[49m\u001b[43m \u001b[49m\u001b[38;5;241;43m=\u001b[39;49m\u001b[43m \u001b[49m\u001b[43mlikelihood\u001b[49m\u001b[43m)\u001b[49m\n\u001b[0;32m     17\u001b[0m             corrects\u001b[38;5;241m.\u001b[39mappend(d)\n\u001b[0;32m     18\u001b[0m \u001b[38;5;66;03m#         print(corrects)\u001b[39;00m\n",
      "Cell \u001b[1;32mIn[49], line 47\u001b[0m, in \u001b[0;36mcorrectize_entire_nn\u001b[1;34m(sentence, model, p_lambda, prior, trie, likelihood)\u001b[0m\n\u001b[0;32m     45\u001b[0m \u001b[38;5;28;01melif\u001b[39;00m likelihood\u001b[38;5;241m==\u001b[39m\u001b[38;5;124m'\u001b[39m\u001b[38;5;124mdefaultWithNoLM\u001b[39m\u001b[38;5;124m'\u001b[39m:\n\u001b[0;32m     46\u001b[0m     candidate_count \u001b[38;5;241m=\u001b[39m [\u001b[38;5;28mlen\u001b[39m(_) \u001b[38;5;28;01mfor\u001b[39;00m _ \u001b[38;5;129;01min\u001b[39;00m candidates]  \n\u001b[1;32m---> 47\u001b[0m     modifier_probab \u001b[38;5;241m=\u001b[39m [\u001b[38;5;28msum\u001b[39m([\u001b[38;5;241m-\u001b[39m\u001b[38;5;241m1.5\u001b[39m \u001b[38;5;28;01mif\u001b[39;00m w \u001b[38;5;129;01mnot\u001b[39;00m \u001b[38;5;129;01min\u001b[39;00m final_lexicon_dict \u001b[38;5;28;01melse\u001b[39;00m \u001b[38;5;241m1.0\u001b[39m \u001b[38;5;28;01mfor\u001b[39;00m w \u001b[38;5;129;01min\u001b[39;00m c]) \u001b[38;5;28;01mfor\u001b[39;00m c \u001b[38;5;129;01min\u001b[39;00m cs]\n\u001b[0;32m     48\u001b[0m     sentences_probab_post\u001b[38;5;241m=\u001b[39m[mp\u001b[38;5;241m+\u001b[39m math\u001b[38;5;241m.\u001b[39mlog(constant_distributive_likelihood(sentence,candidate_sentence,candidate_count)) \n\u001b[0;32m     49\u001b[0m                            \u001b[38;5;28;01mfor\u001b[39;00m candidate_sentence,mp \u001b[38;5;129;01min\u001b[39;00m \u001b[38;5;28mzip\u001b[39m(cs,modifier_probab)]\n\u001b[0;32m     50\u001b[0m \u001b[38;5;28;01melif\u001b[39;00m likelihood\u001b[38;5;241m==\u001b[39m\u001b[38;5;124m'\u001b[39m\u001b[38;5;124mbmWithNoLM\u001b[39m\u001b[38;5;124m'\u001b[39m:\n",
      "Cell \u001b[1;32mIn[49], line 47\u001b[0m, in \u001b[0;36m<listcomp>\u001b[1;34m(.0)\u001b[0m\n\u001b[0;32m     45\u001b[0m \u001b[38;5;28;01melif\u001b[39;00m likelihood\u001b[38;5;241m==\u001b[39m\u001b[38;5;124m'\u001b[39m\u001b[38;5;124mdefaultWithNoLM\u001b[39m\u001b[38;5;124m'\u001b[39m:\n\u001b[0;32m     46\u001b[0m     candidate_count \u001b[38;5;241m=\u001b[39m [\u001b[38;5;28mlen\u001b[39m(_) \u001b[38;5;28;01mfor\u001b[39;00m _ \u001b[38;5;129;01min\u001b[39;00m candidates]  \n\u001b[1;32m---> 47\u001b[0m     modifier_probab \u001b[38;5;241m=\u001b[39m [\u001b[38;5;28msum\u001b[39m([\u001b[38;5;241m-\u001b[39m\u001b[38;5;241m1.5\u001b[39m \u001b[38;5;28;01mif\u001b[39;00m w \u001b[38;5;129;01mnot\u001b[39;00m \u001b[38;5;129;01min\u001b[39;00m final_lexicon_dict \u001b[38;5;28;01melse\u001b[39;00m \u001b[38;5;241m1.0\u001b[39m \u001b[38;5;28;01mfor\u001b[39;00m w \u001b[38;5;129;01min\u001b[39;00m c]) \u001b[38;5;28;01mfor\u001b[39;00m c \u001b[38;5;129;01min\u001b[39;00m cs]\n\u001b[0;32m     48\u001b[0m     sentences_probab_post\u001b[38;5;241m=\u001b[39m[mp\u001b[38;5;241m+\u001b[39m math\u001b[38;5;241m.\u001b[39mlog(constant_distributive_likelihood(sentence,candidate_sentence,candidate_count)) \n\u001b[0;32m     49\u001b[0m                            \u001b[38;5;28;01mfor\u001b[39;00m candidate_sentence,mp \u001b[38;5;129;01min\u001b[39;00m \u001b[38;5;28mzip\u001b[39m(cs,modifier_probab)]\n\u001b[0;32m     50\u001b[0m \u001b[38;5;28;01melif\u001b[39;00m likelihood\u001b[38;5;241m==\u001b[39m\u001b[38;5;124m'\u001b[39m\u001b[38;5;124mbmWithNoLM\u001b[39m\u001b[38;5;124m'\u001b[39m:\n",
      "Cell \u001b[1;32mIn[49], line 47\u001b[0m, in \u001b[0;36m<listcomp>\u001b[1;34m(.0)\u001b[0m\n\u001b[0;32m     45\u001b[0m \u001b[38;5;28;01melif\u001b[39;00m likelihood\u001b[38;5;241m==\u001b[39m\u001b[38;5;124m'\u001b[39m\u001b[38;5;124mdefaultWithNoLM\u001b[39m\u001b[38;5;124m'\u001b[39m:\n\u001b[0;32m     46\u001b[0m     candidate_count \u001b[38;5;241m=\u001b[39m [\u001b[38;5;28mlen\u001b[39m(_) \u001b[38;5;28;01mfor\u001b[39;00m _ \u001b[38;5;129;01min\u001b[39;00m candidates]  \n\u001b[1;32m---> 47\u001b[0m     modifier_probab \u001b[38;5;241m=\u001b[39m [\u001b[38;5;28msum\u001b[39m([\u001b[38;5;241m-\u001b[39m\u001b[38;5;241m1.5\u001b[39m \u001b[38;5;28;01mif\u001b[39;00m w \u001b[38;5;129;01mnot\u001b[39;00m \u001b[38;5;129;01min\u001b[39;00m \u001b[43mfinal_lexicon_dict\u001b[49m \u001b[38;5;28;01melse\u001b[39;00m \u001b[38;5;241m1.0\u001b[39m \u001b[38;5;28;01mfor\u001b[39;00m w \u001b[38;5;129;01min\u001b[39;00m c]) \u001b[38;5;28;01mfor\u001b[39;00m c \u001b[38;5;129;01min\u001b[39;00m cs]\n\u001b[0;32m     48\u001b[0m     sentences_probab_post\u001b[38;5;241m=\u001b[39m[mp\u001b[38;5;241m+\u001b[39m math\u001b[38;5;241m.\u001b[39mlog(constant_distributive_likelihood(sentence,candidate_sentence,candidate_count)) \n\u001b[0;32m     49\u001b[0m                            \u001b[38;5;28;01mfor\u001b[39;00m candidate_sentence,mp \u001b[38;5;129;01min\u001b[39;00m \u001b[38;5;28mzip\u001b[39m(cs,modifier_probab)]\n\u001b[0;32m     50\u001b[0m \u001b[38;5;28;01melif\u001b[39;00m likelihood\u001b[38;5;241m==\u001b[39m\u001b[38;5;124m'\u001b[39m\u001b[38;5;124mbmWithNoLM\u001b[39m\u001b[38;5;124m'\u001b[39m:\n",
      "\u001b[1;31mKeyboardInterrupt\u001b[0m: "
     ]
    }
   ],
   "source": [
    "predicted_tokens = []\n",
    "a = 324\n",
    "for i,s in enumerate(error_sentences):\n",
    "    c = extract_choices(s,model=model,p_lambda =0 ,trie = True,likelihood = 'defaultWithNoLM',model_type = 'transformer')\n",
    "#     print(c)\n",
    "    c = [t[0] for t in c]\n",
    "    predicted_tokens.append(c)\n",
    "    if i%2 == 0:\n",
    "        print(i,WER(correct_tokens[:i+1],predicted_tokens[:i+1] ),word_accuracy(correct_tokens[:i+1],predicted_tokens[:i+1],error_tokens[:i+1]),char_accuracy(correct_tokens[:i+1],predicted_tokens[:i+1],error_tokens[:i+1]))\n",
    "    if i==323:\n",
    "        print(WER(correct_tokens[:a],error_tokens[:a] ),WER(correct_tokens[:a],predicted_tokens[:a] ),word_accuracy(correct_tokens[:a],predicted_tokens[:a],error_tokens[:a]),char_accuracy(correct_tokens[:a],predicted_tokens[:a],error_tokens[:a]))\n",
    "        break  "
   ]
  },
  {
   "cell_type": "code",
   "execution_count": 19,
   "id": "01cb05e4",
   "metadata": {},
   "outputs": [
    {
     "data": {
      "text/plain": [
       "0.25733000623830316"
      ]
     },
     "execution_count": 19,
     "metadata": {},
     "output_type": "execute_result"
    }
   ],
   "source": [
    "WER(correct_tokens[:201],error_tokens[:201] )"
   ]
  },
  {
   "cell_type": "code",
   "execution_count": null,
   "id": "8362ca9d",
   "metadata": {},
   "outputs": [],
   "source": []
  }
 ],
 "metadata": {
  "kernelspec": {
   "display_name": "Python 3 (ipykernel)",
   "language": "python",
   "name": "python3"
  },
  "language_info": {
   "codemirror_mode": {
    "name": "ipython",
    "version": 3
   },
   "file_extension": ".py",
   "mimetype": "text/x-python",
   "name": "python",
   "nbconvert_exporter": "python",
   "pygments_lexer": "ipython3",
   "version": "3.9.5"
  }
 },
 "nbformat": 4,
 "nbformat_minor": 5
}
