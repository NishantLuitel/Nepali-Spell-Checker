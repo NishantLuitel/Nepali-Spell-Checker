{
 "cells": [
  {
   "cell_type": "code",
   "execution_count": 1,
   "id": "0a37fbcc",
   "metadata": {},
   "outputs": [],
   "source": [
    "from Trie import Trie\n",
    "import pickle"
   ]
  },
  {
   "cell_type": "markdown",
   "id": "655a7697",
   "metadata": {},
   "source": [
    "# Save the list of filtered words as mentioned below"
   ]
  },
  {
   "cell_type": "code",
   "execution_count": null,
   "id": "74a93368",
   "metadata": {},
   "outputs": [],
   "source": [
    "def filterer(w):\n",
    "    \n",
    "    #Remove all the words not seperated with '।'\n",
    "    if len(w)>1 and '।' in w:\n",
    "        return False\n",
    "        \n",
    "    if w in char_as_word:\n",
    "        return False\n",
    "    \n",
    "    \n",
    "    #Filter all words with characters not needed\n",
    "    for char in num:\n",
    "        if char in w:\n",
    "            return False\n",
    "        \n",
    "    return True\n",
    "\n",
    "with open('data/saved_words_counter1','rb') as inputfile:\n",
    "    def change_keys(d):\n",
    "        return dict([(k[0], v) for k, v in d.items()])\n",
    "    WORDS_full = pickle.load(inputfile) \n",
    "WORDS_full = Counter(change_keys(WORDS_full))\n",
    "\n",
    "\n",
    "#Filter all words with characters not needed\n",
    "\n",
    "WORDS_ordered = list(dict(WORDS_full.most_common()).keys())\n",
    "WORDS_filtered = filter(filterer,WORDS_ordered)\n",
    "\n",
    "lis = list(WORDS_filtered)\n",
    "\n",
    "#Save if using for first time\n",
    "\n",
    "with open('vocab_list.pickle','wb') as f:\n",
    "    lis = pickle.load(lis,f)  "
   ]
  },
  {
   "cell_type": "code",
   "execution_count": 4,
   "id": "5a021e01",
   "metadata": {},
   "outputs": [],
   "source": [
    "with open('vocab_list.pickle','rb') as vl:\n",
    "    lis = pickle.load(vl)  \n",
    "l  =len(lis)"
   ]
  },
  {
   "cell_type": "markdown",
   "id": "0caffe10",
   "metadata": {},
   "source": [
    "# Save and load trie_depth"
   ]
  },
  {
   "cell_type": "code",
   "execution_count": 5,
   "id": "e248e209",
   "metadata": {},
   "outputs": [],
   "source": [
    "#Find tepth and save for first imt\n",
    "\n",
    "trie_depth = {0:Trie().insert_list(lis[0:int(0.01*l)]),\n",
    "              1:Trie().insert_list(lis[int(0.01*l):int(0.02*l)]),\n",
    "              2:Trie().insert_list(lis[int(0.02*l):int(0.05*l)]),\n",
    "              3:Trie().insert_list(lis[int(0.05*l):int(0.1*l)]),\n",
    "              4:Trie().insert_list(lis[int(0.1*l):int(0.2*l)]),\n",
    "              5:Trie().insert_list(lis[int(0.1*l):int(0.5*l)]),\n",
    "              6:Trie().insert_list(lis[int(0.5*l):])}\n",
    "\n",
    "with open('trie_depth.pickle','wb') as f:\n",
    "    pickle.dump(trie_depth,f)"
   ]
  },
  {
   "cell_type": "code",
   "execution_count": 8,
   "id": "768d5600",
   "metadata": {},
   "outputs": [],
   "source": [
    "with open('trie_depth.pickle','rb') as f:\n",
    "    trie_depth = pickle.load(f)"
   ]
  },
  {
   "cell_type": "markdown",
   "id": "e27412fc",
   "metadata": {},
   "source": [
    "# Save and load depth_dict"
   ]
  },
  {
   "cell_type": "code",
   "execution_count": 9,
   "id": "e5c7716e",
   "metadata": {},
   "outputs": [],
   "source": [
    "depth_dict = {0:lis[0:int(0.01*l)],\n",
    "              1:lis[int(0.01*l):int(0.02*l)],\n",
    "              2:lis[int(0.02*l):int(0.05*l)],\n",
    "              3:lis[int(0.05*l):int(0.1*l)],\n",
    "              4:lis[int(0.1*l):int(0.5*l)],\n",
    "              5:lis[int(0.5*l):l]}\n",
    "with open('depth_dict.pickle','wb') as f:\n",
    "    pickle.dump(depth_dict,f)"
   ]
  },
  {
   "cell_type": "code",
   "execution_count": 10,
   "id": "376bec68",
   "metadata": {},
   "outputs": [],
   "source": [
    "with open('trie_depth.pickle','rb') as f:\n",
    "    depth_dict = pickle.load(f)"
   ]
  },
  {
   "cell_type": "code",
   "execution_count": null,
   "id": "2858df74",
   "metadata": {},
   "outputs": [],
   "source": []
  }
 ],
 "metadata": {
  "kernelspec": {
   "display_name": "Python 3 (ipykernel)",
   "language": "python",
   "name": "python3"
  },
  "language_info": {
   "codemirror_mode": {
    "name": "ipython",
    "version": 3
   },
   "file_extension": ".py",
   "mimetype": "text/x-python",
   "name": "python",
   "nbconvert_exporter": "python",
   "pygments_lexer": "ipython3",
   "version": "3.9.5"
  }
 },
 "nbformat": 4,
 "nbformat_minor": 5
}
