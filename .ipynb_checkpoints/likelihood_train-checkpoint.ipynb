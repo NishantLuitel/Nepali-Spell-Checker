{
 "cells": [
  {
   "cell_type": "code",
   "execution_count": 32,
   "id": "adfa9ef5",
   "metadata": {},
   "outputs": [],
   "source": [
    "from BrillMoore import BrillMoreAcc,BrillMore\n",
    "from Trie import Trie\n",
    "from collections import Counter\n",
    "import pickle"
   ]
  },
  {
   "cell_type": "markdown",
   "id": "fd5967e1",
   "metadata": {},
   "source": [
    "# Load required files"
   ]
  },
  {
   "cell_type": "code",
   "execution_count": 33,
   "id": "6b2faa8e",
   "metadata": {},
   "outputs": [],
   "source": [
    "#Use the counter of vocab made from huge corpus of text\n",
    "with open('data/saved_words_counter1','rb') as inputfile:\n",
    "    def change_keys(d):\n",
    "        return dict([(k[0], v) for k, v in d.items()])\n",
    "    WORDS_full = pickle.load(inputfile) \n",
    "WORDS_full = Counter(change_keys(WORDS_full))\n",
    "    "
   ]
  },
  {
   "cell_type": "code",
   "execution_count": 34,
   "id": "8f4f0b2b",
   "metadata": {},
   "outputs": [],
   "source": [
    "#Originally 30,000*10 = 300000 was used\n",
    "ws = WORDS_full.most_common(30000)\n",
    "ws_dict = dict(ws)"
   ]
  },
  {
   "cell_type": "code",
   "execution_count": 20,
   "id": "98eb0a28",
   "metadata": {},
   "outputs": [],
   "source": [
    "with open('vocabulary-dictionary.txt',encoding=\"utf8\") as f:\n",
    "    lines = [line.rstrip() for line in f]"
   ]
  },
  {
   "cell_type": "code",
   "execution_count": 36,
   "id": "6aa40162",
   "metadata": {},
   "outputs": [],
   "source": [
    "vocab_lines = [word for word in ws_dict if word in lines]"
   ]
  },
  {
   "cell_type": "code",
   "execution_count": 37,
   "id": "09083e34",
   "metadata": {},
   "outputs": [
    {
     "data": {
      "text/plain": [
       "7938"
      ]
     },
     "execution_count": 37,
     "metadata": {},
     "output_type": "execute_result"
    }
   ],
   "source": [
    "len(vocab_lines)"
   ]
  },
  {
   "cell_type": "code",
   "execution_count": 15,
   "id": "82afc13f",
   "metadata": {},
   "outputs": [],
   "source": [
    "with open('vocab_list.pickle','rb') as vl:\n",
    "    lis = pickle.load(vl)\n",
    "    \n",
    "#Create the trie object and insert words into it\n",
    "t = Trie()\n",
    "#Adjust the number :110000 according to your vocabulary\n",
    "for w in lis[:110000]:\n",
    "    t.insert(w)"
   ]
  },
  {
   "cell_type": "code",
   "execution_count": 46,
   "id": "14c3f759",
   "metadata": {},
   "outputs": [
    {
     "data": {
      "text/plain": [
       "True"
      ]
     },
     "execution_count": 46,
     "metadata": {},
     "output_type": "execute_result"
    }
   ],
   "source": [
    "# Look at t\n",
    "t.root.children['ग'].children['र'].children['े'].children['क'].children['ो'].is_end_of_word"
   ]
  },
  {
   "cell_type": "markdown",
   "id": "be1bc69b",
   "metadata": {},
   "source": [
    "# Create a triples dict"
   ]
  },
  {
   "cell_type": "code",
   "execution_count": 38,
   "id": "b49b5650",
   "metadata": {},
   "outputs": [
    {
     "name": "stdout",
     "output_type": "stream",
     "text": [
      "Finished iteration:  100 Count:  7\n"
     ]
    }
   ],
   "source": [
    "# Creating a dict of correct and it's correspong error words from vocab of correct and incorrect words\n",
    "\n",
    "triples_dict3 = {}\n",
    "count = 1\n",
    "scan = 0\n",
    "filter_min_length = 4\n",
    "for w in vocab_lines:\n",
    "\n",
    "#Only look for length greater than `filter_min_length`\n",
    "    if len(w)>filter_min_length:\n",
    "        count_ = WORDS_full[w]\n",
    "        c = list(t.search(w,1))\n",
    "        filtered_words = list(filter(lambda word: True if count_>5*WORDS_full[word] else False,c))\n",
    "        if len(filtered_words)>0 and len(filtered_words) <= 2:\n",
    "            triples_dict3[w] = list(zip(filtered_words,[WORDS_full.get(word) for word in filtered_words]))\n",
    "            count+=1\n",
    "        \n",
    "    scan +=1\n",
    "    if scan%100 == 0:\n",
    "        print(\"Finished iteration: \",scan,\"Count: \",count)\n",
    "    if count == 20:\n",
    "        break"
   ]
  },
  {
   "cell_type": "code",
   "execution_count": null,
   "id": "94561fd8",
   "metadata": {},
   "outputs": [],
   "source": [
    "# Uncomment to Save if running for first time\n",
    "\n",
    "\n",
    "# with open('triples.pickle','wb') as f:\n",
    "#     pickle.dump(triples_dict3,f)"
   ]
  },
  {
   "cell_type": "code",
   "execution_count": 2,
   "id": "a076be72",
   "metadata": {},
   "outputs": [],
   "source": [
    "#Open saved file into a dict\n",
    "with open('triples.pickle','rb') as f:\n",
    "    triples_dict3 = pickle.load(f)"
   ]
  },
  {
   "cell_type": "code",
   "execution_count": 3,
   "id": "74d638f5",
   "metadata": {},
   "outputs": [],
   "source": [
    "# Make triples of (observed word,intended word,count)\n",
    "def make_triples(triples_dict):\n",
    "    triples = []\n",
    "    for iw in triples_dict:\n",
    "        for ow in triples_dict[iw]:\n",
    "            triples.append((ow[0],iw,ow[1]))    \n",
    "    return triples\n",
    "\n",
    "triples = make_triples(triples_dict3)"
   ]
  },
  {
   "cell_type": "markdown",
   "id": "ec954dab",
   "metadata": {},
   "source": [
    "# Fit the model "
   ]
  },
  {
   "cell_type": "code",
   "execution_count": 4,
   "id": "376731f9",
   "metadata": {},
   "outputs": [],
   "source": [
    "#BrillMoreAcc Class\n",
    "\n",
    "bma = BrillMoreAcc()\n",
    "bma.fit(triples)"
   ]
  },
  {
   "cell_type": "code",
   "execution_count": 5,
   "id": "8f3d4b7d",
   "metadata": {},
   "outputs": [
    {
     "data": {
      "text/plain": [
       "0.1288777195583462"
      ]
     },
     "execution_count": 5,
     "metadata": {},
     "output_type": "execute_result"
    }
   ],
   "source": [
    "bma.likelihood('बिवरण','विवरण')"
   ]
  },
  {
   "cell_type": "code",
   "execution_count": 6,
   "id": "8a4c58e4",
   "metadata": {},
   "outputs": [
    {
     "data": {
      "text/plain": [
       "0.1412659743000001"
      ]
     },
     "execution_count": 6,
     "metadata": {},
     "output_type": "execute_result"
    }
   ],
   "source": [
    "bma.likelihood('बिवरण','बिवरण')"
   ]
  },
  {
   "cell_type": "code",
   "execution_count": 7,
   "id": "03cbe737",
   "metadata": {},
   "outputs": [
    {
     "name": "stdout",
     "output_type": "stream",
     "text": [
      "0.1412659743000001\n"
     ]
    }
   ],
   "source": [
    "#Check if probability sums to desired value\n",
    "correcting_word = 'बिवरण'\n",
    "pe = bma.likelihood('बिवरण','बिवरण')\n",
    "sum = 0\n",
    "for k in bma.edit_dict:\n",
    "    if k[0] == None:\n",
    "        sum+=(bma.edit_dict[k]*pe)\n",
    "print(sum)\n",
    "del sum"
   ]
  },
  {
   "cell_type": "code",
   "execution_count": 8,
   "id": "79d9b1b0",
   "metadata": {},
   "outputs": [
    {
     "name": "stdout",
     "output_type": "stream",
     "text": [
      "0.14126597430000007\n"
     ]
    }
   ],
   "source": [
    "#Check if probability sums to desired value\n",
    "sum = 0\n",
    "pe = bma.likelihood('बिवरण','बिवरण')\n",
    "for k in bma.edit_dict:\n",
    "    if k[0] == 'र':\n",
    "        sum+=bma.edit_dict[k]*pe \n",
    "print(sum)\n",
    "del sum"
   ]
  },
  {
   "cell_type": "code",
   "execution_count": 41,
   "id": "f4a23646",
   "metadata": {},
   "outputs": [],
   "source": [
    "#BrillMore Class\n",
    "bm = BrillMore()\n",
    "bm.fit(triples)"
   ]
  },
  {
   "cell_type": "code",
   "execution_count": 42,
   "id": "19b4eb04",
   "metadata": {},
   "outputs": [
    {
     "data": {
      "text/plain": [
       "0.18246109184743162"
      ]
     },
     "execution_count": 42,
     "metadata": {},
     "output_type": "execute_result"
    }
   ],
   "source": [
    "bm.likelihood('बिवरण','विवरण')"
   ]
  },
  {
   "cell_type": "code",
   "execution_count": 43,
   "id": "eeb782fb",
   "metadata": {},
   "outputs": [
    {
     "name": "stdout",
     "output_type": "stream",
     "text": [
      "0.19999999999999996\n"
     ]
    }
   ],
   "source": [
    "\n",
    "#Check if probability sums to desired value\n",
    "sum = 0\n",
    "for k in bm.edit_dict:\n",
    "    if k[0] == None:\n",
    "        sum+=bm.edit_dict[k]\n",
    "print(sum)\n",
    "del sum"
   ]
  },
  {
   "cell_type": "code",
   "execution_count": 44,
   "id": "d241e2e7",
   "metadata": {},
   "outputs": [
    {
     "name": "stdout",
     "output_type": "stream",
     "text": [
      "0.19999999999999996\n"
     ]
    }
   ],
   "source": [
    "#Check if probability sums to desired value\n",
    "sum = 0\n",
    "for k in bm.edit_dict:\n",
    "    if k[0] == 'र':\n",
    "        sum+=bm.edit_dict[k]\n",
    "print(sum)\n",
    "del sum"
   ]
  },
  {
   "cell_type": "markdown",
   "id": "9af6c232",
   "metadata": {},
   "source": [
    "# Save the model "
   ]
  },
  {
   "cell_type": "code",
   "execution_count": 39,
   "id": "755e09da",
   "metadata": {},
   "outputs": [],
   "source": [
    "with open('bma.pickle','wb') as f:\n",
    "    pickle.dump(bma,f)"
   ]
  },
  {
   "cell_type": "code",
   "execution_count": 45,
   "id": "d6ee90c8",
   "metadata": {},
   "outputs": [],
   "source": [
    "with open('bm.pickle','wb') as f:\n",
    "    pickle.dump(bm,f)"
   ]
  },
  {
   "cell_type": "code",
   "execution_count": null,
   "id": "7c3d0a2b",
   "metadata": {},
   "outputs": [],
   "source": []
  }
 ],
 "metadata": {
  "kernelspec": {
   "display_name": "Python 3 (ipykernel)",
   "language": "python",
   "name": "python3"
  },
  "language_info": {
   "codemirror_mode": {
    "name": "ipython",
    "version": 3
   },
   "file_extension": ".py",
   "mimetype": "text/x-python",
   "name": "python",
   "nbconvert_exporter": "python",
   "pygments_lexer": "ipython3",
   "version": "3.9.5"
  }
 },
 "nbformat": 4,
 "nbformat_minor": 5
}
