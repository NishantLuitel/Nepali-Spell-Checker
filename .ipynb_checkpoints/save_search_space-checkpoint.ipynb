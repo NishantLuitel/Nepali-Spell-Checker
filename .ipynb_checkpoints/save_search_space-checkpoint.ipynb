{
 "cells": [
  {
   "cell_type": "code",
   "execution_count": null,
   "id": "3488a956",
   "metadata": {},
   "outputs": [],
   "source": [
    "from Trie import Trie\n",
    "import pickle"
   ]
  },
  {
   "cell_type": "code",
   "execution_count": null,
   "id": "9b9b4dba",
   "metadata": {},
   "outputs": [],
   "source": [
    "with open('vocab_list.pickle','rb') as vl:\n",
    "    lis = pickle.load(vl)    "
   ]
  },
  {
   "cell_type": "code",
   "execution_count": null,
   "id": "505fac62",
   "metadata": {},
   "outputs": [],
   "source": [
    "trie_depth = {0:Trie().insert_list(lis[0:int(0.01*l)]),\n",
    "               1:Trie().insert_list(lis[int(0.01*l):int(0.02*l)]),\n",
    "               2:Trie().insert_list(lis[int(0.02*l):int(0.05*l)]),\n",
    "               3:Trie().insert_list(lis[int(0.05*l):int(0.1*l)]),\n",
    "               4:Trie().insert_list(lis[int(0.1*l):int(0.2*l)]),\n",
    "             5:Trie().insert_list(lis[int(0.1*l):int(0.5*l)]),\n",
    "             6:Trie().insert_list(lis[int(0.5*l):])}"
   ]
  }
 ],
 "metadata": {
  "kernelspec": {
   "display_name": "Julia 1.6.1",
   "language": "julia",
   "name": "julia-1.6"
  },
  "language_info": {
   "file_extension": ".jl",
   "mimetype": "application/julia",
   "name": "julia",
   "version": "1.6.1"
  }
 },
 "nbformat": 4,
 "nbformat_minor": 5
}
