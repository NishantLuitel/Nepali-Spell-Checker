{
 "cells": [
  {
   "cell_type": "code",
   "execution_count": 1,
   "id": "368d5764",
   "metadata": {},
   "outputs": [],
   "source": [
    "from utils import final_candidate_words"
   ]
  },
  {
   "cell_type": "code",
   "execution_count": 2,
   "id": "4da6abf2",
   "metadata": {},
   "outputs": [],
   "source": [
    "from torch import tensor"
   ]
  },
  {
   "cell_type": "code",
   "execution_count": 3,
   "id": "767f6df4",
   "metadata": {},
   "outputs": [
    {
     "data": {
      "text/plain": [
       "['पुस्तकालयबाट', 'पुस्तकलयबाटे']"
      ]
     },
     "execution_count": 3,
     "metadata": {},
     "output_type": "execute_result"
    }
   ],
   "source": [
    "final_candidate_words('पुस्तकलयबाटे',use_trie = True)"
   ]
  },
  {
   "cell_type": "code",
   "execution_count": 4,
   "id": "b702af20",
   "metadata": {},
   "outputs": [
    {
     "data": {
      "text/plain": [
       "['पुस्तकालयबाट', 'पुस्तकलयबाटे']"
      ]
     },
     "execution_count": 4,
     "metadata": {},
     "output_type": "execute_result"
    }
   ],
   "source": [
    "final_candidate_words('पुस्तकलयबाटे')"
   ]
  },
  {
   "cell_type": "code",
   "execution_count": 5,
   "id": "c98c720c",
   "metadata": {},
   "outputs": [
    {
     "data": {
      "text/plain": [
       "['ठुलो', 'ठूलो', 'थुलो', 'ठुला', 'थलो', 'धुलो', 'धूलो']"
      ]
     },
     "execution_count": 5,
     "metadata": {},
     "output_type": "execute_result"
    }
   ],
   "source": [
    "final_candidate_words('थुलो')"
   ]
  },
  {
   "cell_type": "code",
   "execution_count": 3,
   "id": "90a9d855",
   "metadata": {},
   "outputs": [],
   "source": [
    "sample_sentences = ['हरेक सेपालीले नेपामको संविधानक पालना गर्नुपर्छ ।' ,\n",
    "                    'म पुस्तकलयबाटे थुलो किताब पढ्न चाहन्छु ।',\n",
    "                    'तर उस समयमा पनि स्वस्थ राजनैतिक वातावरणको अभावले गर्दा देश विकासतर्फ विशेष प्रगति हुन  सकेन।',\n",
    "                   'नेपालमा आधुनिक रुपमा आर्थक विकाससम्बन्धी कार्यरू प्रारम्भ भएको हालै मात्र हो।',\n",
    "                   'हार धुनुहोस् र स्वास्थ जीवन जिउनुहोस्।',\n",
    "                   'जब प्रवीधिहरू एकीकृत हुन सूरु गर्छन् अर्थतन्त्र तथ सँस्कृति पनि निश्चितरूपमा विस्तारै एकीकृत हुने छ।',\n",
    "                   'उद्देयहरुमा पनि कुनै एक उद्देश्य पूर्ति नहुँदै अर्को नयाँ  उद्देश्यको रुपमा लिइने परम्परा बस्यो।',\n",
    "                   'लगानीकर्ताहरूको धयान तुरुन्त फेरियो , व्यापारीहरूले वताए ।',\n",
    "                    'अति धेरै हिज्जे गलती भएका शब्दहरू । तपाईँले टाइप गर्दा हिज्जे जाँच अक्षम पारयो ।',\n",
    "                    'लामो'\n",
    "                   ]"
   ]
  },
  {
   "cell_type": "markdown",
   "id": "2ce70d0a",
   "metadata": {},
   "source": [
    "# Testing with Knesner ney Language model"
   ]
  },
  {
   "cell_type": "code",
   "execution_count": null,
   "id": "9ca3dfcd",
   "metadata": {},
   "outputs": [],
   "source": [
    "from corrector import extract_choices,return_choices2"
   ]
  },
  {
   "cell_type": "code",
   "execution_count": null,
   "id": "bea39993",
   "metadata": {},
   "outputs": [],
   "source": [
    "import pickle\n",
    "with open('models/saved_model_knlm2','rb') as inputfile:\n",
    "    kn_lm2 = pickle.load(inputfile) "
   ]
  },
  {
   "cell_type": "code",
   "execution_count": 9,
   "id": "76cb2223",
   "metadata": {},
   "outputs": [
    {
     "data": {
      "text/plain": [
       "[['अति', 'ति', 'अनि', 'अलि', 'यति'],\n",
       " ['धेरै'],\n",
       " ['हिज्जे'],\n",
       " ['गलत'],\n",
       " ['भएको', 'भएका'],\n",
       " ['शब्दहरू', 'शब्दहरु'],\n",
       " ['।'],\n",
       " ['तपाईंले', 'तपाईँले'],\n",
       " ['लाइक', 'पाप', 'टाइप', 'पाइप', 'टाइम'],\n",
       " ['गर्दा', 'गर्दै'],\n",
       " ['हिज्जे', 'हिड्ने'],\n",
       " ['जाँच', 'पाँच'],\n",
       " ['अक्षम', 'कक्षमा', 'अक्षय', 'अक्षर', 'सक्षम', 'पक्षमा'],\n",
       " ['पारयो', 'पायो', 'पाइयो', 'पारा', 'परको', 'पारस'],\n",
       " ['।'],\n",
       " []]"
      ]
     },
     "execution_count": 9,
     "metadata": {},
     "output_type": "execute_result"
    }
   ],
   "source": [
    "extract_choices(sample_sentences[8],model=kn_lm2,p_lambda = 0.3,trie = True,likelihood = 'bm')"
   ]
  },
  {
   "cell_type": "code",
   "execution_count": 10,
   "id": "29a2d01f",
   "metadata": {},
   "outputs": [
    {
     "data": {
      "text/plain": [
       "[['म'],\n",
       " ['पुस्तकलयबाटे', 'पुस्तकालयबाट'],\n",
       " ['थुलो', 'ठुलो', 'धूलो', 'ठूलो', 'धुलो', 'थलो', 'ठुला'],\n",
       " ['किताब', 'पिसाब', 'हिसाब'],\n",
       " ['पढ्न'],\n",
       " ['चाहन्छु', 'चाहिन्छ', 'चाहन्छन्', 'चाहन्थे', 'चाहन्छौं', 'चाहन्छ'],\n",
       " ['।', 'ई', 'ओ', 'ः', 'अ'],\n",
       " []]"
      ]
     },
     "execution_count": 10,
     "metadata": {},
     "output_type": "execute_result"
    }
   ],
   "source": [
    "extract_choices(sample_sentences[1],model=kn_lm2,p_lambda = 0.0,trie = True,likelihood = 'default')"
   ]
  },
  {
   "cell_type": "code",
   "execution_count": 11,
   "id": "fda277aa",
   "metadata": {},
   "outputs": [],
   "source": [
    "wc,wp = return_choices2(sample_sentences[2],model=kn_lm2,p_lambda = 0.3,trie = True,likelihood = 'bm')"
   ]
  },
  {
   "cell_type": "code",
   "execution_count": 17,
   "id": "57618c0e",
   "metadata": {},
   "outputs": [
    {
     "data": {
      "text/plain": [
       "[[('तर', 'आस', 'समयमा', 'पनि', 'स्वस्थ'),\n",
       "  ('तर', 'उप', 'समयमा', 'पनि', 'स्वस्थ'),\n",
       "  ('तर', 'उस', 'समयमा', 'पनि', 'स्वस्थ'),\n",
       "  ('तर', 'स', 'समयमा', 'पनि', 'स्वस्थ'),\n",
       "  ('कर', 'उस', 'समयमा', 'पनि', 'स्वस्थ'),\n",
       "  ('तार', 'उस', 'समयमा', 'पनि', 'स्वस्थ'),\n",
       "  ('तर', 'आस', 'समयको', 'पनि', 'स्वस्थ'),\n",
       "  ('तर', 'आस', 'सहरमा', 'पनि', 'स्वस्थ'),\n",
       "  ('पर', 'स', 'समयमा', 'पनि', 'स्वस्थ'),\n",
       "  ('तर', 'आस', 'समयमा', 'पनि', 'अस्वस्थ')],\n",
       " [('स्वस्थ', 'राजनीतिक', 'वातावरणको', 'अभावले', 'गर्दा'),\n",
       "  ('अस्वस्थ', 'राजनीतिक', 'वातावरणको', 'अभावले', 'गर्दा'),\n",
       "  ('स्वस्थ', 'राजनैतिक', 'वातावरणको', 'अभावले', 'गर्दा'),\n",
       "  ('स्वस्थ', 'राजनैतिक', 'वातावरणमा', 'अभावले', 'गर्दा'),\n",
       "  ('अस्वस्थ', 'राजनीति', 'वातावरणको', 'अभावले', 'गर्दा'),\n",
       "  ('स्वस्थ', 'राजनीतिक', 'वातावरणमा', 'अभावले', 'गर्दा'),\n",
       "  ('स्वस्थ', 'राजनीतिक', 'वातावरणको', 'अभावमा', 'गर्दा'),\n",
       "  ('स्वस्थ', 'राजनीतिक', 'वातावरणको', 'अभावले', 'पर्दा'),\n",
       "  ('स्वस्थ', 'राजनीतिक', 'वातावरणको', 'अभावले', 'गर्न'),\n",
       "  ('अस्वस्थ', 'राजनीतिका', 'वातावरणको', 'अभावले', 'गर्दा')],\n",
       " [('गर्दा', 'देश', 'विकासतर्फ', 'विशेष', 'प्रगति'),\n",
       "  ('गर्दा', 'देश', 'विकासतर्फ', 'विशेष', 'प्रति'),\n",
       "  ('पर्दा', 'देश', 'विकासतर्फ', 'विशेष', 'प्रगति'),\n",
       "  ('गर्दै', 'देश', 'विकासतर्फ', 'विशेष', 'प्रगति'),\n",
       "  ('गर्दा', 'देश', 'विकासतर्फ', 'विशेष', 'प्रावि'),\n",
       "  ('गर्दा', 'देश', 'विकासतर्फ', 'विशेष', 'प्रालि'),\n",
       "  ('पर्दा', 'देश', 'विकासतर्फ', 'विशेष', 'प्रति'),\n",
       "  ('गर्दै', 'देश', 'विकासतर्फ', 'विशेष', 'प्रति'),\n",
       "  ('गर्दा', 'देश', 'विकासतर्फ', 'विशेष', 'प्रगतिको'),\n",
       "  ('गर्दा', 'दश', 'विकासतर्फ', 'विशेष', 'प्रगति')],\n",
       " [('प्रगति', 'हुन', 'सकेन', '।'),\n",
       "  ('प्रगति', 'हुन', 'सकेनन्', '।'),\n",
       "  ('प्रगति', 'हुने', 'सकेन', '।'),\n",
       "  ('प्रगति', 'हुन', 'सकिन', '।'),\n",
       "  ('प्रगति', 'हुन', 'सकेर', '।'),\n",
       "  ('प्रगति', 'हुन', 'सकेका', '।'),\n",
       "  ('प्रगति', 'हुनै', 'सकेन', '।'),\n",
       "  ('प्रगति', 'हुन', 'सकेमा', '।'),\n",
       "  ('प्रगति', 'हुन', 'सक्न', '।'),\n",
       "  ('प्रावि', 'हुन्', 'सकेन', '।')]]"
      ]
     },
     "execution_count": 17,
     "metadata": {},
     "output_type": "execute_result"
    }
   ],
   "source": [
    "wc"
   ]
  },
  {
   "cell_type": "code",
   "execution_count": 7,
   "id": "0c31100a",
   "metadata": {},
   "outputs": [
    {
     "data": {
      "text/plain": [
       "[([('तर', 'आस', 'समयमा', 'पनि', 'स्वस्थ'),\n",
       "   ('तर', 'उप', 'समयमा', 'पनि', 'स्वस्थ'),\n",
       "   ('तर', 'उस', 'समयमा', 'पनि', 'स्वस्थ'),\n",
       "   ('तर', 'स', 'समयमा', 'पनि', 'स्वस्थ'),\n",
       "   ('कर', 'उस', 'समयमा', 'पनि', 'स्वस्थ'),\n",
       "   ('तार', 'उस', 'समयमा', 'पनि', 'स्वस्थ'),\n",
       "   ('तर', 'आस', 'समयको', 'पनि', 'स्वस्थ'),\n",
       "   ('तर', 'आस', 'सहरमा', 'पनि', 'स्वस्थ'),\n",
       "   ('पर', 'स', 'समयमा', 'पनि', 'स्वस्थ'),\n",
       "   ('तर', 'आस', 'समयमा', 'पनि', 'अस्वस्थ')],\n",
       "  [-46.05453056303696,\n",
       "   -46.44032601243608,\n",
       "   -48.11849540168839,\n",
       "   -48.93666063888338,\n",
       "   -49.32341562437037,\n",
       "   -49.91554247405139,\n",
       "   -50.00966664269788,\n",
       "   -50.014672315846965,\n",
       "   -50.05962883299812,\n",
       "   -50.08154654631848]),\n",
       " ([('स्वस्थ', 'राजनीतिक', 'वातावरणको', 'अभावले', 'गर्दा'),\n",
       "   ('अस्वस्थ', 'राजनीतिक', 'वातावरणको', 'अभावले', 'गर्दा'),\n",
       "   ('स्वस्थ', 'राजनैतिक', 'वातावरणको', 'अभावले', 'गर्दा'),\n",
       "   ('स्वस्थ', 'राजनैतिक', 'वातावरणमा', 'अभावले', 'गर्दा'),\n",
       "   ('अस्वस्थ', 'राजनीति', 'वातावरणको', 'अभावले', 'गर्दा'),\n",
       "   ('स्वस्थ', 'राजनीतिक', 'वातावरणमा', 'अभावले', 'गर्दा'),\n",
       "   ('स्वस्थ', 'राजनीतिक', 'वातावरणको', 'अभावमा', 'गर्दा'),\n",
       "   ('स्वस्थ', 'राजनीतिक', 'वातावरणको', 'अभावले', 'पर्दा'),\n",
       "   ('स्वस्थ', 'राजनीतिक', 'वातावरणको', 'अभावले', 'गर्न'),\n",
       "   ('अस्वस्थ', 'राजनीतिका', 'वातावरणको', 'अभावले', 'गर्दा')],\n",
       "  [-31.725204000997167,\n",
       "   -35.444468733411476,\n",
       "   -37.441040644096404,\n",
       "   -43.137770824123905,\n",
       "   -43.42443959133735,\n",
       "   -44.44313019292074,\n",
       "   -44.483812985745054,\n",
       "   -44.64325848689029,\n",
       "   -44.74891903281994,\n",
       "   -45.156171299061704]),\n",
       " ([('गर्दा', 'देश', 'विकासतर्फ', 'विशेष', 'प्रगति'),\n",
       "   ('गर्दा', 'देश', 'विकासतर्फ', 'विशेष', 'प्रति'),\n",
       "   ('पर्दा', 'देश', 'विकासतर्फ', 'विशेष', 'प्रगति'),\n",
       "   ('गर्दै', 'देश', 'विकासतर्फ', 'विशेष', 'प्रगति'),\n",
       "   ('गर्दा', 'देश', 'विकासतर्फ', 'विशेष', 'प्रावि'),\n",
       "   ('गर्दा', 'देश', 'विकासतर्फ', 'विशेष', 'प्रालि'),\n",
       "   ('पर्दा', 'देश', 'विकासतर्फ', 'विशेष', 'प्रति'),\n",
       "   ('गर्दै', 'देश', 'विकासतर्फ', 'विशेष', 'प्रति'),\n",
       "   ('गर्दा', 'देश', 'विकासतर्फ', 'विशेष', 'प्रगतिको'),\n",
       "   ('गर्दा', 'दश', 'विकासतर्फ', 'विशेष', 'प्रगति')],\n",
       "  [-39.24765666042136,\n",
       "   -42.13395509292989,\n",
       "   -42.408248539396084,\n",
       "   -44.49890156063423,\n",
       "   -44.994664454613584,\n",
       "   -45.169467178993514,\n",
       "   -45.29454697190461,\n",
       "   -47.38519999314276,\n",
       "   -47.6838943953378,\n",
       "   -48.15261809103687]),\n",
       " ([('प्रगति', 'हुन', 'सकेन', '।'),\n",
       "   ('प्रगति', 'हुन', 'सकेनन्', '।'),\n",
       "   ('प्रगति', 'हुने', 'सकेन', '।'),\n",
       "   ('प्रगति', 'हुन', 'सकिन', '।'),\n",
       "   ('प्रगति', 'हुन', 'सकेर', '।'),\n",
       "   ('प्रगति', 'हुन', 'सकेका', '।'),\n",
       "   ('प्रगति', 'हुनै', 'सकेन', '।'),\n",
       "   ('प्रगति', 'हुन', 'सकेमा', '।'),\n",
       "   ('प्रगति', 'हुन', 'सक्न', '।'),\n",
       "   ('प्रावि', 'हुन्', 'सकेन', '।')],\n",
       "  [-18.236764168780894,\n",
       "   -23.68679108029731,\n",
       "   -24.07317267754587,\n",
       "   -24.31110946168931,\n",
       "   -25.536151862415913,\n",
       "   -25.80169873310247,\n",
       "   -26.512707904024385,\n",
       "   -27.449325658901678,\n",
       "   -28.543898966399198,\n",
       "   -28.731586653404122])]"
      ]
     },
     "execution_count": 7,
     "metadata": {},
     "output_type": "execute_result"
    }
   ],
   "source": [
    "list(zip(wc,wp))"
   ]
  },
  {
   "cell_type": "markdown",
   "id": "baf8f90a",
   "metadata": {},
   "source": [
    "# Testing with transformer model"
   ]
  },
  {
   "cell_type": "code",
   "execution_count": 1,
   "id": "393082b3",
   "metadata": {},
   "outputs": [],
   "source": [
    "from transformer import model\n",
    "import torch"
   ]
  },
  {
   "cell_type": "code",
   "execution_count": 2,
   "id": "0855f5a3",
   "metadata": {},
   "outputs": [],
   "source": [
    "from corrector import extract_choices"
   ]
  },
  {
   "cell_type": "code",
   "execution_count": 3,
   "id": "6049cef4",
   "metadata": {},
   "outputs": [
    {
     "data": {
      "text/plain": [
       "<All keys matched successfully>"
      ]
     },
     "execution_count": 3,
     "metadata": {},
     "output_type": "execute_result"
    }
   ],
   "source": [
    "model.load_state_dict(torch.load('models/transformer_model.pt'))"
   ]
  },
  {
   "cell_type": "code",
   "execution_count": 4,
   "id": "b3c33165",
   "metadata": {},
   "outputs": [],
   "source": [
    "from corrector import correctize_with_window_nn"
   ]
  },
  {
   "cell_type": "code",
   "execution_count": 5,
   "id": "d1e51b6f",
   "metadata": {},
   "outputs": [],
   "source": [
    "from corrector import correctize_with_window_nn_"
   ]
  },
  {
   "cell_type": "code",
   "execution_count": 6,
   "id": "0e4d48a9",
   "metadata": {},
   "outputs": [],
   "source": [
    "from corrector import transformer_probab_final_word"
   ]
  },
  {
   "cell_type": "code",
   "execution_count": 7,
   "id": "6bcdedf4",
   "metadata": {},
   "outputs": [],
   "source": [
    "from corrector import correct_current_word,extract_choices_word"
   ]
  },
  {
   "cell_type": "code",
   "execution_count": 8,
   "id": "f48ab41a",
   "metadata": {},
   "outputs": [],
   "source": [
    "sample_sentences = ['हरेक सेपालीले नेपामको संविधानक पालना गर्नुपर्छ ।' ,\n",
    "                    'म पुस्तकलयबाटे थुलो किताब पढ्न चाहन्छ ।',\n",
    "                    'तर उस समयमा पनि स्वस्थ राजनैतिक वातावरणको अभावले गर्दा देश विकासतर्फ विशेष प्रगति हुन  सकेन।',\n",
    "                   'नेपालमा आधुनिक रुपमा आर्थक विकाससम्बन्धी कार्यरू प्रारम्भ भएको हालै मात्र हो।',\n",
    "                   'हार धुनुहोस् र स्वास्थ जीवन जिउनुहोस्।',\n",
    "                   'जब प्रवीधिहरू एकीकृत हुन सूरु गर्छन् अर्थतन्त्र तथ सँस्कृति पनि निश्चितरूपमा विस्तारै एकीकृत हुने छ।',\n",
    "                   'उद्देयहरुमा पनि कुनै एक उद्देश्य पूर्ति नहुँदै अर्को नयाँ  उद्देश्यको रुपमा लिइने परम्परा बस्यो।',\n",
    "                   'लगानीकर्ताहरूको धयान तुरुन्त फेरियो , व्यापारीहरूले वताए ।',\n",
    "                    'अति धेरै हिज्जे गलती भएका शब्दहरू । तपाईँले टाइप गर्दा हिज्जे जाँच अक्षम पारयो ।',\n",
    "                    'लामो',\n",
    "                    'म नेपाली राम्रोसँग बोल्दिन',\n",
    "                    'तपाईंको उमर कति हो?',\n",
    "                    'मलाइ एक्लै छोडनुहोस्']"
   ]
  },
  {
   "cell_type": "code",
   "execution_count": 9,
   "id": "8858aa1b",
   "metadata": {},
   "outputs": [],
   "source": [
    "def select_tokens(i,j):\n",
    "    s = sample_sentences[i].split()[:j]\n",
    "    return ' '.join(s)\n",
    "    "
   ]
  },
  {
   "cell_type": "code",
   "execution_count": null,
   "id": "e9882e2d",
   "metadata": {},
   "outputs": [],
   "source": [
    "extract_choices_word(sample_sentences[0])"
   ]
  },
  {
   "cell_type": "code",
   "execution_count": 13,
   "id": "97764df6",
   "metadata": {},
   "outputs": [
    {
     "name": "stdout",
     "output_type": "stream",
     "text": [
      "['हरेक', 'सेपालीले', 'नेपामको', 'संविधानक']\n",
      "[['संविधानक', 'संविधानका', 'संविधानको', 'संविधानमा', 'संविधान']]\n",
      "Sentence tensor: tensor([[244],\n",
      "        [  0],\n",
      "        [  0]], device='cuda:0')\n",
      "tensor([   0, 7130, 1246, 2069,  234])\n",
      "tensor([[[ -4.3318,  -8.5321,  -6.2659,  ..., -15.7131, -17.5206, -18.1776]],\n",
      "\n",
      "        [[ -2.6889,  -3.3044,  -3.7202,  ..., -15.7334, -16.3578, -15.4608]],\n",
      "\n",
      "        [[ -2.4742,  -2.5948,  -3.6370,  ..., -15.7733, -16.2825, -15.5735]]],\n",
      "       device='cuda:0', grad_fn=<LogSoftmaxBackward0>) torch.Size([3, 1, 342570]) 3\n",
      "tensor([ -2.4742, -13.4071, -11.4636, -12.4607, -10.1997], device='cuda:0',\n",
      "       grad_fn=<IndexBackward0>)\n",
      "tensor([   0, 7130, 1246, 2069,  234])\n",
      "true\n",
      "tensor([     0,   1987, 239890,  ...,      3,      2,      1], device='cuda:0')\n",
      "tensor([4, 2, 3, 1, 0], device='cuda:0')\n",
      "जान्छु न्यूनीकरण दफा चाहन्छु\n",
      "['संविधान', 'संविधानको', 'संविधानमा', 'संविधानका', 'संविधानक']\n",
      "Prod: संविधानक -2.560639685017959\n",
      "Prod: संविधानका -4.3576867573809555\n",
      "Prod: संविधानको -7.229324638197837\n",
      "Prod: संविधानमा -8.648520999602589\n",
      "Prod: संविधान -3.7615750249768203\n",
      "[['संविधानक', 'संविधानका', 'संविधानको', 'संविधानमा', 'संविधान']] [tensor(-21.9842, grad_fn=<AddBackward0>), tensor(-17.7648, grad_fn=<AddBackward0>), tensor(-18.6929, grad_fn=<AddBackward0>), tensor(-21.1092, grad_fn=<AddBackward0>), tensor(-13.9612, grad_fn=<AddBackward0>)] ['संविधान', 'संविधानका', 'संविधानको', 'संविधानमा', 'संविधानक']\n"
     ]
    },
    {
     "data": {
      "text/plain": [
       "['संविधान', 'संविधानका', 'संविधानको', 'संविधानमा', 'संविधानक']"
      ]
     },
     "execution_count": 13,
     "metadata": {},
     "output_type": "execute_result"
    }
   ],
   "source": [
    "correct_current_word(select_tokens(0,4),model=model,p_lambda = 1,l_lambda = 1,trie = True,likelihood = 'bm')"
   ]
  },
  {
   "cell_type": "code",
   "execution_count": 11,
   "id": "72406e14",
   "metadata": {},
   "outputs": [
    {
     "data": {
      "text/plain": [
       "39"
      ]
     },
     "execution_count": 11,
     "metadata": {},
     "output_type": "execute_result"
    }
   ],
   "source": [
    "len(sample_sentences[1])"
   ]
  },
  {
   "cell_type": "code",
   "execution_count": 12,
   "id": "a2b947f8",
   "metadata": {},
   "outputs": [
    {
     "ename": "RuntimeError",
     "evalue": "shape '[39, -1]' is invalid for input of size 33",
     "output_type": "error",
     "traceback": [
      "\u001b[1;31m---------------------------------------------------------------------------\u001b[0m",
      "\u001b[1;31mRuntimeError\u001b[0m                              Traceback (most recent call last)",
      "Cell \u001b[1;32mIn[12], line 1\u001b[0m\n\u001b[1;32m----> 1\u001b[0m \u001b[43mtransformer_probab_final_word\u001b[49m\u001b[43m(\u001b[49m\u001b[43msample_sentences\u001b[49m\u001b[43m[\u001b[49m\u001b[38;5;241;43m1\u001b[39;49m\u001b[43m]\u001b[49m\u001b[43m)\u001b[49m\n",
      "File \u001b[1;32mF:\\SpellChecker\\transformer.py:424\u001b[0m, in \u001b[0;36mtransformer_probab_final_word\u001b[1;34m(sentence_list, candidates, device)\u001b[0m\n\u001b[0;32m    422\u001b[0m \u001b[38;5;28;01mdef\u001b[39;00m \u001b[38;5;21mtransformer_probab_final_word\u001b[39m(sentence_list, candidates\u001b[38;5;241m=\u001b[39m[], device \u001b[38;5;241m=\u001b[39m device):\n\u001b[1;32m--> 424\u001b[0m     sentence_tensor \u001b[38;5;241m=\u001b[39m \u001b[43mpreprocess_list\u001b[49m\u001b[43m(\u001b[49m\u001b[43msentence_list\u001b[49m\u001b[43m,\u001b[49m\u001b[43mdevice\u001b[49m\u001b[43m \u001b[49m\u001b[38;5;241;43m=\u001b[39;49m\u001b[43m \u001b[49m\u001b[43mdevice\u001b[49m\u001b[43m)\u001b[49m[:\u001b[38;5;241m-\u001b[39m\u001b[38;5;241m1\u001b[39m]\u001b[38;5;241m.\u001b[39mto(device)\n\u001b[0;32m    425\u001b[0m     \u001b[38;5;28mprint\u001b[39m(\u001b[38;5;124m\"\u001b[39m\u001b[38;5;124mSentence tensor:\u001b[39m\u001b[38;5;124m\"\u001b[39m,sentence_tensor)\n\u001b[0;32m    427\u001b[0m     candidate_sti \u001b[38;5;241m=\u001b[39m preprocess_list([\u001b[38;5;124m'\u001b[39m\u001b[38;5;124m \u001b[39m\u001b[38;5;124m'\u001b[39m\u001b[38;5;241m.\u001b[39mjoin(candidates[\u001b[38;5;241m0\u001b[39m])])\u001b[38;5;241m.\u001b[39msqueeze(\u001b[38;5;241m1\u001b[39m)\n",
      "File \u001b[1;32mF:\\SpellChecker\\transformer.py:408\u001b[0m, in \u001b[0;36mpreprocess_list\u001b[1;34m(sentences, device)\u001b[0m\n\u001b[0;32m    406\u001b[0m     length \u001b[38;5;241m=\u001b[39m \u001b[38;5;28mlen\u001b[39m(sentences)\n\u001b[0;32m    407\u001b[0m \u001b[38;5;66;03m#     st_i = torch.stack([data_process(sent) for sent in sentences]).to(device) \u001b[39;00m\n\u001b[1;32m--> 408\u001b[0m     st_i \u001b[38;5;241m=\u001b[39m \u001b[43mdata_process\u001b[49m\u001b[43m(\u001b[49m\u001b[43msentences\u001b[49m\u001b[43m)\u001b[49m\u001b[38;5;241;43m.\u001b[39;49m\u001b[43mreshape\u001b[49m\u001b[43m(\u001b[49m\u001b[43mlength\u001b[49m\u001b[43m,\u001b[49m\u001b[38;5;241;43m-\u001b[39;49m\u001b[38;5;241;43m1\u001b[39;49m\u001b[43m)\u001b[49m\u001b[38;5;241m.\u001b[39mT\n\u001b[0;32m    409\u001b[0m \u001b[38;5;66;03m#     st_i = st_i.squeeze(0)   \u001b[39;00m\n\u001b[0;32m    410\u001b[0m     \u001b[38;5;28;01mreturn\u001b[39;00m st_i\n",
      "\u001b[1;31mRuntimeError\u001b[0m: shape '[39, -1]' is invalid for input of size 33"
     ]
    }
   ],
   "source": [
    "transformer_probab_final_word(sample_sentences[1])"
   ]
  },
  {
   "cell_type": "code",
   "execution_count": null,
   "id": "69f1ee07",
   "metadata": {},
   "outputs": [],
   "source": [
    "correctize_with_window_nn(sample_sentences[2],model=model,p_lambda = 0.8,trie = True,likelihood = 'bm')"
   ]
  },
  {
   "cell_type": "code",
   "execution_count": null,
   "id": "4a740408",
   "metadata": {},
   "outputs": [],
   "source": [
    "correctize_with_window_nn_(sample_sentences[2],model=model,p_lambda = 0.8,trie = True,likelihood = 'bm')"
   ]
  },
  {
   "cell_type": "code",
   "execution_count": null,
   "id": "b9447501",
   "metadata": {},
   "outputs": [],
   "source": [
    "wc,wp = return_choices2(sample_sentences[4],model=model,p_lambda = 1.5,trie = True,likelihood = 'bm',model_type = 'transformer')"
   ]
  },
  {
   "cell_type": "code",
   "execution_count": null,
   "id": "3e7f9a80",
   "metadata": {},
   "outputs": [],
   "source": [
    "extract_choices(sample_sentences[-1],model=model,p_lambda = 1.5,trie = True,likelihood = 'bm',model_type = 'transformer')"
   ]
  },
  {
   "cell_type": "code",
   "execution_count": null,
   "id": "530afca0",
   "metadata": {},
   "outputs": [],
   "source": [
    "wc"
   ]
  },
  {
   "cell_type": "code",
   "execution_count": null,
   "id": "6a41ed5c",
   "metadata": {},
   "outputs": [],
   "source": [
    "wc,wp = return_choices2(sample_sentences[1],model=model,p_lambda = 1.5,trie = True,likelihood = 'bm',model_type = 'transformer')"
   ]
  },
  {
   "cell_type": "code",
   "execution_count": null,
   "id": "28ae8592",
   "metadata": {},
   "outputs": [],
   "source": [
    "wc"
   ]
  },
  {
   "cell_type": "code",
   "execution_count": null,
   "id": "65f92757",
   "metadata": {},
   "outputs": [],
   "source": [
    "list(zip(wc,wp))"
   ]
  },
  {
   "cell_type": "code",
   "execution_count": null,
   "id": "1eef0006",
   "metadata": {},
   "outputs": [],
   "source": [
    "wc"
   ]
  },
  {
   "cell_type": "code",
   "execution_count": null,
   "id": "0410dad8",
   "metadata": {},
   "outputs": [],
   "source": [
    "# extract_choices(a,model=model,p_lambda = 1.5,trie = True,likelihood = 'bm',model_type = 'transformer')"
   ]
  },
  {
   "cell_type": "code",
   "execution_count": null,
   "id": "660ff89e",
   "metadata": {},
   "outputs": [],
   "source": [
    "# Substitution based "
   ]
  },
  {
   "cell_type": "code",
   "execution_count": null,
   "id": "999a340f",
   "metadata": {},
   "outputs": [],
   "source": [
    "a = 'तिमीलै कता जाना मन छ ?'\n",
    "b = 'आज मा स्कुल जादिन'\n",
    "c = 'तिमि यता आऊ त !'"
   ]
  },
  {
   "cell_type": "code",
   "execution_count": null,
   "id": "1fe086a4",
   "metadata": {},
   "outputs": [],
   "source": [
    "sample_sentences = ['हरेक सेपालीले नेपामको संविधानक पालना गर्नुपर्छ ।' ,\n",
    "                    'म पुस्तकलयबाटे थुलो किताब पढ्न चाहन्छु ।',\n",
    "                    'तर उस समयमा पनि स्वस्थ राजनैतिक वातावरणको अभावले गर्दा देश विकासतर्फ विशेष प्रगति हुन  सकेन।',\n",
    "                   'नेपालमा आधुनिक रुपमा आर्थक विकाससम्बन्धी कार्यरू प्रारम्भ भएको हालै मात्र हो।',\n",
    "                   'हार धुनुहोस् र स्वास्थ जीवन जिउनुहोस्।',\n",
    "                   'जब प्रवीधिहरू एकीकृत हुन सूरु गर्छन् अर्थतन्त्र तथ सँस्कृति पनि निश्चितरूपमा विस्तारै एकीकृत हुने छ।',\n",
    "                   'उद्देयहरुमा पनि कुनै एक उद्देश्य पूर्ति नहुँदै अर्को नयाँ  उद्देश्यको रुपमा लिइने परम्परा बस्यो।',\n",
    "                   'लगानीकर्ताहरूको धयान तुरुन्त फेरियो , व्यापारीहरूले वताए ।',\n",
    "                    'अति धेरै हिज्जे गलती भएका शब्दहरू । तपाईँले टाइप गर्दा हिज्जे जाँच अक्षम पारयो ।',\n",
    "                    'लामो',\n",
    "                    'म नेपाली राम्रोसँग बोल्दिन',\n",
    "                    'तपाईंको उमर कति हो?',\n",
    "                    'मलाइ एक्लै छोडनुहोस्',\n",
    "                    c,\n",
    "                    b,\n",
    "                    a\n",
    "                    \n",
    "                   ]"
   ]
  },
  {
   "cell_type": "code",
   "execution_count": null,
   "id": "8449d88e",
   "metadata": {},
   "outputs": [],
   "source": []
  },
  {
   "cell_type": "code",
   "execution_count": 16,
   "id": "e8e77409",
   "metadata": {},
   "outputs": [
    {
     "name": "stdout",
     "output_type": "stream",
     "text": [
      "Length of candidates: 3125\n",
      "In candidate_probabilities...\n",
      "49\n",
      "Done...\n",
      "Length of candidates: 1875\n",
      "In candidate_probabilities...\n",
      "30\n",
      "Done...\n",
      "Length of candidates: 625\n",
      "In candidate_probabilities...\n",
      "10\n",
      "Done...\n",
      "Length of candidates: 625\n",
      "In candidate_probabilities...\n",
      "10\n",
      "Done...\n"
     ]
    },
    {
     "data": {
      "text/plain": [
       "[['तर', 'तार', 'कर'],\n",
       " ['उस', 'आस', 'उसो', 'उप'],\n",
       " ['समयमा', 'समयमै'],\n",
       " ['पनि', 'उनि'],\n",
       " ['स्वस्थ', 'अस्वस्थ'],\n",
       " ['राजनीतिक', 'राजनैतिक', 'राजनीति', 'राजनीतिका', 'राजनीतिको'],\n",
       " ['वातावरणको'],\n",
       " ['अभावले', 'अभावमा'],\n",
       " ['गर्दा', 'गर्दै', 'गर्ला'],\n",
       " ['देश', 'दश'],\n",
       " ['विकासतर्फ'],\n",
       " ['विशेष', 'बिशेष'],\n",
       " ['प्रगति', 'प्रति', 'प्रालि', 'प्रगतिको'],\n",
       " ['हुन', 'जुन'],\n",
       " ['सकेन', 'सकेनन्', 'सकिन', 'सकिएन'],\n",
       " ['।']]"
      ]
     },
     "execution_count": 16,
     "metadata": {},
     "output_type": "execute_result"
    }
   ],
   "source": [
    "extract_choices(sample_sentences[2],model=model,p_lambda = 0.8,trie = True,likelihood = 'bm',model_type = 'transformer')"
   ]
  },
  {
   "cell_type": "code",
   "execution_count": 18,
   "id": "5dc6ec63",
   "metadata": {},
   "outputs": [
    {
     "data": {
      "text/plain": [
       "['म पुस्तकालयबाट ठुलो किताब पढ्न']"
      ]
     },
     "execution_count": 18,
     "metadata": {},
     "output_type": "execute_result"
    }
   ],
   "source": [
    "[' '.join(('म', 'पुस्तकालयबाट', 'ठुलो', 'किताब', 'पढ्न'))]"
   ]
  },
  {
   "cell_type": "code",
   "execution_count": 8,
   "id": "324afa4d",
   "metadata": {},
   "outputs": [
    {
     "data": {
      "text/plain": [
       "tensor([-142.8868, -143.8868])"
      ]
     },
     "execution_count": 8,
     "metadata": {},
     "output_type": "execute_result"
    }
   ],
   "source": [
    "torch.flip(torch.tensor([torch.tensor(-143.8868),torch.tensor(-142.8868)]),dims = (0,))"
   ]
  },
  {
   "cell_type": "code",
   "execution_count": null,
   "id": "39352bf8",
   "metadata": {},
   "outputs": [],
   "source": [
    "#Limitation of transformer model : Less candidate sentences are genereated due to Computational issues"
   ]
  }
 ],
 "metadata": {
  "kernelspec": {
   "display_name": "Python 3 (ipykernel)",
   "language": "python",
   "name": "python3"
  },
  "language_info": {
   "codemirror_mode": {
    "name": "ipython",
    "version": 3
   },
   "file_extension": ".py",
   "mimetype": "text/x-python",
   "name": "python",
   "nbconvert_exporter": "python",
   "pygments_lexer": "ipython3",
   "version": "3.9.5"
  }
 },
 "nbformat": 4,
 "nbformat_minor": 5
}
